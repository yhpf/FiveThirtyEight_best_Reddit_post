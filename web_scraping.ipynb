{
 "cells": [
  {
   "cell_type": "markdown",
   "metadata": {},
   "source": [
    "# Scrape Reddit to get data"
   ]
  },
  {
   "cell_type": "markdown",
   "metadata": {},
   "source": [
    "## Import stuff"
   ]
  },
  {
   "cell_type": "code",
   "execution_count": 12,
   "metadata": {
    "collapsed": true
   },
   "outputs": [],
   "source": [
    "import requests\n",
    "import pandas as pd\n",
    "import time\n",
    "from bs4 import BeautifulSoup"
   ]
  },
  {
   "cell_type": "markdown",
   "metadata": {
    "collapsed": true
   },
   "source": [
    "Write https://www.reddit.com/robots.txt to look and see that it is ok the scrape Reddit\n",
    "    \n",
    "User-Agent: *<BR />\n",
    "Allow: /\n",
    "\n",
    "We are good to go! :)"
   ]
  },
  {
   "cell_type": "markdown",
   "metadata": {},
   "source": [
    "## Scrape data"
   ]
  },
  {
   "cell_type": "code",
   "execution_count": 13,
   "metadata": {
    "collapsed": true
   },
   "outputs": [],
   "source": [
    "URL = 'https://www.reddit.com/'"
   ]
  },
  {
   "cell_type": "code",
   "execution_count": 18,
   "metadata": {},
   "outputs": [
    {
     "name": "stdout",
     "output_type": "stream",
     "text": [
      "Attempting to get https://www.reddit.com/\n",
      "Got one page\n",
      "Attempting to get https://www.reddit.com/?User-agent=osx%3Aga-project%3Av1.0.1+%28by+%2Fu%2Fnoaccount%29&count=25&after=t3_7yf7h3\n",
      "Got one page\n",
      "Attempting to get https://www.reddit.com/?User-agent=osx%3Aga-project%3Av1.0.1+%28by+%2Fu%2Fnoaccount%29&count=50&after=t3_7yge5f\n",
      "Attempting to get https://www.reddit.com/?User-agent=osx%3Aga-project%3Av1.0.1+%28by+%2Fu%2Fnoaccount%29&count=50&after=t3_7yge5f\n",
      "Attempting to get https://www.reddit.com/?User-agent=osx%3Aga-project%3Av1.0.1+%28by+%2Fu%2Fnoaccount%29&count=50&after=t3_7yge5f\n",
      "Got one page\n",
      "Attempting to get https://www.reddit.com/?User-agent=osx%3Aga-project%3Av1.0.1+%28by+%2Fu%2Fnoaccount%29&count=75&after=t3_7ydxx8\n",
      "Got one page\n",
      "Attempting to get https://www.reddit.com/?User-agent=osx%3Aga-project%3Av1.0.1+%28by+%2Fu%2Fnoaccount%29&count=100&after=t3_7yfkzh\n",
      "Got one page\n",
      "Attempting to get https://www.reddit.com/?User-agent=osx%3Aga-project%3Av1.0.1+%28by+%2Fu%2Fnoaccount%29&count=125&after=t3_7yean2\n",
      "Got one page\n",
      "Attempting to get https://www.reddit.com/?User-agent=osx%3Aga-project%3Av1.0.1+%28by+%2Fu%2Fnoaccount%29&count=150&after=t3_7yg52a\n",
      "Attempting to get https://www.reddit.com/?User-agent=osx%3Aga-project%3Av1.0.1+%28by+%2Fu%2Fnoaccount%29&count=150&after=t3_7yg52a\n",
      "Attempting to get https://www.reddit.com/?User-agent=osx%3Aga-project%3Av1.0.1+%28by+%2Fu%2Fnoaccount%29&count=150&after=t3_7yg52a\n",
      "Got one page\n",
      "Attempting to get https://www.reddit.com/?User-agent=osx%3Aga-project%3Av1.0.1+%28by+%2Fu%2Fnoaccount%29&count=175&after=t3_7ydu37\n",
      "Got one page\n",
      "Attempting to get https://www.reddit.com/?User-agent=osx%3Aga-project%3Av1.0.1+%28by+%2Fu%2Fnoaccount%29&count=200&after=t3_7ye6uw\n",
      "Got one page\n",
      "Attempting to get https://www.reddit.com/?User-agent=osx%3Aga-project%3Av1.0.1+%28by+%2Fu%2Fnoaccount%29&count=225&after=t3_7yeyhg\n",
      "Got one page\n",
      "Attempting to get https://www.reddit.com/?User-agent=osx%3Aga-project%3Av1.0.1+%28by+%2Fu%2Fnoaccount%29&count=250&after=t3_7yft04\n",
      "Attempting to get https://www.reddit.com/?User-agent=osx%3Aga-project%3Av1.0.1+%28by+%2Fu%2Fnoaccount%29&count=250&after=t3_7yft04\n",
      "Attempting to get https://www.reddit.com/?User-agent=osx%3Aga-project%3Av1.0.1+%28by+%2Fu%2Fnoaccount%29&count=250&after=t3_7yft04\n",
      "Attempting to get https://www.reddit.com/?User-agent=osx%3Aga-project%3Av1.0.1+%28by+%2Fu%2Fnoaccount%29&count=250&after=t3_7yft04\n",
      "Got one page\n",
      "Attempting to get https://www.reddit.com/?User-agent=osx%3Aga-project%3Av1.0.1+%28by+%2Fu%2Fnoaccount%29&count=275&after=t3_7yelj2\n",
      "Got one page\n",
      "Attempting to get https://www.reddit.com/?User-agent=osx%3Aga-project%3Av1.0.1+%28by+%2Fu%2Fnoaccount%29&count=300&after=t3_7yfoo6\n",
      "Attempting to get https://www.reddit.com/?User-agent=osx%3Aga-project%3Av1.0.1+%28by+%2Fu%2Fnoaccount%29&count=300&after=t3_7yfoo6\n",
      "Attempting to get https://www.reddit.com/?User-agent=osx%3Aga-project%3Av1.0.1+%28by+%2Fu%2Fnoaccount%29&count=300&after=t3_7yfoo6\n",
      "Attempting to get https://www.reddit.com/?User-agent=osx%3Aga-project%3Av1.0.1+%28by+%2Fu%2Fnoaccount%29&count=300&after=t3_7yfoo6\n",
      "Got one page\n",
      "Attempting to get https://www.reddit.com/?User-agent=osx%3Aga-project%3Av1.0.1+%28by+%2Fu%2Fnoaccount%29&count=325&after=t3_7ye93n\n",
      "Got one page\n",
      "Attempting to get https://www.reddit.com/?User-agent=osx%3Aga-project%3Av1.0.1+%28by+%2Fu%2Fnoaccount%29&count=350&after=t3_7yg44n\n",
      "Got one page\n",
      "Attempting to get https://www.reddit.com/?User-agent=osx%3Aga-project%3Av1.0.1+%28by+%2Fu%2Fnoaccount%29&count=375&after=t3_7yenes\n",
      "Attempting to get https://www.reddit.com/?User-agent=osx%3Aga-project%3Av1.0.1+%28by+%2Fu%2Fnoaccount%29&count=375&after=t3_7yenes\n",
      "Attempting to get https://www.reddit.com/?User-agent=osx%3Aga-project%3Av1.0.1+%28by+%2Fu%2Fnoaccount%29&count=375&after=t3_7yenes\n",
      "Got one page\n",
      "Attempting to get https://www.reddit.com/?User-agent=osx%3Aga-project%3Av1.0.1+%28by+%2Fu%2Fnoaccount%29&count=400&after=t3_7yh53t\n",
      "Got one page\n",
      "Attempting to get https://www.reddit.com/?User-agent=osx%3Aga-project%3Av1.0.1+%28by+%2Fu%2Fnoaccount%29&count=425&after=t3_7ycjt6\n",
      "Attempting to get https://www.reddit.com/?User-agent=osx%3Aga-project%3Av1.0.1+%28by+%2Fu%2Fnoaccount%29&count=425&after=t3_7ycjt6\n",
      "Attempting to get https://www.reddit.com/?User-agent=osx%3Aga-project%3Av1.0.1+%28by+%2Fu%2Fnoaccount%29&count=425&after=t3_7ycjt6\n",
      "Attempting to get https://www.reddit.com/?User-agent=osx%3Aga-project%3Av1.0.1+%28by+%2Fu%2Fnoaccount%29&count=425&after=t3_7ycjt6\n",
      "Got one page\n",
      "Attempting to get https://www.reddit.com/?User-agent=osx%3Aga-project%3Av1.0.1+%28by+%2Fu%2Fnoaccount%29&count=450&after=t3_7yfejl\n",
      "Got one page\n",
      "Attempting to get https://www.reddit.com/?User-agent=osx%3Aga-project%3Av1.0.1+%28by+%2Fu%2Fnoaccount%29&count=475&after=t3_7yenww\n",
      "Got one page\n",
      "Attempting to get https://www.reddit.com/?User-agent=osx%3Aga-project%3Av1.0.1+%28by+%2Fu%2Fnoaccount%29&count=500&after=t3_7ydzzs\n",
      "Got one page\n",
      "Attempting to get https://www.reddit.com/?User-agent=osx%3Aga-project%3Av1.0.1+%28by+%2Fu%2Fnoaccount%29&count=525&after=t3_7yg0ss\n",
      "Got one page\n"
     ]
    },
    {
     "ename": "AttributeError",
     "evalue": "'NoneType' object has no attribute 'find'",
     "output_type": "error",
     "traceback": [
      "\u001b[0;31m---------------------------------------------------------------------------\u001b[0m",
      "\u001b[0;31mAttributeError\u001b[0m                            Traceback (most recent call last)",
      "\u001b[0;32m<ipython-input-18-1338bbc12af7>\u001b[0m in \u001b[0;36m<module>\u001b[0;34m()\u001b[0m\n\u001b[1;32m     12\u001b[0m             \u001b[0mreddit_hot_posts\u001b[0m\u001b[0;34m.\u001b[0m\u001b[0mappend\u001b[0m\u001b[0;34m(\u001b[0m\u001b[0mhtml\u001b[0m\u001b[0;34m)\u001b[0m\u001b[0;34m\u001b[0m\u001b[0m\n\u001b[1;32m     13\u001b[0m             \u001b[0msoup\u001b[0m \u001b[0;34m=\u001b[0m \u001b[0mBeautifulSoup\u001b[0m\u001b[0;34m(\u001b[0m\u001b[0mhtml\u001b[0m\u001b[0;34m,\u001b[0m \u001b[0;34m'lxml'\u001b[0m\u001b[0;34m)\u001b[0m\u001b[0;34m\u001b[0m\u001b[0m\n\u001b[0;32m---> 14\u001b[0;31m             \u001b[0murl\u001b[0m \u001b[0;34m=\u001b[0m \u001b[0msoup\u001b[0m\u001b[0;34m.\u001b[0m\u001b[0mfind\u001b[0m\u001b[0;34m(\u001b[0m\u001b[0;34m'span'\u001b[0m\u001b[0;34m,\u001b[0m \u001b[0;34m{\u001b[0m\u001b[0;34m'class'\u001b[0m\u001b[0;34m:\u001b[0m\u001b[0;34m'next-button'\u001b[0m\u001b[0;34m}\u001b[0m\u001b[0;34m)\u001b[0m\u001b[0;34m.\u001b[0m\u001b[0mfind\u001b[0m\u001b[0;34m(\u001b[0m\u001b[0;34m'a'\u001b[0m\u001b[0;34m)\u001b[0m\u001b[0;34m.\u001b[0m\u001b[0mget\u001b[0m\u001b[0;34m(\u001b[0m\u001b[0;34m'href'\u001b[0m\u001b[0;34m)\u001b[0m\u001b[0;34m\u001b[0m\u001b[0m\n\u001b[0m\u001b[1;32m     15\u001b[0m             \u001b[0;32mbreak\u001b[0m\u001b[0;34m\u001b[0m\u001b[0m\n\u001b[1;32m     16\u001b[0m         \u001b[0mtime\u001b[0m\u001b[0;34m.\u001b[0m\u001b[0msleep\u001b[0m\u001b[0;34m(\u001b[0m\u001b[0;36m3\u001b[0m\u001b[0;34m)\u001b[0m \u001b[0;31m#  make the loop sleep 3 sec between the requests\u001b[0m\u001b[0;34m\u001b[0m\u001b[0m\n",
      "\u001b[0;31mAttributeError\u001b[0m: 'NoneType' object has no attribute 'find'"
     ]
    }
   ],
   "source": [
    "# make loops to get the data\n",
    "reddit_hot_posts = []\n",
    "url = URL\n",
    "\n",
    "while len(reddit_hot_posts) < 22: # there are in total 22 pages with hot post (we need this to stop the whileloop when we are done)\n",
    "    while True:\n",
    "        print('Attempting to get', url) # print so that I can see what's happening\n",
    "        response = requests.get(url, {'User-agent': 'osx:ga-project:v1.0.1 (by /u/noaccount)'}) # Reddit API also said to put a user name in. https://github.com/reddit-archive/reddit/wiki/API (under Rules)\n",
    "        html = response.text\n",
    "        if html.find('Too Many Requests') == -1: # when I do not get 'Too Many Requests' we are have that page (This worked for this time, but might be a problem if someone actually have written that string in Reddit)\n",
    "            print('Got one page') # print so that I can see what's happening\n",
    "            reddit_hot_posts.append(html) # add tage to list\n",
    "            soup = BeautifulSoup(html, 'lxml')\n",
    "            url = soup.find('span', {'class':'next-button'}).find('a').get('href') # find next page with help from the url link behind the next button\n",
    "            break \n",
    "        time.sleep(3) #  make the loop sleep 3 sec between the requests \n",
    "\n",
    "# the reddit API said make no more than 30 requests per minute.\n",
    "# source for this info is Adam :)"
   ]
  },
  {
   "cell_type": "markdown",
   "metadata": {},
   "source": [
    "### Save the data as a Pandas data frame"
   ]
  },
  {
   "cell_type": "code",
   "execution_count": 19,
   "metadata": {
    "collapsed": true
   },
   "outputs": [],
   "source": [
    "reddit_df = pd.DataFrame(reddit_hot_posts,columns=['doc'])"
   ]
  },
  {
   "cell_type": "markdown",
   "metadata": {},
   "source": [
    "### Save the data to a csv-file"
   ]
  },
  {
   "cell_type": "code",
   "execution_count": 20,
   "metadata": {
    "collapsed": true
   },
   "outputs": [],
   "source": [
    "reddit_df.to_csv('reddit_data.csv')"
   ]
  },
  {
   "cell_type": "code",
   "execution_count": null,
   "metadata": {
    "collapsed": true
   },
   "outputs": [],
   "source": []
  }
 ],
 "metadata": {
  "kernelspec": {
   "display_name": "Python [default]",
   "language": "python",
   "name": "python3"
  },
  "language_info": {
   "codemirror_mode": {
    "name": "ipython",
    "version": 3
   },
   "file_extension": ".py",
   "mimetype": "text/x-python",
   "name": "python",
   "nbconvert_exporter": "python",
   "pygments_lexer": "ipython3",
   "version": "3.6.3"
  }
 },
 "nbformat": 4,
 "nbformat_minor": 2
}
