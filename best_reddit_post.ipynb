{
 "cells": [
  {
   "cell_type": "markdown",
   "metadata": {
    "focus": false,
    "id": "69b9a648-bcc7-490d-9f9b-ea244d156bd6"
   },
   "source": [
    "# Web Scraping for Reddit & Predicting Comments"
   ]
  },
  {
   "cell_type": "markdown",
   "metadata": {},
   "source": [
    "## Import stuff"
   ]
  },
  {
   "cell_type": "code",
   "execution_count": 441,
   "metadata": {
    "collapsed": true
   },
   "outputs": [],
   "source": [
    "import requests\n",
    "import pandas as pd\n",
    "from bs4 import BeautifulSoup\n",
    "import time\n",
    "from sklearn.feature_extraction.text import CountVectorizer, HashingVectorizer\n",
    "from sklearn.model_selection import train_test_split\n",
    "from sklearn.preprocessing import StandardScaler\n",
    "from sklearn.linear_model import LogisticRegression\n",
    "from sklearn.model_selection import cross_val_score, cross_val_predict\n",
    "import sklearn.metrics\n",
    "from sklearn.grid_search import GridSearchCV\n",
    "from sklearn.linear_model import LogisticRegressionCV\n",
    "from sklearn.ensemble import RandomForestClassifier\n",
    "from sklearn.datasets import make_classification\n",
    "from sklearn.metrics import classification_report\n",
    "\n",
    "from matplotlib import pyplot as plt\n",
    "import numpy as np \n",
    "from scipy import stats\n",
    "import seaborn as sns\n",
    "\n",
    "plt.style.use('fivethirtyeight')\n",
    "\n",
    "%matplotlib inline"
   ]
  },
  {
   "cell_type": "markdown",
   "metadata": {},
   "source": [
    "## Get the data"
   ]
  },
  {
   "cell_type": "markdown",
   "metadata": {
    "collapsed": true
   },
   "source": [
    "I choose to scrape the data in another Jupyter Notebook, so I don't accidentally re-run it and get different data.<BR />\n",
    "I saved it as a csv. named reddit_data.csv<BR />\n",
    "The data was scraped and saved to csv-file on Feb 18th 2018 at 6:15 pm"
   ]
  },
  {
   "cell_type": "markdown",
   "metadata": {},
   "source": [
    "## Load the data"
   ]
  },
  {
   "cell_type": "code",
   "execution_count": 442,
   "metadata": {},
   "outputs": [
    {
     "data": {
      "text/html": [
       "<div>\n",
       "<style>\n",
       "    .dataframe thead tr:only-child th {\n",
       "        text-align: right;\n",
       "    }\n",
       "\n",
       "    .dataframe thead th {\n",
       "        text-align: left;\n",
       "    }\n",
       "\n",
       "    .dataframe tbody tr th {\n",
       "        vertical-align: top;\n",
       "    }\n",
       "</style>\n",
       "<table border=\"1\" class=\"dataframe\">\n",
       "  <thead>\n",
       "    <tr style=\"text-align: right;\">\n",
       "      <th></th>\n",
       "      <th>Unnamed: 0</th>\n",
       "      <th>doc</th>\n",
       "    </tr>\n",
       "  </thead>\n",
       "  <tbody>\n",
       "    <tr>\n",
       "      <th>0</th>\n",
       "      <td>0</td>\n",
       "      <td>&lt;!doctype html&gt;&lt;html xmlns=\"http://www.w3.org/...</td>\n",
       "    </tr>\n",
       "    <tr>\n",
       "      <th>1</th>\n",
       "      <td>1</td>\n",
       "      <td>&lt;!doctype html&gt;&lt;html xmlns=\"http://www.w3.org/...</td>\n",
       "    </tr>\n",
       "    <tr>\n",
       "      <th>2</th>\n",
       "      <td>2</td>\n",
       "      <td>&lt;!doctype html&gt;&lt;html xmlns=\"http://www.w3.org/...</td>\n",
       "    </tr>\n",
       "  </tbody>\n",
       "</table>\n",
       "</div>"
      ],
      "text/plain": [
       "   Unnamed: 0                                                doc\n",
       "0           0  <!doctype html><html xmlns=\"http://www.w3.org/...\n",
       "1           1  <!doctype html><html xmlns=\"http://www.w3.org/...\n",
       "2           2  <!doctype html><html xmlns=\"http://www.w3.org/..."
      ]
     },
     "execution_count": 442,
     "metadata": {},
     "output_type": "execute_result"
    }
   ],
   "source": [
    "reddit_df = pd.read_csv('./reddit_data.csv')\n",
    "\n",
    "reddit_df.head(3) "
   ]
  },
  {
   "cell_type": "markdown",
   "metadata": {},
   "source": [
    "#### Make data frame into a list to make it easier to work with"
   ]
  },
  {
   "cell_type": "code",
   "execution_count": 443,
   "metadata": {
    "collapsed": true
   },
   "outputs": [],
   "source": [
    "rlist = reddit_df['doc'].tolist() "
   ]
  },
  {
   "cell_type": "markdown",
   "metadata": {},
   "source": [
    "## Get required info\n",
    "1. The title of the thread\n",
    "2. The subreddit that the thread corresponds to\n",
    "3. The length of time it has been up on Reddit\n",
    "4. The number of comments on the thread"
   ]
  },
  {
   "cell_type": "markdown",
   "metadata": {},
   "source": [
    "### Function to get data out of pages (titles, subreddits, time since posted, comments)"
   ]
  },
  {
   "cell_type": "code",
   "execution_count": 444,
   "metadata": {
    "collapsed": true
   },
   "outputs": [],
   "source": [
    "def get_data_from_page(page):\n",
    "    soup = BeautifulSoup(page, 'lxml')\n",
    "    data_needed = []\n",
    "    elements = soup.find_all('div', {'class':'entry'})\n",
    "    for element in elements: \n",
    "        title = element.find('a', {'class':'title'}).text\n",
    "        subreddit = element.find('a', {'class':'subreddit'}).text\n",
    "        time_up = element.find('time', {'class':'live-timestamp'}).text\n",
    "        comment = element.find('a', {'class':'bylink'}).text\n",
    "        data_needed.append([title, subreddit, time_up, comment])     \n",
    "    return data_needed"
   ]
  },
  {
   "cell_type": "markdown",
   "metadata": {},
   "source": [
    "#### Run function to get the data from the pages"
   ]
  },
  {
   "cell_type": "code",
   "execution_count": 445,
   "metadata": {
    "scrolled": true
   },
   "outputs": [
    {
     "data": {
      "text/html": [
       "<div>\n",
       "<style>\n",
       "    .dataframe thead tr:only-child th {\n",
       "        text-align: right;\n",
       "    }\n",
       "\n",
       "    .dataframe thead th {\n",
       "        text-align: left;\n",
       "    }\n",
       "\n",
       "    .dataframe tbody tr th {\n",
       "        vertical-align: top;\n",
       "    }\n",
       "</style>\n",
       "<table border=\"1\" class=\"dataframe\">\n",
       "  <thead>\n",
       "    <tr style=\"text-align: right;\">\n",
       "      <th></th>\n",
       "      <th>title</th>\n",
       "      <th>subreddit</th>\n",
       "      <th>time_up</th>\n",
       "      <th>comments</th>\n",
       "    </tr>\n",
       "  </thead>\n",
       "  <tbody>\n",
       "    <tr>\n",
       "      <th>0</th>\n",
       "      <td>Top U.S. officials tell the world to ignore Tr...</td>\n",
       "      <td>r/worldnews</td>\n",
       "      <td>4 hours ago</td>\n",
       "      <td>834 comments</td>\n",
       "    </tr>\n",
       "    <tr>\n",
       "      <th>1</th>\n",
       "      <td>a cult classic</td>\n",
       "      <td>r/evilbuildings</td>\n",
       "      <td>3 hours ago</td>\n",
       "      <td>315 comments</td>\n",
       "    </tr>\n",
       "    <tr>\n",
       "      <th>2</th>\n",
       "      <td>Randy Bryce slams Paul Ryan for snubbing Flori...</td>\n",
       "      <td>r/BlueMidterm2018</td>\n",
       "      <td>6 hours ago</td>\n",
       "      <td>390 comments</td>\n",
       "    </tr>\n",
       "  </tbody>\n",
       "</table>\n",
       "</div>"
      ],
      "text/plain": [
       "                                               title          subreddit  \\\n",
       "0  Top U.S. officials tell the world to ignore Tr...        r/worldnews   \n",
       "1                                     a cult classic    r/evilbuildings   \n",
       "2  Randy Bryce slams Paul Ryan for snubbing Flori...  r/BlueMidterm2018   \n",
       "\n",
       "       time_up      comments  \n",
       "0  4 hours ago  834 comments  \n",
       "1  3 hours ago  315 comments  \n",
       "2  6 hours ago  390 comments  "
      ]
     },
     "execution_count": 445,
     "metadata": {},
     "output_type": "execute_result"
    }
   ],
   "source": [
    "reddit_data = pd.DataFrame(columns=['title', 'subreddit', 'time_up', 'comments'])\n",
    "for page in rlist:\n",
    "    data = get_data_from_page(page)\n",
    "    for line in data:\n",
    "        reddit_data = reddit_data.append(pd.Series(line, index=reddit_data.columns),ignore_index=True)\n",
    "\n",
    "reddit_data.head(3)"
   ]
  },
  {
   "cell_type": "markdown",
   "metadata": {},
   "source": [
    "#### Look and tail to see that all data is in"
   ]
  },
  {
   "cell_type": "code",
   "execution_count": 446,
   "metadata": {},
   "outputs": [
    {
     "data": {
      "text/html": [
       "<div>\n",
       "<style>\n",
       "    .dataframe thead tr:only-child th {\n",
       "        text-align: right;\n",
       "    }\n",
       "\n",
       "    .dataframe thead th {\n",
       "        text-align: left;\n",
       "    }\n",
       "\n",
       "    .dataframe tbody tr th {\n",
       "        vertical-align: top;\n",
       "    }\n",
       "</style>\n",
       "<table border=\"1\" class=\"dataframe\">\n",
       "  <thead>\n",
       "    <tr style=\"text-align: right;\">\n",
       "      <th></th>\n",
       "      <th>title</th>\n",
       "      <th>subreddit</th>\n",
       "      <th>time_up</th>\n",
       "      <th>comments</th>\n",
       "    </tr>\n",
       "  </thead>\n",
       "  <tbody>\n",
       "    <tr>\n",
       "      <th>534</th>\n",
       "      <td>🎶 Okay ladies, now let's get into gaping 🎶</td>\n",
       "      <td>r/BlackPeopleTwitter</td>\n",
       "      <td>4 hours ago</td>\n",
       "      <td>6 comments</td>\n",
       "    </tr>\n",
       "    <tr>\n",
       "      <th>535</th>\n",
       "      <td>The Joker put in that work (work work work wor...</td>\n",
       "      <td>r/BlackPeopleTwitter</td>\n",
       "      <td>5 hours ago</td>\n",
       "      <td>17 comments</td>\n",
       "    </tr>\n",
       "    <tr>\n",
       "      <th>536</th>\n",
       "      <td>How not to Diplomatic Flag of Nepal</td>\n",
       "      <td>r/vexillology</td>\n",
       "      <td>10 hours ago</td>\n",
       "      <td>64 comments</td>\n",
       "    </tr>\n",
       "    <tr>\n",
       "      <th>537</th>\n",
       "      <td>Buzz Lightbeer</td>\n",
       "      <td>r/funny</td>\n",
       "      <td>8 hours ago</td>\n",
       "      <td>31 comments</td>\n",
       "    </tr>\n",
       "    <tr>\n",
       "      <th>538</th>\n",
       "      <td>“2018 is a gays only event”</td>\n",
       "      <td>r/CringeAnarchy</td>\n",
       "      <td>10 hours ago</td>\n",
       "      <td>94 comments</td>\n",
       "    </tr>\n",
       "  </tbody>\n",
       "</table>\n",
       "</div>"
      ],
      "text/plain": [
       "                                                 title             subreddit  \\\n",
       "534         🎶 Okay ladies, now let's get into gaping 🎶  r/BlackPeopleTwitter   \n",
       "535  The Joker put in that work (work work work wor...  r/BlackPeopleTwitter   \n",
       "536                How not to Diplomatic Flag of Nepal         r/vexillology   \n",
       "537                                     Buzz Lightbeer               r/funny   \n",
       "538                        “2018 is a gays only event”       r/CringeAnarchy   \n",
       "\n",
       "          time_up     comments  \n",
       "534   4 hours ago   6 comments  \n",
       "535   5 hours ago  17 comments  \n",
       "536  10 hours ago  64 comments  \n",
       "537   8 hours ago  31 comments  \n",
       "538  10 hours ago  94 comments  "
      ]
     },
     "execution_count": 446,
     "metadata": {},
     "output_type": "execute_result"
    }
   ],
   "source": [
    "reddit_data.tail() "
   ]
  },
  {
   "cell_type": "markdown",
   "metadata": {
    "collapsed": true
   },
   "source": [
    "## Munge the Data"
   ]
  },
  {
   "cell_type": "code",
   "execution_count": 447,
   "metadata": {},
   "outputs": [
    {
     "name": "stdout",
     "output_type": "stream",
     "text": [
      "<class 'pandas.core.frame.DataFrame'>\n",
      "RangeIndex: 539 entries, 0 to 538\n",
      "Data columns (total 4 columns):\n",
      "title        539 non-null object\n",
      "subreddit    539 non-null object\n",
      "time_up      539 non-null object\n",
      "comments     539 non-null object\n",
      "dtypes: object(4)\n",
      "memory usage: 16.9+ KB\n"
     ]
    }
   ],
   "source": [
    "reddit_data.info()"
   ]
  },
  {
   "cell_type": "markdown",
   "metadata": {},
   "source": [
    "### Work the time_up column"
   ]
  },
  {
   "cell_type": "markdown",
   "metadata": {},
   "source": [
    "#### Remove the text string ' hours ago'"
   ]
  },
  {
   "cell_type": "code",
   "execution_count": 448,
   "metadata": {
    "collapsed": true,
    "scrolled": true
   },
   "outputs": [],
   "source": [
    "reddit_data['time_up'] = reddit_data['time_up'].str.replace(' hours ago', '')\n",
    "reddit_data['time_up'] = reddit_data['time_up'].str.replace(' hour ago', '')"
   ]
  },
  {
   "cell_type": "markdown",
   "metadata": {},
   "source": [
    "#### Make the rest of the string to numeric"
   ]
  },
  {
   "cell_type": "code",
   "execution_count": 449,
   "metadata": {
    "collapsed": true
   },
   "outputs": [],
   "source": [
    "reddit_data['time_up'] = pd.to_numeric(reddit_data['time_up'])"
   ]
  },
  {
   "cell_type": "markdown",
   "metadata": {},
   "source": [
    "#### Look at the data type"
   ]
  },
  {
   "cell_type": "code",
   "execution_count": 450,
   "metadata": {},
   "outputs": [
    {
     "data": {
      "text/plain": [
       "title        object\n",
       "subreddit    object\n",
       "time_up       int64\n",
       "comments     object\n",
       "dtype: object"
      ]
     },
     "execution_count": 450,
     "metadata": {},
     "output_type": "execute_result"
    }
   ],
   "source": [
    "reddit_data.dtypes"
   ]
  },
  {
   "cell_type": "markdown",
   "metadata": {},
   "source": [
    "#### Look at the unique values"
   ]
  },
  {
   "cell_type": "code",
   "execution_count": 451,
   "metadata": {},
   "outputs": [
    {
     "data": {
      "text/plain": [
       "array([ 4,  3,  6,  5,  7,  9,  8, 10, 12,  2, 11, 13, 14, 15, 16, 17,  1,\n",
       "       18])"
      ]
     },
     "execution_count": 451,
     "metadata": {},
     "output_type": "execute_result"
    }
   ],
   "source": [
    "reddit_data['time_up'].unique()"
   ]
  },
  {
   "cell_type": "markdown",
   "metadata": {},
   "source": [
    "### Work the comments column"
   ]
  },
  {
   "cell_type": "markdown",
   "metadata": {},
   "source": [
    "#### Remove the text string ' comments'"
   ]
  },
  {
   "cell_type": "code",
   "execution_count": 452,
   "metadata": {
    "collapsed": true
   },
   "outputs": [],
   "source": [
    "reddit_data['comments'] = reddit_data['comments'].str.replace(' comments', '')"
   ]
  },
  {
   "cell_type": "markdown",
   "metadata": {},
   "source": [
    "#### Make the rest of the string to numeric"
   ]
  },
  {
   "cell_type": "code",
   "execution_count": 453,
   "metadata": {
    "collapsed": true
   },
   "outputs": [],
   "source": [
    "reddit_data['comments'] = pd.to_numeric(reddit_data['comments'])"
   ]
  },
  {
   "cell_type": "markdown",
   "metadata": {},
   "source": [
    "#### Look at the data type"
   ]
  },
  {
   "cell_type": "code",
   "execution_count": 454,
   "metadata": {},
   "outputs": [
    {
     "data": {
      "text/plain": [
       "title        object\n",
       "subreddit    object\n",
       "time_up       int64\n",
       "comments      int64\n",
       "dtype: object"
      ]
     },
     "execution_count": 454,
     "metadata": {},
     "output_type": "execute_result"
    }
   ],
   "source": [
    "reddit_data.dtypes"
   ]
  },
  {
   "cell_type": "markdown",
   "metadata": {},
   "source": [
    "#### Look at the unique values"
   ]
  },
  {
   "cell_type": "code",
   "execution_count": 455,
   "metadata": {
    "scrolled": true
   },
   "outputs": [
    {
     "data": {
      "text/plain": [
       "array([ 834,  315,  390,  351,  979,  327,  116,  774,  395,  226,  128,\n",
       "        654,  520,  744,  338,  184,  985,  109,  278,  617,   88,  411,\n",
       "        326,  129, 2131,  145,   96,   72,  270, 1553,  797,  252, 1110,\n",
       "        234,  285,  511,  210, 1786,  255,  139,  279,   54,  124,  115,\n",
       "       1201, 1993,   73,  573,  331,  597,   61,   71, 2350,  463,  667,\n",
       "         94,  169,   89,  848,  670,  151,  217,  374,  732,  179, 2276,\n",
       "        136, 5261,  651, 1391,  479,  211,   75,  394,   49,   82,  707,\n",
       "        100,  319,   67,   35,   80,  144,   87,   77,   52,   95,  204,\n",
       "        272, 1352,   62,  307,   41, 3164,  177,   66,   86,   31,   64,\n",
       "        642,  897,  123,  191,   68,  119,  127,   32,  516,   43,   20,\n",
       "        818,  182, 3896,   21,   37,  164,  254,   39,  170,   40,  288,\n",
       "        330,   30,   26,  174,   99,  643, 1098,   50,   98,  113,   59,\n",
       "        133,  462,  881,   84,  194,  245,  135,   74,   12,   10,   97,\n",
       "        512,  108,   22,  101,  195,  111,   42,  125,   28,   65,  502,\n",
       "        159,   14,   56,   16,   76,  422,   25,  265,   17,  353,   23,\n",
       "        140,   78,  450,  382,   48,   47,  228,   51,  207,  132,   60,\n",
       "         27,  193, 1914,   57,   13,   58,   63,   24,  161,  231,  447,\n",
       "       1571,  206,   15,   69,   53,  107,   11,  114, 1213,  143,    7,\n",
       "         83,   55,  199,  259,  366,    3, 1059,   38,   45,  850,   29,\n",
       "          8,   36,    5,    4,   18,  258,   70,  106,   19,  121,  367,\n",
       "          9,   46,  894,  202,  345, 1124,   34,  112,  172,  180,  103,\n",
       "        246, 1234,   33,  162,    6,  146,  102,  158])"
      ]
     },
     "execution_count": 455,
     "metadata": {},
     "output_type": "execute_result"
    }
   ],
   "source": [
    "reddit_data['comments'].unique()"
   ]
  },
  {
   "cell_type": "markdown",
   "metadata": {},
   "source": [
    "### Look for missing values"
   ]
  },
  {
   "cell_type": "code",
   "execution_count": 456,
   "metadata": {},
   "outputs": [
    {
     "data": {
      "text/plain": [
       "title        0\n",
       "subreddit    0\n",
       "time_up      0\n",
       "comments     0\n",
       "dtype: int64"
      ]
     },
     "execution_count": 456,
     "metadata": {},
     "output_type": "execute_result"
    }
   ],
   "source": [
    "reddit_data.isnull().sum()"
   ]
  },
  {
   "cell_type": "markdown",
   "metadata": {},
   "source": [
    "### Handle duplicates"
   ]
  },
  {
   "cell_type": "markdown",
   "metadata": {},
   "source": [
    "#### Total numbers of posts"
   ]
  },
  {
   "cell_type": "code",
   "execution_count": 457,
   "metadata": {},
   "outputs": [
    {
     "data": {
      "text/plain": [
       "539"
      ]
     },
     "execution_count": 457,
     "metadata": {},
     "output_type": "execute_result"
    }
   ],
   "source": [
    "len(reddit_data)"
   ]
  },
  {
   "cell_type": "markdown",
   "metadata": {},
   "source": [
    "#### Total numbers of posts without duplicates"
   ]
  },
  {
   "cell_type": "code",
   "execution_count": 458,
   "metadata": {},
   "outputs": [
    {
     "data": {
      "text/plain": [
       "456"
      ]
     },
     "execution_count": 458,
     "metadata": {},
     "output_type": "execute_result"
    }
   ],
   "source": [
    "len(reddit_data['title'].unique())"
   ]
  },
  {
   "cell_type": "markdown",
   "metadata": {},
   "source": [
    "#### Drop duplicated rows based on title column"
   ]
  },
  {
   "cell_type": "code",
   "execution_count": 459,
   "metadata": {
    "collapsed": true
   },
   "outputs": [],
   "source": [
    "reddit_data = reddit_data.drop_duplicates(subset=['title'], keep='first')"
   ]
  },
  {
   "cell_type": "markdown",
   "metadata": {},
   "source": [
    "#### Look and see that rows were dropped correctly"
   ]
  },
  {
   "cell_type": "code",
   "execution_count": 460,
   "metadata": {},
   "outputs": [
    {
     "data": {
      "text/plain": [
       "456"
      ]
     },
     "execution_count": 460,
     "metadata": {},
     "output_type": "execute_result"
    }
   ],
   "source": [
    "len(reddit_data)"
   ]
  },
  {
   "cell_type": "markdown",
   "metadata": {},
   "source": [
    "### Look at statistical data for numerci columns"
   ]
  },
  {
   "cell_type": "code",
   "execution_count": 461,
   "metadata": {},
   "outputs": [
    {
     "data": {
      "text/html": [
       "<div>\n",
       "<style>\n",
       "    .dataframe thead tr:only-child th {\n",
       "        text-align: right;\n",
       "    }\n",
       "\n",
       "    .dataframe thead th {\n",
       "        text-align: left;\n",
       "    }\n",
       "\n",
       "    .dataframe tbody tr th {\n",
       "        vertical-align: top;\n",
       "    }\n",
       "</style>\n",
       "<table border=\"1\" class=\"dataframe\">\n",
       "  <thead>\n",
       "    <tr style=\"text-align: right;\">\n",
       "      <th></th>\n",
       "      <th>time_up</th>\n",
       "      <th>comments</th>\n",
       "    </tr>\n",
       "  </thead>\n",
       "  <tbody>\n",
       "    <tr>\n",
       "      <th>count</th>\n",
       "      <td>456.000000</td>\n",
       "      <td>456.000000</td>\n",
       "    </tr>\n",
       "    <tr>\n",
       "      <th>mean</th>\n",
       "      <td>7.585526</td>\n",
       "      <td>215.458333</td>\n",
       "    </tr>\n",
       "    <tr>\n",
       "      <th>std</th>\n",
       "      <td>3.188118</td>\n",
       "      <td>465.189143</td>\n",
       "    </tr>\n",
       "    <tr>\n",
       "      <th>min</th>\n",
       "      <td>1.000000</td>\n",
       "      <td>3.000000</td>\n",
       "    </tr>\n",
       "    <tr>\n",
       "      <th>25%</th>\n",
       "      <td>5.000000</td>\n",
       "      <td>31.000000</td>\n",
       "    </tr>\n",
       "    <tr>\n",
       "      <th>50%</th>\n",
       "      <td>7.000000</td>\n",
       "      <td>72.000000</td>\n",
       "    </tr>\n",
       "    <tr>\n",
       "      <th>75%</th>\n",
       "      <td>9.000000</td>\n",
       "      <td>177.500000</td>\n",
       "    </tr>\n",
       "    <tr>\n",
       "      <th>max</th>\n",
       "      <td>18.000000</td>\n",
       "      <td>5261.000000</td>\n",
       "    </tr>\n",
       "  </tbody>\n",
       "</table>\n",
       "</div>"
      ],
      "text/plain": [
       "          time_up     comments\n",
       "count  456.000000   456.000000\n",
       "mean     7.585526   215.458333\n",
       "std      3.188118   465.189143\n",
       "min      1.000000     3.000000\n",
       "25%      5.000000    31.000000\n",
       "50%      7.000000    72.000000\n",
       "75%      9.000000   177.500000\n",
       "max     18.000000  5261.000000"
      ]
     },
     "execution_count": 461,
     "metadata": {},
     "output_type": "execute_result"
    }
   ],
   "source": [
    "reddit_data.describe()"
   ]
  },
  {
   "cell_type": "markdown",
   "metadata": {},
   "source": [
    "### Create  dummies for subreddits"
   ]
  },
  {
   "cell_type": "code",
   "execution_count": 462,
   "metadata": {},
   "outputs": [
    {
     "data": {
      "text/html": [
       "<div>\n",
       "<style>\n",
       "    .dataframe thead tr:only-child th {\n",
       "        text-align: right;\n",
       "    }\n",
       "\n",
       "    .dataframe thead th {\n",
       "        text-align: left;\n",
       "    }\n",
       "\n",
       "    .dataframe tbody tr th {\n",
       "        vertical-align: top;\n",
       "    }\n",
       "</style>\n",
       "<table border=\"1\" class=\"dataframe\">\n",
       "  <thead>\n",
       "    <tr style=\"text-align: right;\">\n",
       "      <th></th>\n",
       "      <th>r/2meirl4meirl</th>\n",
       "      <th>r/ATBGE</th>\n",
       "      <th>r/AbandonedPorn</th>\n",
       "      <th>r/AccidentalRenaissance</th>\n",
       "      <th>r/AccidentalWesAnderson</th>\n",
       "      <th>r/Android</th>\n",
       "      <th>r/AnimalTextGifs</th>\n",
       "      <th>r/AnimalsBeingDerps</th>\n",
       "      <th>r/ArcherFX</th>\n",
       "      <th>r/Art</th>\n",
       "      <th>...</th>\n",
       "      <th>r/wholesomebpt</th>\n",
       "      <th>r/wholesomegifs</th>\n",
       "      <th>r/woahdude</th>\n",
       "      <th>r/wokekids</th>\n",
       "      <th>r/worldnews</th>\n",
       "      <th>r/worldpolitics</th>\n",
       "      <th>r/xboxone</th>\n",
       "      <th>r/youdontsurf</th>\n",
       "      <th>r/youseeingthisshit</th>\n",
       "      <th>r/youtubehaiku</th>\n",
       "    </tr>\n",
       "  </thead>\n",
       "  <tbody>\n",
       "    <tr>\n",
       "      <th>0</th>\n",
       "      <td>0</td>\n",
       "      <td>0</td>\n",
       "      <td>0</td>\n",
       "      <td>0</td>\n",
       "      <td>0</td>\n",
       "      <td>0</td>\n",
       "      <td>0</td>\n",
       "      <td>0</td>\n",
       "      <td>0</td>\n",
       "      <td>0</td>\n",
       "      <td>...</td>\n",
       "      <td>0</td>\n",
       "      <td>0</td>\n",
       "      <td>0</td>\n",
       "      <td>0</td>\n",
       "      <td>1</td>\n",
       "      <td>0</td>\n",
       "      <td>0</td>\n",
       "      <td>0</td>\n",
       "      <td>0</td>\n",
       "      <td>0</td>\n",
       "    </tr>\n",
       "    <tr>\n",
       "      <th>1</th>\n",
       "      <td>0</td>\n",
       "      <td>0</td>\n",
       "      <td>0</td>\n",
       "      <td>0</td>\n",
       "      <td>0</td>\n",
       "      <td>0</td>\n",
       "      <td>0</td>\n",
       "      <td>0</td>\n",
       "      <td>0</td>\n",
       "      <td>0</td>\n",
       "      <td>...</td>\n",
       "      <td>0</td>\n",
       "      <td>0</td>\n",
       "      <td>0</td>\n",
       "      <td>0</td>\n",
       "      <td>0</td>\n",
       "      <td>0</td>\n",
       "      <td>0</td>\n",
       "      <td>0</td>\n",
       "      <td>0</td>\n",
       "      <td>0</td>\n",
       "    </tr>\n",
       "    <tr>\n",
       "      <th>2</th>\n",
       "      <td>0</td>\n",
       "      <td>0</td>\n",
       "      <td>0</td>\n",
       "      <td>0</td>\n",
       "      <td>0</td>\n",
       "      <td>0</td>\n",
       "      <td>0</td>\n",
       "      <td>0</td>\n",
       "      <td>0</td>\n",
       "      <td>0</td>\n",
       "      <td>...</td>\n",
       "      <td>0</td>\n",
       "      <td>0</td>\n",
       "      <td>0</td>\n",
       "      <td>0</td>\n",
       "      <td>0</td>\n",
       "      <td>0</td>\n",
       "      <td>0</td>\n",
       "      <td>0</td>\n",
       "      <td>0</td>\n",
       "      <td>0</td>\n",
       "    </tr>\n",
       "  </tbody>\n",
       "</table>\n",
       "<p>3 rows × 314 columns</p>\n",
       "</div>"
      ],
      "text/plain": [
       "   r/2meirl4meirl  r/ATBGE  r/AbandonedPorn  r/AccidentalRenaissance  \\\n",
       "0               0        0                0                        0   \n",
       "1               0        0                0                        0   \n",
       "2               0        0                0                        0   \n",
       "\n",
       "   r/AccidentalWesAnderson  r/Android  r/AnimalTextGifs  r/AnimalsBeingDerps  \\\n",
       "0                        0          0                 0                    0   \n",
       "1                        0          0                 0                    0   \n",
       "2                        0          0                 0                    0   \n",
       "\n",
       "   r/ArcherFX  r/Art       ...        r/wholesomebpt  r/wholesomegifs  \\\n",
       "0           0      0       ...                     0                0   \n",
       "1           0      0       ...                     0                0   \n",
       "2           0      0       ...                     0                0   \n",
       "\n",
       "   r/woahdude  r/wokekids  r/worldnews  r/worldpolitics  r/xboxone  \\\n",
       "0           0           0            1                0          0   \n",
       "1           0           0            0                0          0   \n",
       "2           0           0            0                0          0   \n",
       "\n",
       "   r/youdontsurf  r/youseeingthisshit  r/youtubehaiku  \n",
       "0              0                    0               0  \n",
       "1              0                    0               0  \n",
       "2              0                    0               0  \n",
       "\n",
       "[3 rows x 314 columns]"
      ]
     },
     "execution_count": 462,
     "metadata": {},
     "output_type": "execute_result"
    }
   ],
   "source": [
    "df_subreddit = pd.get_dummies(reddit_data['subreddit'])\n",
    "\n",
    "df_subreddit.head(3)"
   ]
  },
  {
   "cell_type": "markdown",
   "metadata": {},
   "source": [
    "#### Look at the 10 most occuring features (10 subreddits with highest count in or model)"
   ]
  },
  {
   "cell_type": "code",
   "execution_count": 463,
   "metadata": {
    "scrolled": true
   },
   "outputs": [
    {
     "data": {
      "text/plain": [
       "r/pics                  16\n",
       "r/aww                   15\n",
       "r/funny                 11\n",
       "r/FortNiteBR             8\n",
       "r/BlackPeopleTwitter     8\n",
       "r/todayilearned          8\n",
       "r/rupaulsdragrace        5\n",
       "r/marvelstudios          5\n",
       "r/food                   5\n",
       "r/rarepuppers            4\n",
       "dtype: int64"
      ]
     },
     "execution_count": 463,
     "metadata": {},
     "output_type": "execute_result"
    }
   ],
   "source": [
    "top_subreddit = df_subreddit.sum().transpose().sort_values(0, ascending=False).transpose().head(10)\n",
    "\n",
    "top_subreddit"
   ]
  },
  {
   "cell_type": "markdown",
   "metadata": {},
   "source": [
    "### Plot number of posts from different subreddits"
   ]
  },
  {
   "cell_type": "code",
   "execution_count": 464,
   "metadata": {},
   "outputs": [
    {
     "data": {
      "image/png": "[encoded data removed]",
      "text/plain": [
       "<matplotlib.figure.Figure at 0x1a0d326550>"
      ]
     },
     "metadata": {},
     "output_type": "display_data"
    }
   ],
   "source": [
    "df_subreddit.sum().transpose().sort_values(0, ascending=False).transpose().plot.line()\n",
    "\n",
    "plt.xlabel('Subreddit');\n",
    "plt.ylabel('Nr of posts');\n",
    "plt.title('Number of posts from different subreddits');"
   ]
  },
  {
   "cell_type": "markdown",
   "metadata": {},
   "source": [
    "### Add subreddit dummies to data frame"
   ]
  },
  {
   "cell_type": "code",
   "execution_count": 465,
   "metadata": {},
   "outputs": [
    {
     "data": {
      "text/html": [
       "<div>\n",
       "<style>\n",
       "    .dataframe thead tr:only-child th {\n",
       "        text-align: right;\n",
       "    }\n",
       "\n",
       "    .dataframe thead th {\n",
       "        text-align: left;\n",
       "    }\n",
       "\n",
       "    .dataframe tbody tr th {\n",
       "        vertical-align: top;\n",
       "    }\n",
       "</style>\n",
       "<table border=\"1\" class=\"dataframe\">\n",
       "  <thead>\n",
       "    <tr style=\"text-align: right;\">\n",
       "      <th></th>\n",
       "      <th>title</th>\n",
       "      <th>subreddit</th>\n",
       "      <th>time_up</th>\n",
       "      <th>comments</th>\n",
       "      <th>r/2meirl4meirl</th>\n",
       "      <th>r/ATBGE</th>\n",
       "      <th>r/AbandonedPorn</th>\n",
       "      <th>r/AccidentalRenaissance</th>\n",
       "      <th>r/AccidentalWesAnderson</th>\n",
       "      <th>r/Android</th>\n",
       "      <th>...</th>\n",
       "      <th>r/wholesomebpt</th>\n",
       "      <th>r/wholesomegifs</th>\n",
       "      <th>r/woahdude</th>\n",
       "      <th>r/wokekids</th>\n",
       "      <th>r/worldnews</th>\n",
       "      <th>r/worldpolitics</th>\n",
       "      <th>r/xboxone</th>\n",
       "      <th>r/youdontsurf</th>\n",
       "      <th>r/youseeingthisshit</th>\n",
       "      <th>r/youtubehaiku</th>\n",
       "    </tr>\n",
       "  </thead>\n",
       "  <tbody>\n",
       "    <tr>\n",
       "      <th>0</th>\n",
       "      <td>Top U.S. officials tell the world to ignore Tr...</td>\n",
       "      <td>r/worldnews</td>\n",
       "      <td>4</td>\n",
       "      <td>834</td>\n",
       "      <td>0</td>\n",
       "      <td>0</td>\n",
       "      <td>0</td>\n",
       "      <td>0</td>\n",
       "      <td>0</td>\n",
       "      <td>0</td>\n",
       "      <td>...</td>\n",
       "      <td>0</td>\n",
       "      <td>0</td>\n",
       "      <td>0</td>\n",
       "      <td>0</td>\n",
       "      <td>1</td>\n",
       "      <td>0</td>\n",
       "      <td>0</td>\n",
       "      <td>0</td>\n",
       "      <td>0</td>\n",
       "      <td>0</td>\n",
       "    </tr>\n",
       "    <tr>\n",
       "      <th>1</th>\n",
       "      <td>a cult classic</td>\n",
       "      <td>r/evilbuildings</td>\n",
       "      <td>3</td>\n",
       "      <td>315</td>\n",
       "      <td>0</td>\n",
       "      <td>0</td>\n",
       "      <td>0</td>\n",
       "      <td>0</td>\n",
       "      <td>0</td>\n",
       "      <td>0</td>\n",
       "      <td>...</td>\n",
       "      <td>0</td>\n",
       "      <td>0</td>\n",
       "      <td>0</td>\n",
       "      <td>0</td>\n",
       "      <td>0</td>\n",
       "      <td>0</td>\n",
       "      <td>0</td>\n",
       "      <td>0</td>\n",
       "      <td>0</td>\n",
       "      <td>0</td>\n",
       "    </tr>\n",
       "    <tr>\n",
       "      <th>2</th>\n",
       "      <td>Randy Bryce slams Paul Ryan for snubbing Flori...</td>\n",
       "      <td>r/BlueMidterm2018</td>\n",
       "      <td>6</td>\n",
       "      <td>390</td>\n",
       "      <td>0</td>\n",
       "      <td>0</td>\n",
       "      <td>0</td>\n",
       "      <td>0</td>\n",
       "      <td>0</td>\n",
       "      <td>0</td>\n",
       "      <td>...</td>\n",
       "      <td>0</td>\n",
       "      <td>0</td>\n",
       "      <td>0</td>\n",
       "      <td>0</td>\n",
       "      <td>0</td>\n",
       "      <td>0</td>\n",
       "      <td>0</td>\n",
       "      <td>0</td>\n",
       "      <td>0</td>\n",
       "      <td>0</td>\n",
       "    </tr>\n",
       "  </tbody>\n",
       "</table>\n",
       "<p>3 rows × 318 columns</p>\n",
       "</div>"
      ],
      "text/plain": [
       "                                               title          subreddit  \\\n",
       "0  Top U.S. officials tell the world to ignore Tr...        r/worldnews   \n",
       "1                                     a cult classic    r/evilbuildings   \n",
       "2  Randy Bryce slams Paul Ryan for snubbing Flori...  r/BlueMidterm2018   \n",
       "\n",
       "   time_up  comments  r/2meirl4meirl  r/ATBGE  r/AbandonedPorn  \\\n",
       "0        4       834               0        0                0   \n",
       "1        3       315               0        0                0   \n",
       "2        6       390               0        0                0   \n",
       "\n",
       "   r/AccidentalRenaissance  r/AccidentalWesAnderson  r/Android  \\\n",
       "0                        0                        0          0   \n",
       "1                        0                        0          0   \n",
       "2                        0                        0          0   \n",
       "\n",
       "        ...        r/wholesomebpt  r/wholesomegifs  r/woahdude  r/wokekids  \\\n",
       "0       ...                     0                0           0           0   \n",
       "1       ...                     0                0           0           0   \n",
       "2       ...                     0                0           0           0   \n",
       "\n",
       "   r/worldnews  r/worldpolitics  r/xboxone  r/youdontsurf  \\\n",
       "0            1                0          0              0   \n",
       "1            0                0          0              0   \n",
       "2            0                0          0              0   \n",
       "\n",
       "   r/youseeingthisshit  r/youtubehaiku  \n",
       "0                    0               0  \n",
       "1                    0               0  \n",
       "2                    0               0  \n",
       "\n",
       "[3 rows x 318 columns]"
      ]
     },
     "execution_count": 465,
     "metadata": {},
     "output_type": "execute_result"
    }
   ],
   "source": [
    "reddit_data_subr = pd.concat([reddit_data, df_subreddit], axis=1)\n",
    "\n",
    "reddit_data_subr.head(3)"
   ]
  },
  {
   "cell_type": "code",
   "execution_count": 466,
   "metadata": {},
   "outputs": [
    {
     "data": {
      "text/plain": [
       "456"
      ]
     },
     "execution_count": 466,
     "metadata": {},
     "output_type": "execute_result"
    }
   ],
   "source": [
    "len(reddit_data_subr)"
   ]
  },
  {
   "cell_type": "markdown",
   "metadata": {},
   "source": [
    "## NLP"
   ]
  },
  {
   "cell_type": "markdown",
   "metadata": {
    "collapsed": true
   },
   "source": [
    "Natural language process on the title.\n",
    "\n",
    "Use Count Vectorization and remove English stop words."
   ]
  },
  {
   "cell_type": "markdown",
   "metadata": {},
   "source": [
    "#### Instantiate model"
   ]
  },
  {
   "cell_type": "code",
   "execution_count": 467,
   "metadata": {
    "collapsed": true
   },
   "outputs": [],
   "source": [
    "cvec = CountVectorizer(stop_words='english') # remove English stopwords"
   ]
  },
  {
   "cell_type": "markdown",
   "metadata": {},
   "source": [
    "#### Fit to the data"
   ]
  },
  {
   "cell_type": "code",
   "execution_count": 468,
   "metadata": {},
   "outputs": [
    {
     "data": {
      "text/plain": [
       "CountVectorizer(analyzer='word', binary=False, decode_error='strict',\n",
       "        dtype=<class 'numpy.int64'>, encoding='utf-8', input='content',\n",
       "        lowercase=True, max_df=1.0, max_features=None, min_df=1,\n",
       "        ngram_range=(1, 1), preprocessor=None, stop_words='english',\n",
       "        strip_accents=None, token_pattern='(?u)\\\\b\\\\w\\\\w+\\\\b',\n",
       "        tokenizer=None, vocabulary=None)"
      ]
     },
     "execution_count": 468,
     "metadata": {},
     "output_type": "execute_result"
    }
   ],
   "source": [
    "cvec.fit(reddit_data_subr['title'])"
   ]
  },
  {
   "cell_type": "markdown",
   "metadata": {},
   "source": [
    "#### Transform to generate features"
   ]
  },
  {
   "cell_type": "code",
   "execution_count": 469,
   "metadata": {
    "collapsed": true
   },
   "outputs": [],
   "source": [
    "cvecdata = cvec.transform(reddit_data_subr['title'])"
   ]
  },
  {
   "cell_type": "markdown",
   "metadata": {},
   "source": [
    "#### Turn features into a data frame"
   ]
  },
  {
   "cell_type": "code",
   "execution_count": 470,
   "metadata": {},
   "outputs": [
    {
     "data": {
      "text/html": [
       "<div>\n",
       "<style>\n",
       "    .dataframe thead tr:only-child th {\n",
       "        text-align: right;\n",
       "    }\n",
       "\n",
       "    .dataframe thead th {\n",
       "        text-align: left;\n",
       "    }\n",
       "\n",
       "    .dataframe tbody tr th {\n",
       "        vertical-align: top;\n",
       "    }\n",
       "</style>\n",
       "<table border=\"1\" class=\"dataframe\">\n",
       "  <thead>\n",
       "    <tr style=\"text-align: right;\">\n",
       "      <th></th>\n",
       "      <th>000</th>\n",
       "      <th>004</th>\n",
       "      <th>03</th>\n",
       "      <th>10</th>\n",
       "      <th>100</th>\n",
       "      <th>1000k</th>\n",
       "      <th>1020</th>\n",
       "      <th>1024x683</th>\n",
       "      <th>110mm</th>\n",
       "      <th>1175</th>\n",
       "      <th>...</th>\n",
       "      <th>yes</th>\n",
       "      <th>yesterday</th>\n",
       "      <th>yiga</th>\n",
       "      <th>york</th>\n",
       "      <th>young</th>\n",
       "      <th>youtube</th>\n",
       "      <th>ysk</th>\n",
       "      <th>zigfred</th>\n",
       "      <th>zoomies</th>\n",
       "      <th>þrídrangar</th>\n",
       "    </tr>\n",
       "  </thead>\n",
       "  <tbody>\n",
       "    <tr>\n",
       "      <th>0</th>\n",
       "      <td>0</td>\n",
       "      <td>0</td>\n",
       "      <td>0</td>\n",
       "      <td>0</td>\n",
       "      <td>0</td>\n",
       "      <td>0</td>\n",
       "      <td>0</td>\n",
       "      <td>0</td>\n",
       "      <td>0</td>\n",
       "      <td>0</td>\n",
       "      <td>...</td>\n",
       "      <td>0</td>\n",
       "      <td>0</td>\n",
       "      <td>0</td>\n",
       "      <td>0</td>\n",
       "      <td>0</td>\n",
       "      <td>0</td>\n",
       "      <td>0</td>\n",
       "      <td>0</td>\n",
       "      <td>0</td>\n",
       "      <td>0</td>\n",
       "    </tr>\n",
       "    <tr>\n",
       "      <th>1</th>\n",
       "      <td>0</td>\n",
       "      <td>0</td>\n",
       "      <td>0</td>\n",
       "      <td>0</td>\n",
       "      <td>0</td>\n",
       "      <td>0</td>\n",
       "      <td>0</td>\n",
       "      <td>0</td>\n",
       "      <td>0</td>\n",
       "      <td>0</td>\n",
       "      <td>...</td>\n",
       "      <td>0</td>\n",
       "      <td>0</td>\n",
       "      <td>0</td>\n",
       "      <td>0</td>\n",
       "      <td>0</td>\n",
       "      <td>0</td>\n",
       "      <td>0</td>\n",
       "      <td>0</td>\n",
       "      <td>0</td>\n",
       "      <td>0</td>\n",
       "    </tr>\n",
       "    <tr>\n",
       "      <th>2</th>\n",
       "      <td>0</td>\n",
       "      <td>0</td>\n",
       "      <td>0</td>\n",
       "      <td>0</td>\n",
       "      <td>0</td>\n",
       "      <td>0</td>\n",
       "      <td>0</td>\n",
       "      <td>0</td>\n",
       "      <td>0</td>\n",
       "      <td>0</td>\n",
       "      <td>...</td>\n",
       "      <td>0</td>\n",
       "      <td>0</td>\n",
       "      <td>0</td>\n",
       "      <td>0</td>\n",
       "      <td>0</td>\n",
       "      <td>0</td>\n",
       "      <td>0</td>\n",
       "      <td>0</td>\n",
       "      <td>0</td>\n",
       "      <td>0</td>\n",
       "    </tr>\n",
       "  </tbody>\n",
       "</table>\n",
       "<p>3 rows × 1892 columns</p>\n",
       "</div>"
      ],
      "text/plain": [
       "   000  004  03  10  100  1000k  1020  1024x683  110mm  1175     ...      yes  \\\n",
       "0    0    0   0   0    0      0     0         0      0     0     ...        0   \n",
       "1    0    0   0   0    0      0     0         0      0     0     ...        0   \n",
       "2    0    0   0   0    0      0     0         0      0     0     ...        0   \n",
       "\n",
       "   yesterday  yiga  york  young  youtube  ysk  zigfred  zoomies  þrídrangar  \n",
       "0          0     0     0      0        0    0        0        0           0  \n",
       "1          0     0     0      0        0    0        0        0           0  \n",
       "2          0     0     0      0        0    0        0        0           0  \n",
       "\n",
       "[3 rows x 1892 columns]"
      ]
     },
     "execution_count": 470,
     "metadata": {},
     "output_type": "execute_result"
    }
   ],
   "source": [
    "df_title  = pd.DataFrame(cvecdata.todense(),\n",
    "             columns=cvec.get_feature_names())\n",
    "\n",
    "df_title.head(3)"
   ]
  },
  {
   "cell_type": "markdown",
   "metadata": {},
   "source": [
    "#### Look at the 10 most occuring features (10 words with highest count in or model)"
   ]
  },
  {
   "cell_type": "code",
   "execution_count": 471,
   "metadata": {
    "scrolled": true
   },
   "outputs": [
    {
     "data": {
      "text/plain": [
       "year      13\n",
       "people    12\n",
       "just      12\n",
       "work      11\n",
       "time      11\n",
       "til       10\n",
       "oc         9\n",
       "don        9\n",
       "black      8\n",
       "trump      7\n",
       "dtype: int64"
      ]
     },
     "execution_count": 471,
     "metadata": {},
     "output_type": "execute_result"
    }
   ],
   "source": [
    "top_title = df_title.sum().transpose().sort_values(0, ascending=False).transpose().head(10)\n",
    "\n",
    "top_title"
   ]
  },
  {
   "cell_type": "markdown",
   "metadata": {},
   "source": [
    "### Plot number of posts with different words"
   ]
  },
  {
   "cell_type": "code",
   "execution_count": 472,
   "metadata": {
    "scrolled": true
   },
   "outputs": [
    {
     "data": {
      "image/png": "[encoded data removed]",
      "text/plain": [
       "<matplotlib.figure.Figure at 0x1a0d326630>"
      ]
     },
     "metadata": {},
     "output_type": "display_data"
    }
   ],
   "source": [
    "df_title.sum().transpose().sort_values(0, ascending=False).transpose().plot.line()\n",
    "\n",
    "plt.xlabel('Words');\n",
    "plt.ylabel('Nr of posts');\n",
    "plt.title('Number of posts with different words');"
   ]
  },
  {
   "cell_type": "code",
   "execution_count": 473,
   "metadata": {},
   "outputs": [
    {
     "data": {
      "text/plain": [
       "456"
      ]
     },
     "execution_count": 473,
     "metadata": {},
     "output_type": "execute_result"
    }
   ],
   "source": [
    "len(df_title)"
   ]
  },
  {
   "cell_type": "markdown",
   "metadata": {},
   "source": [
    "### Add words from title to data frame"
   ]
  },
  {
   "cell_type": "code",
   "execution_count": 474,
   "metadata": {},
   "outputs": [
    {
     "data": {
      "text/html": [
       "<div>\n",
       "<style>\n",
       "    .dataframe thead tr:only-child th {\n",
       "        text-align: right;\n",
       "    }\n",
       "\n",
       "    .dataframe thead th {\n",
       "        text-align: left;\n",
       "    }\n",
       "\n",
       "    .dataframe tbody tr th {\n",
       "        vertical-align: top;\n",
       "    }\n",
       "</style>\n",
       "<table border=\"1\" class=\"dataframe\">\n",
       "  <thead>\n",
       "    <tr style=\"text-align: right;\">\n",
       "      <th></th>\n",
       "      <th>title</th>\n",
       "      <th>subreddit</th>\n",
       "      <th>time_up</th>\n",
       "      <th>comments</th>\n",
       "      <th>r/2meirl4meirl</th>\n",
       "      <th>r/ATBGE</th>\n",
       "      <th>r/AbandonedPorn</th>\n",
       "      <th>r/AccidentalRenaissance</th>\n",
       "      <th>r/AccidentalWesAnderson</th>\n",
       "      <th>r/Android</th>\n",
       "      <th>...</th>\n",
       "      <th>yes</th>\n",
       "      <th>yesterday</th>\n",
       "      <th>yiga</th>\n",
       "      <th>york</th>\n",
       "      <th>young</th>\n",
       "      <th>youtube</th>\n",
       "      <th>ysk</th>\n",
       "      <th>zigfred</th>\n",
       "      <th>zoomies</th>\n",
       "      <th>þrídrangar</th>\n",
       "    </tr>\n",
       "  </thead>\n",
       "  <tbody>\n",
       "    <tr>\n",
       "      <th>0</th>\n",
       "      <td>Top U.S. officials tell the world to ignore Tr...</td>\n",
       "      <td>r/worldnews</td>\n",
       "      <td>4.0</td>\n",
       "      <td>834.0</td>\n",
       "      <td>0.0</td>\n",
       "      <td>0.0</td>\n",
       "      <td>0.0</td>\n",
       "      <td>0.0</td>\n",
       "      <td>0.0</td>\n",
       "      <td>0.0</td>\n",
       "      <td>...</td>\n",
       "      <td>0.0</td>\n",
       "      <td>0.0</td>\n",
       "      <td>0.0</td>\n",
       "      <td>0.0</td>\n",
       "      <td>0.0</td>\n",
       "      <td>0.0</td>\n",
       "      <td>0.0</td>\n",
       "      <td>0.0</td>\n",
       "      <td>0.0</td>\n",
       "      <td>0.0</td>\n",
       "    </tr>\n",
       "    <tr>\n",
       "      <th>1</th>\n",
       "      <td>a cult classic</td>\n",
       "      <td>r/evilbuildings</td>\n",
       "      <td>3.0</td>\n",
       "      <td>315.0</td>\n",
       "      <td>0.0</td>\n",
       "      <td>0.0</td>\n",
       "      <td>0.0</td>\n",
       "      <td>0.0</td>\n",
       "      <td>0.0</td>\n",
       "      <td>0.0</td>\n",
       "      <td>...</td>\n",
       "      <td>0.0</td>\n",
       "      <td>0.0</td>\n",
       "      <td>0.0</td>\n",
       "      <td>0.0</td>\n",
       "      <td>0.0</td>\n",
       "      <td>0.0</td>\n",
       "      <td>0.0</td>\n",
       "      <td>0.0</td>\n",
       "      <td>0.0</td>\n",
       "      <td>0.0</td>\n",
       "    </tr>\n",
       "    <tr>\n",
       "      <th>2</th>\n",
       "      <td>Randy Bryce slams Paul Ryan for snubbing Flori...</td>\n",
       "      <td>r/BlueMidterm2018</td>\n",
       "      <td>6.0</td>\n",
       "      <td>390.0</td>\n",
       "      <td>0.0</td>\n",
       "      <td>0.0</td>\n",
       "      <td>0.0</td>\n",
       "      <td>0.0</td>\n",
       "      <td>0.0</td>\n",
       "      <td>0.0</td>\n",
       "      <td>...</td>\n",
       "      <td>0.0</td>\n",
       "      <td>0.0</td>\n",
       "      <td>0.0</td>\n",
       "      <td>0.0</td>\n",
       "      <td>0.0</td>\n",
       "      <td>0.0</td>\n",
       "      <td>0.0</td>\n",
       "      <td>0.0</td>\n",
       "      <td>0.0</td>\n",
       "      <td>0.0</td>\n",
       "    </tr>\n",
       "  </tbody>\n",
       "</table>\n",
       "<p>3 rows × 2210 columns</p>\n",
       "</div>"
      ],
      "text/plain": [
       "                                               title          subreddit  \\\n",
       "0  Top U.S. officials tell the world to ignore Tr...        r/worldnews   \n",
       "1                                     a cult classic    r/evilbuildings   \n",
       "2  Randy Bryce slams Paul Ryan for snubbing Flori...  r/BlueMidterm2018   \n",
       "\n",
       "   time_up  comments  r/2meirl4meirl  r/ATBGE  r/AbandonedPorn  \\\n",
       "0      4.0     834.0             0.0      0.0              0.0   \n",
       "1      3.0     315.0             0.0      0.0              0.0   \n",
       "2      6.0     390.0             0.0      0.0              0.0   \n",
       "\n",
       "   r/AccidentalRenaissance  r/AccidentalWesAnderson  r/Android     ...      \\\n",
       "0                      0.0                      0.0        0.0     ...       \n",
       "1                      0.0                      0.0        0.0     ...       \n",
       "2                      0.0                      0.0        0.0     ...       \n",
       "\n",
       "   yes  yesterday  yiga  york  young  youtube  ysk  zigfred  zoomies  \\\n",
       "0  0.0        0.0   0.0   0.0    0.0      0.0  0.0      0.0      0.0   \n",
       "1  0.0        0.0   0.0   0.0    0.0      0.0  0.0      0.0      0.0   \n",
       "2  0.0        0.0   0.0   0.0    0.0      0.0  0.0      0.0      0.0   \n",
       "\n",
       "   þrídrangar  \n",
       "0         0.0  \n",
       "1         0.0  \n",
       "2         0.0  \n",
       "\n",
       "[3 rows x 2210 columns]"
      ]
     },
     "execution_count": 474,
     "metadata": {},
     "output_type": "execute_result"
    }
   ],
   "source": [
    "reddit = pd.concat([reddit_data_subr, df_title], axis=1)\n",
    "\n",
    "reddit.head(3)"
   ]
  },
  {
   "cell_type": "code",
   "execution_count": 475,
   "metadata": {},
   "outputs": [
    {
     "data": {
      "text/plain": [
       "532"
      ]
     },
     "execution_count": 475,
     "metadata": {},
     "output_type": "execute_result"
    }
   ],
   "source": [
    "len(reddit)"
   ]
  },
  {
   "cell_type": "markdown",
   "metadata": {},
   "source": [
    "### Delta from median of comments\n",
    "\n",
    "Comments higher or lower than median will be our binary variable that we can use when we predict with our classification model."
   ]
  },
  {
   "cell_type": "markdown",
   "metadata": {},
   "source": [
    "#### Median for comments"
   ]
  },
  {
   "cell_type": "code",
   "execution_count": 476,
   "metadata": {},
   "outputs": [
    {
     "data": {
      "text/plain": [
       "72.0"
      ]
     },
     "execution_count": 476,
     "metadata": {},
     "output_type": "execute_result"
    }
   ],
   "source": [
    "med_com = reddit['comments'].median()\n",
    "\n",
    "med_com"
   ]
  },
  {
   "cell_type": "markdown",
   "metadata": {},
   "source": [
    "#### Create new column indicating delta from median of comments and insert it into the data frame"
   ]
  },
  {
   "cell_type": "code",
   "execution_count": 477,
   "metadata": {},
   "outputs": [
    {
     "data": {
      "text/html": [
       "<div>\n",
       "<style>\n",
       "    .dataframe thead tr:only-child th {\n",
       "        text-align: right;\n",
       "    }\n",
       "\n",
       "    .dataframe thead th {\n",
       "        text-align: left;\n",
       "    }\n",
       "\n",
       "    .dataframe tbody tr th {\n",
       "        vertical-align: top;\n",
       "    }\n",
       "</style>\n",
       "<table border=\"1\" class=\"dataframe\">\n",
       "  <thead>\n",
       "    <tr style=\"text-align: right;\">\n",
       "      <th></th>\n",
       "      <th>title</th>\n",
       "      <th>subreddit</th>\n",
       "      <th>time_up</th>\n",
       "      <th>comments</th>\n",
       "      <th>r/2meirl4meirl</th>\n",
       "      <th>r/ATBGE</th>\n",
       "      <th>r/AbandonedPorn</th>\n",
       "      <th>r/AccidentalRenaissance</th>\n",
       "      <th>r/AccidentalWesAnderson</th>\n",
       "      <th>r/Android</th>\n",
       "      <th>...</th>\n",
       "      <th>yesterday</th>\n",
       "      <th>yiga</th>\n",
       "      <th>york</th>\n",
       "      <th>young</th>\n",
       "      <th>youtube</th>\n",
       "      <th>ysk</th>\n",
       "      <th>zigfred</th>\n",
       "      <th>zoomies</th>\n",
       "      <th>þrídrangar</th>\n",
       "      <th>delta_com</th>\n",
       "    </tr>\n",
       "  </thead>\n",
       "  <tbody>\n",
       "    <tr>\n",
       "      <th>0</th>\n",
       "      <td>Top U.S. officials tell the world to ignore Tr...</td>\n",
       "      <td>r/worldnews</td>\n",
       "      <td>4.0</td>\n",
       "      <td>834.0</td>\n",
       "      <td>0.0</td>\n",
       "      <td>0.0</td>\n",
       "      <td>0.0</td>\n",
       "      <td>0.0</td>\n",
       "      <td>0.0</td>\n",
       "      <td>0.0</td>\n",
       "      <td>...</td>\n",
       "      <td>0.0</td>\n",
       "      <td>0.0</td>\n",
       "      <td>0.0</td>\n",
       "      <td>0.0</td>\n",
       "      <td>0.0</td>\n",
       "      <td>0.0</td>\n",
       "      <td>0.0</td>\n",
       "      <td>0.0</td>\n",
       "      <td>0.0</td>\n",
       "      <td>762.0</td>\n",
       "    </tr>\n",
       "    <tr>\n",
       "      <th>1</th>\n",
       "      <td>a cult classic</td>\n",
       "      <td>r/evilbuildings</td>\n",
       "      <td>3.0</td>\n",
       "      <td>315.0</td>\n",
       "      <td>0.0</td>\n",
       "      <td>0.0</td>\n",
       "      <td>0.0</td>\n",
       "      <td>0.0</td>\n",
       "      <td>0.0</td>\n",
       "      <td>0.0</td>\n",
       "      <td>...</td>\n",
       "      <td>0.0</td>\n",
       "      <td>0.0</td>\n",
       "      <td>0.0</td>\n",
       "      <td>0.0</td>\n",
       "      <td>0.0</td>\n",
       "      <td>0.0</td>\n",
       "      <td>0.0</td>\n",
       "      <td>0.0</td>\n",
       "      <td>0.0</td>\n",
       "      <td>243.0</td>\n",
       "    </tr>\n",
       "    <tr>\n",
       "      <th>2</th>\n",
       "      <td>Randy Bryce slams Paul Ryan for snubbing Flori...</td>\n",
       "      <td>r/BlueMidterm2018</td>\n",
       "      <td>6.0</td>\n",
       "      <td>390.0</td>\n",
       "      <td>0.0</td>\n",
       "      <td>0.0</td>\n",
       "      <td>0.0</td>\n",
       "      <td>0.0</td>\n",
       "      <td>0.0</td>\n",
       "      <td>0.0</td>\n",
       "      <td>...</td>\n",
       "      <td>0.0</td>\n",
       "      <td>0.0</td>\n",
       "      <td>0.0</td>\n",
       "      <td>0.0</td>\n",
       "      <td>0.0</td>\n",
       "      <td>0.0</td>\n",
       "      <td>0.0</td>\n",
       "      <td>0.0</td>\n",
       "      <td>0.0</td>\n",
       "      <td>318.0</td>\n",
       "    </tr>\n",
       "  </tbody>\n",
       "</table>\n",
       "<p>3 rows × 2211 columns</p>\n",
       "</div>"
      ],
      "text/plain": [
       "                                               title          subreddit  \\\n",
       "0  Top U.S. officials tell the world to ignore Tr...        r/worldnews   \n",
       "1                                     a cult classic    r/evilbuildings   \n",
       "2  Randy Bryce slams Paul Ryan for snubbing Flori...  r/BlueMidterm2018   \n",
       "\n",
       "   time_up  comments  r/2meirl4meirl  r/ATBGE  r/AbandonedPorn  \\\n",
       "0      4.0     834.0             0.0      0.0              0.0   \n",
       "1      3.0     315.0             0.0      0.0              0.0   \n",
       "2      6.0     390.0             0.0      0.0              0.0   \n",
       "\n",
       "   r/AccidentalRenaissance  r/AccidentalWesAnderson  r/Android    ...      \\\n",
       "0                      0.0                      0.0        0.0    ...       \n",
       "1                      0.0                      0.0        0.0    ...       \n",
       "2                      0.0                      0.0        0.0    ...       \n",
       "\n",
       "   yesterday  yiga  york  young  youtube  ysk  zigfred  zoomies  þrídrangar  \\\n",
       "0        0.0   0.0   0.0    0.0      0.0  0.0      0.0      0.0         0.0   \n",
       "1        0.0   0.0   0.0    0.0      0.0  0.0      0.0      0.0         0.0   \n",
       "2        0.0   0.0   0.0    0.0      0.0  0.0      0.0      0.0         0.0   \n",
       "\n",
       "   delta_com  \n",
       "0      762.0  \n",
       "1      243.0  \n",
       "2      318.0  \n",
       "\n",
       "[3 rows x 2211 columns]"
      ]
     },
     "execution_count": 477,
     "metadata": {},
     "output_type": "execute_result"
    }
   ],
   "source": [
    "reddit['delta_com'] = reddit['comments'].apply(lambda x: x - med_com)\n",
    "\n",
    "reddit.head(3)"
   ]
  },
  {
   "cell_type": "markdown",
   "metadata": {},
   "source": [
    "### Create class based on comments above or below median"
   ]
  },
  {
   "cell_type": "markdown",
   "metadata": {
    "collapsed": true
   },
   "source": [
    "over median = class 1<BR />\n",
    "under or equal to median = class 0"
   ]
  },
  {
   "cell_type": "code",
   "execution_count": 478,
   "metadata": {},
   "outputs": [
    {
     "data": {
      "text/html": [
       "<div>\n",
       "<style>\n",
       "    .dataframe thead tr:only-child th {\n",
       "        text-align: right;\n",
       "    }\n",
       "\n",
       "    .dataframe thead th {\n",
       "        text-align: left;\n",
       "    }\n",
       "\n",
       "    .dataframe tbody tr th {\n",
       "        vertical-align: top;\n",
       "    }\n",
       "</style>\n",
       "<table border=\"1\" class=\"dataframe\">\n",
       "  <thead>\n",
       "    <tr style=\"text-align: right;\">\n",
       "      <th></th>\n",
       "      <th>title</th>\n",
       "      <th>subreddit</th>\n",
       "      <th>time_up</th>\n",
       "      <th>comments</th>\n",
       "      <th>r/2meirl4meirl</th>\n",
       "      <th>r/ATBGE</th>\n",
       "      <th>r/AbandonedPorn</th>\n",
       "      <th>r/AccidentalRenaissance</th>\n",
       "      <th>r/AccidentalWesAnderson</th>\n",
       "      <th>r/Android</th>\n",
       "      <th>...</th>\n",
       "      <th>yiga</th>\n",
       "      <th>york</th>\n",
       "      <th>young</th>\n",
       "      <th>youtube</th>\n",
       "      <th>ysk</th>\n",
       "      <th>zigfred</th>\n",
       "      <th>zoomies</th>\n",
       "      <th>þrídrangar</th>\n",
       "      <th>delta_com</th>\n",
       "      <th>class_com</th>\n",
       "    </tr>\n",
       "  </thead>\n",
       "  <tbody>\n",
       "    <tr>\n",
       "      <th>0</th>\n",
       "      <td>Top U.S. officials tell the world to ignore Tr...</td>\n",
       "      <td>r/worldnews</td>\n",
       "      <td>4.0</td>\n",
       "      <td>834.0</td>\n",
       "      <td>0.0</td>\n",
       "      <td>0.0</td>\n",
       "      <td>0.0</td>\n",
       "      <td>0.0</td>\n",
       "      <td>0.0</td>\n",
       "      <td>0.0</td>\n",
       "      <td>...</td>\n",
       "      <td>0.0</td>\n",
       "      <td>0.0</td>\n",
       "      <td>0.0</td>\n",
       "      <td>0.0</td>\n",
       "      <td>0.0</td>\n",
       "      <td>0.0</td>\n",
       "      <td>0.0</td>\n",
       "      <td>0.0</td>\n",
       "      <td>762.0</td>\n",
       "      <td>1</td>\n",
       "    </tr>\n",
       "    <tr>\n",
       "      <th>1</th>\n",
       "      <td>a cult classic</td>\n",
       "      <td>r/evilbuildings</td>\n",
       "      <td>3.0</td>\n",
       "      <td>315.0</td>\n",
       "      <td>0.0</td>\n",
       "      <td>0.0</td>\n",
       "      <td>0.0</td>\n",
       "      <td>0.0</td>\n",
       "      <td>0.0</td>\n",
       "      <td>0.0</td>\n",
       "      <td>...</td>\n",
       "      <td>0.0</td>\n",
       "      <td>0.0</td>\n",
       "      <td>0.0</td>\n",
       "      <td>0.0</td>\n",
       "      <td>0.0</td>\n",
       "      <td>0.0</td>\n",
       "      <td>0.0</td>\n",
       "      <td>0.0</td>\n",
       "      <td>243.0</td>\n",
       "      <td>1</td>\n",
       "    </tr>\n",
       "    <tr>\n",
       "      <th>2</th>\n",
       "      <td>Randy Bryce slams Paul Ryan for snubbing Flori...</td>\n",
       "      <td>r/BlueMidterm2018</td>\n",
       "      <td>6.0</td>\n",
       "      <td>390.0</td>\n",
       "      <td>0.0</td>\n",
       "      <td>0.0</td>\n",
       "      <td>0.0</td>\n",
       "      <td>0.0</td>\n",
       "      <td>0.0</td>\n",
       "      <td>0.0</td>\n",
       "      <td>...</td>\n",
       "      <td>0.0</td>\n",
       "      <td>0.0</td>\n",
       "      <td>0.0</td>\n",
       "      <td>0.0</td>\n",
       "      <td>0.0</td>\n",
       "      <td>0.0</td>\n",
       "      <td>0.0</td>\n",
       "      <td>0.0</td>\n",
       "      <td>318.0</td>\n",
       "      <td>1</td>\n",
       "    </tr>\n",
       "  </tbody>\n",
       "</table>\n",
       "<p>3 rows × 2212 columns</p>\n",
       "</div>"
      ],
      "text/plain": [
       "                                               title          subreddit  \\\n",
       "0  Top U.S. officials tell the world to ignore Tr...        r/worldnews   \n",
       "1                                     a cult classic    r/evilbuildings   \n",
       "2  Randy Bryce slams Paul Ryan for snubbing Flori...  r/BlueMidterm2018   \n",
       "\n",
       "   time_up  comments  r/2meirl4meirl  r/ATBGE  r/AbandonedPorn  \\\n",
       "0      4.0     834.0             0.0      0.0              0.0   \n",
       "1      3.0     315.0             0.0      0.0              0.0   \n",
       "2      6.0     390.0             0.0      0.0              0.0   \n",
       "\n",
       "   r/AccidentalRenaissance  r/AccidentalWesAnderson  r/Android    ...      \\\n",
       "0                      0.0                      0.0        0.0    ...       \n",
       "1                      0.0                      0.0        0.0    ...       \n",
       "2                      0.0                      0.0        0.0    ...       \n",
       "\n",
       "   yiga  york  young  youtube  ysk  zigfred  zoomies  þrídrangar  delta_com  \\\n",
       "0   0.0   0.0    0.0      0.0  0.0      0.0      0.0         0.0      762.0   \n",
       "1   0.0   0.0    0.0      0.0  0.0      0.0      0.0         0.0      243.0   \n",
       "2   0.0   0.0    0.0      0.0  0.0      0.0      0.0         0.0      318.0   \n",
       "\n",
       "   class_com  \n",
       "0          1  \n",
       "1          1  \n",
       "2          1  \n",
       "\n",
       "[3 rows x 2212 columns]"
      ]
     },
     "execution_count": 478,
     "metadata": {},
     "output_type": "execute_result"
    }
   ],
   "source": [
    "reddit['class_com'] = reddit['comments'].apply(lambda x: 1 if x > med_com else 0)\n",
    "\n",
    "reddit.head(3)"
   ]
  },
  {
   "cell_type": "markdown",
   "metadata": {},
   "source": [
    "#### Look at missing values"
   ]
  },
  {
   "cell_type": "code",
   "execution_count": 479,
   "metadata": {
    "scrolled": true
   },
   "outputs": [
    {
     "data": {
      "text/plain": [
       "title                      76\n",
       "subreddit                  76\n",
       "time_up                    76\n",
       "comments                   76\n",
       "r/2meirl4meirl             76\n",
       "r/ATBGE                    76\n",
       "r/AbandonedPorn            76\n",
       "r/AccidentalRenaissance    76\n",
       "r/AccidentalWesAnderson    76\n",
       "r/Android                  76\n",
       "r/AnimalTextGifs           76\n",
       "r/AnimalsBeingDerps        76\n",
       "r/ArcherFX                 76\n",
       "r/Art                      76\n",
       "r/ArtefactPorn             76\n",
       "r/AskHistorians            76\n",
       "r/AskNYC                   76\n",
       "r/AskReddit                76\n",
       "r/Astronomy                76\n",
       "r/BeAmazed                 76\n",
       "r/BestOfReports            76\n",
       "r/BetterEveryLoop          76\n",
       "r/BigCatGifs               76\n",
       "r/BikiniBottomTwitter      76\n",
       "r/Bitcoin                  76\n",
       "r/BlackPeopleTwitter       76\n",
       "r/Blep                     76\n",
       "r/BlueMidterm2018          76\n",
       "r/BoJackHorseman           76\n",
       "r/BokuNoHeroAcademia       76\n",
       "                           ..\n",
       "works                      76\n",
       "world                      76\n",
       "worry                      76\n",
       "worth                      76\n",
       "wow                        76\n",
       "wp                         76\n",
       "wreckage                   76\n",
       "writes                     76\n",
       "writing                    76\n",
       "wrong                      76\n",
       "xanny                      76\n",
       "yankee                     76\n",
       "yanks                      76\n",
       "yawn                       76\n",
       "ye                         76\n",
       "yea                        76\n",
       "year                       76\n",
       "years                      76\n",
       "yes                        76\n",
       "yesterday                  76\n",
       "yiga                       76\n",
       "york                       76\n",
       "young                      76\n",
       "youtube                    76\n",
       "ysk                        76\n",
       "zigfred                    76\n",
       "zoomies                    76\n",
       "þrídrangar                 76\n",
       "delta_com                  76\n",
       "class_com                   0\n",
       "Length: 2212, dtype: int64"
      ]
     },
     "execution_count": 479,
     "metadata": {},
     "output_type": "execute_result"
    }
   ],
   "source": [
    "reddit.isnull().sum()"
   ]
  },
  {
   "cell_type": "markdown",
   "metadata": {},
   "source": [
    "#### Drop missing values"
   ]
  },
  {
   "cell_type": "code",
   "execution_count": 480,
   "metadata": {
    "collapsed": true
   },
   "outputs": [],
   "source": [
    "reddit = reddit.dropna(axis=0, how='any')"
   ]
  },
  {
   "cell_type": "markdown",
   "metadata": {},
   "source": [
    "#### Look and see that rows were dropped"
   ]
  },
  {
   "cell_type": "code",
   "execution_count": 481,
   "metadata": {},
   "outputs": [
    {
     "data": {
      "text/plain": [
       "380"
      ]
     },
     "execution_count": 481,
     "metadata": {},
     "output_type": "execute_result"
    }
   ],
   "source": [
    "len(reddit)"
   ]
  },
  {
   "cell_type": "markdown",
   "metadata": {},
   "source": [
    "## Train Test Split"
   ]
  },
  {
   "cell_type": "markdown",
   "metadata": {},
   "source": [
    "Divide the data into a train and a test set (with a test set of 30%)<BR />\n",
    "If there is time go back to this step and change random seed/state.<BR />\n",
    "Ultimatly do this 3 times."
   ]
  },
  {
   "cell_type": "code",
   "execution_count": 482,
   "metadata": {
    "collapsed": true
   },
   "outputs": [],
   "source": [
    "dep   = reddit['class_com']\n",
    "indep = reddit"
   ]
  },
  {
   "cell_type": "code",
   "execution_count": 483,
   "metadata": {
    "collapsed": true
   },
   "outputs": [],
   "source": [
    "indep_train, indep_test, dep_train, dep_test = train_test_split(indep, dep, test_size = 0.3, random_state=24)"
   ]
  },
  {
   "cell_type": "markdown",
   "metadata": {},
   "source": [
    "## EDA"
   ]
  },
  {
   "cell_type": "markdown",
   "metadata": {},
   "source": [
    "#### Look ast the shape of the data"
   ]
  },
  {
   "cell_type": "code",
   "execution_count": 484,
   "metadata": {},
   "outputs": [
    {
     "name": "stdout",
     "output_type": "stream",
     "text": [
      "(380, 2212)\n",
      "(266, 2212)\n",
      "(266,)\n",
      "(114, 2212)\n",
      "(114,)\n"
     ]
    }
   ],
   "source": [
    "print(reddit.shape)\n",
    "print(indep_train.shape)\n",
    "print(dep_train.shape)\n",
    "print(indep_test.shape)\n",
    "print(dep_test.shape)"
   ]
  },
  {
   "cell_type": "markdown",
   "metadata": {},
   "source": [
    "### Histograms to show distribution"
   ]
  },
  {
   "cell_type": "code",
   "execution_count": 485,
   "metadata": {},
   "outputs": [
    {
     "data": {
      "image/png": "[encoded data removed]",
      "text/plain": [
       "<matplotlib.figure.Figure at 0x1a271399e8>"
      ]
     },
     "metadata": {},
     "output_type": "display_data"
    }
   ],
   "source": [
    "# delta comments\n",
    "dep_train.plot(kind='hist', figsize=(5,5), color='red'); \n",
    "plt.xlabel('Delta Comments');\n",
    "plt.ylabel('Share (%)');\n",
    "plt.title('Delta Comments on Reddit post');"
   ]
  },
  {
   "cell_type": "code",
   "execution_count": 486,
   "metadata": {},
   "outputs": [
    {
     "data": {
      "image/png": "[encoded data removed]",
      "text/plain": [
       "<matplotlib.figure.Figure at 0x1a0d2fa048>"
      ]
     },
     "metadata": {},
     "output_type": "display_data"
    }
   ],
   "source": [
    "# time up\n",
    "indep_train['time_up'].plot(kind='hist', figsize=(5,5), color='red'); \n",
    "plt.xlabel('Time up');\n",
    "plt.ylabel('Share (%)');\n",
    "plt.title('Time up on Reddit');"
   ]
  },
  {
   "cell_type": "code",
   "execution_count": 487,
   "metadata": {},
   "outputs": [
    {
     "data": {
      "text/plain": [
       "array([[1.        , 0.31958332],\n",
       "       [0.31958332, 1.        ]])"
      ]
     },
     "execution_count": 487,
     "metadata": {},
     "output_type": "execute_result"
    }
   ],
   "source": [
    "# Correlation\n",
    "np.corrcoef(dep_train, indep_train['time_up'])"
   ]
  },
  {
   "cell_type": "code",
   "execution_count": 488,
   "metadata": {},
   "outputs": [
    {
     "data": {
      "text/plain": [
       "array([[ 1.     , -0.05151],\n",
       "       [-0.05151,  1.     ]])"
      ]
     },
     "execution_count": 488,
     "metadata": {},
     "output_type": "execute_result"
    }
   ],
   "source": [
    "np.corrcoef(dep_train, indep_train['r/aww'])"
   ]
  },
  {
   "cell_type": "code",
   "execution_count": 489,
   "metadata": {},
   "outputs": [
    {
     "data": {
      "text/plain": [
       "array([[1.        , 0.04423127],\n",
       "       [0.04423127, 1.        ]])"
      ]
     },
     "execution_count": 489,
     "metadata": {},
     "output_type": "execute_result"
    }
   ],
   "source": [
    "np.corrcoef(dep_train, indep_train['r/pics'])"
   ]
  },
  {
   "cell_type": "code",
   "execution_count": 490,
   "metadata": {},
   "outputs": [
    {
     "data": {
      "text/plain": [
       "array([[1.        , 0.01939158],\n",
       "       [0.01939158, 1.        ]])"
      ]
     },
     "execution_count": 490,
     "metadata": {},
     "output_type": "execute_result"
    }
   ],
   "source": [
    "np.corrcoef(dep_train, indep_train['time'])"
   ]
  },
  {
   "cell_type": "code",
   "execution_count": 491,
   "metadata": {},
   "outputs": [
    {
     "data": {
      "text/plain": [
       "array([[ 1.        , -0.04444429],\n",
       "       [-0.04444429,  1.        ]])"
      ]
     },
     "execution_count": 491,
     "metadata": {},
     "output_type": "execute_result"
    }
   ],
   "source": [
    "np.corrcoef(dep_train, indep_train['year'])"
   ]
  },
  {
   "cell_type": "code",
   "execution_count": 492,
   "metadata": {},
   "outputs": [
    {
     "data": {
      "text/plain": [
       "array([[1.        , 0.36134756],\n",
       "       [0.36134756, 1.        ]])"
      ]
     },
     "execution_count": 492,
     "metadata": {},
     "output_type": "execute_result"
    }
   ],
   "source": [
    "np.corrcoef(dep_train, indep_train['comments'])"
   ]
  },
  {
   "cell_type": "code",
   "execution_count": 493,
   "metadata": {},
   "outputs": [
    {
     "data": {
      "text/plain": [
       "<matplotlib.axes._subplots.AxesSubplot at 0x1a0d32b048>"
      ]
     },
     "execution_count": 493,
     "metadata": {},
     "output_type": "execute_result"
    },
    {
     "data": {
      "image/png": "[encoded data removed]",
      "text/plain": [
       "<matplotlib.figure.Figure at 0x1a0da894e0>"
      ]
     },
     "metadata": {},
     "output_type": "display_data"
    }
   ],
   "source": [
    "# heatmap\n",
    "sns.heatmap(indep_train[['delta_com','comments','time_up','r/aww','r/pics','time','year' ]].corr(), \n",
    "            annot = True, cmap=\"Greens\")"
   ]
  },
  {
   "cell_type": "markdown",
   "metadata": {
    "collapsed": true
   },
   "source": [
    "Low correlation among indep variables - GOOD<BR />\n",
    "We need to drop comments since delta comments are made out of the comments column.<BR />\n",
    "But also low correaltion between dep varable and indep variables - NOT so GOOD (we need good predictors)"
   ]
  },
  {
   "cell_type": "markdown",
   "metadata": {},
   "source": [
    "**Use class based on above or below median (class_com) created above**"
   ]
  },
  {
   "cell_type": "code",
   "execution_count": 494,
   "metadata": {},
   "outputs": [
    {
     "name": "stdout",
     "output_type": "stream",
     "text": [
      "141 125\n",
      "0.5300751879699248 0.4699248120300752\n"
     ]
    }
   ],
   "source": [
    "# somewhart unbalanced classes in the dependent variable\n",
    "# One class is under median and the other one is over median\n",
    "over = 0\n",
    "under = 0\n",
    "for d in indep_train['class_com']:\n",
    "    if d == 1:\n",
    "        over = over +1\n",
    "    elif d == 0:\n",
    "        under = under +1\n",
    "\n",
    "print(over, under) # in numbers\n",
    "print((over/(over+under)),(under/(over+under))) # in shares"
   ]
  },
  {
   "cell_type": "markdown",
   "metadata": {
    "collapsed": true
   },
   "source": [
    "The differences is balance is so small that we do not need to balance.<BR />\n",
    "Around 30/70 you will need to balance."
   ]
  },
  {
   "cell_type": "markdown",
   "metadata": {},
   "source": [
    "## SCALE THE DATA + MODELS"
   ]
  },
  {
   "cell_type": "markdown",
   "metadata": {},
   "source": [
    "LogisticRegression and Random Forest\n",
    "\n",
    "Cross validation on each model and tune hyper parameters and features.<BR />\n",
    "Fit on train set and score on test set (R2-score for example)\n",
    "\n",
    "Use cross-validation to evaluate the model.<BR />\n",
    "Evaluate the accuracy of the model, as well as any other metrics you feel are appropriate."
   ]
  },
  {
   "cell_type": "markdown",
   "metadata": {
    "collapsed": true
   },
   "source": [
    "### Functions"
   ]
  },
  {
   "cell_type": "code",
   "execution_count": 495,
   "metadata": {
    "collapsed": true
   },
   "outputs": [],
   "source": [
    "def get_best_hype(model, grid, X_train, y_train):\n",
    "    ss = StandardScaler()\n",
    "    ss.fit(X_train)\n",
    "    X_train_s = ss.transform(X_train)\n",
    "    \n",
    "    # Best Hyperparameters\n",
    "    gs = GridSearchCV(model, grid, scoring='roc_auc', cv=5)\n",
    "    gs.fit(X_train_s, y_train)\n",
    "    \n",
    "    # fit\n",
    "    model.fit(X_train_s, y_train) \n",
    "    return {'best_score': gs.best_score_,'best_params': gs.best_params_} \n",
    "\n",
    "def evaluate_model(model, X_train, X_test, y_train, y_test):\n",
    "    # standardize the predictors\n",
    "    ss = StandardScaler()\n",
    "    ss.fit(X_train)\n",
    "    X_train_s = ss.transform(X_train)\n",
    "    X_test_s = ss.transform(X_test)\n",
    "    \n",
    "    # fit\n",
    "    model.fit(X_train_s, y_train)\n",
    "    \n",
    "    # Evaluate: predict and score\n",
    "    y_pred = model.predict(X_test_s)\n",
    "    y_true = y_test\n",
    "    \n",
    "    accuracy = sklearn.metrics.accuracy_score(y_true, y_pred)\n",
    "    \n",
    "    # Evaluate: score and predict with cross_val\n",
    "    score = cross_val_score(model, X_test_s, y_test, cv=5)\n",
    "    pred = cross_val_predict(model, X_test_s, y_test)\n",
    "    \n",
    "    return {'accuracy': accuracy, 'y_pred_mean': y_pred.mean(), 'score_mean': score.mean(), 'pred_mean': pred.mean()} "
   ]
  },
  {
   "cell_type": "markdown",
   "metadata": {},
   "source": [
    "### LogisticRegression"
   ]
  },
  {
   "cell_type": "markdown",
   "metadata": {},
   "source": [
    "**time_up**"
   ]
  },
  {
   "cell_type": "markdown",
   "metadata": {},
   "source": [
    "Gridsearch, best C"
   ]
  },
  {
   "cell_type": "code",
   "execution_count": 510,
   "metadata": {},
   "outputs": [
    {
     "data": {
      "text/plain": [
       "{'best_params': {'C': 1e-10, 'solver': 'newton-cg'},\n",
       " 'best_score': 0.6949783325308344}"
      ]
     },
     "execution_count": 510,
     "metadata": {},
     "output_type": "execute_result"
    }
   ],
   "source": [
    "# Declare indep and dep\n",
    "indep_train1 = indep_train[['time_up']]\n",
    "indep_test1 = indep_test[['time_up']]\n",
    "dep_train1 = dep_train\n",
    "dep_test1 = dep_test\n",
    "\n",
    "# Gridsearch\n",
    "grid = {'C': np.power(10.0, np.arange(-10, 10)), 'solver': ['newton-cg']} # newton with ovr\n",
    "clf = LogisticRegression(penalty='l2', random_state=24, max_iter=10000) #ovr default, l2 with newton\n",
    "\n",
    "get_best_hype(clf, grid, indep_train1, dep_train1)"
   ]
  },
  {
   "cell_type": "markdown",
   "metadata": {},
   "source": [
    "Model + best C"
   ]
  },
  {
   "cell_type": "code",
   "execution_count": 511,
   "metadata": {},
   "outputs": [
    {
     "data": {
      "text/plain": [
       "{'accuracy': 0.6403508771929824,\n",
       " 'pred_mean': 0.7982456140350878,\n",
       " 'score_mean': 0.5965085638998683,\n",
       " 'y_pred_mean': 0.5175438596491229}"
      ]
     },
     "execution_count": 511,
     "metadata": {},
     "output_type": "execute_result"
    }
   ],
   "source": [
    "# chose model and use best C\n",
    "model = LogisticRegression(C=1e-10)\n",
    "\n",
    "# call function\n",
    "evaluate_model(model, indep_train1, indep_test1, dep_train1, dep_test1)"
   ]
  },
  {
   "cell_type": "markdown",
   "metadata": {},
   "source": [
    "**time_up + all words from NLP + all subreddit**"
   ]
  },
  {
   "cell_type": "markdown",
   "metadata": {},
   "source": [
    "Gridsearch, best C"
   ]
  },
  {
   "cell_type": "code",
   "execution_count": 512,
   "metadata": {},
   "outputs": [
    {
     "data": {
      "text/plain": [
       "{'best_params': {'C': 1e-10, 'solver': 'newton-cg'},\n",
       " 'best_score': 0.5283599392570095}"
      ]
     },
     "execution_count": 512,
     "metadata": {},
     "output_type": "execute_result"
    }
   ],
   "source": [
    "# Declare indep\n",
    "# don't forget to drop a word and a subreddit\n",
    "indep_train2 = indep_train.drop(['comments', 'delta_com', 'class_com','title', 'subreddit', 'got', 'r/gifs'], axis=1)\n",
    "indep_test2 = indep_test.drop(['comments', 'delta_com', 'class_com','title', 'subreddit', 'got', 'r/gifs'], axis=1)\n",
    "\n",
    "# Gridsearch\n",
    "grid = {'C': np.power(10.0, np.arange(-10, 10)), 'solver': ['newton-cg']} # newton with ovr\n",
    "clf = LogisticRegression(penalty='l2', random_state=24, max_iter=10000) #ovr default, l2 with newton\n",
    "\n",
    "get_best_hype(clf, grid, indep_train2, dep_train)"
   ]
  },
  {
   "cell_type": "markdown",
   "metadata": {},
   "source": [
    "Model + best C"
   ]
  },
  {
   "cell_type": "code",
   "execution_count": 513,
   "metadata": {},
   "outputs": [
    {
     "data": {
      "text/plain": [
       "{'accuracy': 0.5526315789473685,\n",
       " 'pred_mean': 0.8157894736842105,\n",
       " 'score_mean': 0.5688405797101449,\n",
       " 'y_pred_mean': 0.5}"
      ]
     },
     "execution_count": 513,
     "metadata": {},
     "output_type": "execute_result"
    }
   ],
   "source": [
    "# chose model and use best C\n",
    "model = LogisticRegression(C=1e-10)\n",
    "\n",
    "# call function\n",
    "evaluate_model(model, indep_train2, indep_test2, dep_train, dep_test)"
   ]
  },
  {
   "cell_type": "markdown",
   "metadata": {
    "collapsed": true
   },
   "source": [
    "###########"
   ]
  },
  {
   "cell_type": "markdown",
   "metadata": {},
   "source": [
    "Baseline"
   ]
  },
  {
   "cell_type": "code",
   "execution_count": 514,
   "metadata": {},
   "outputs": [
    {
     "data": {
      "text/plain": [
       "0.4699248120300752"
      ]
     },
     "execution_count": 514,
     "metadata": {},
     "output_type": "execute_result"
    }
   ],
   "source": [
    "baseline = np.mean(indep_train[indep_train['class_com'] == 0].shape[0]/indep_train.shape[0]) \n",
    "baseline"
   ]
  },
  {
   "cell_type": "markdown",
   "metadata": {
    "collapsed": true
   },
   "source": [
    "######################################################################"
   ]
  },
  {
   "cell_type": "markdown",
   "metadata": {},
   "source": [
    "**time_up + all words from NLP**"
   ]
  },
  {
   "cell_type": "code",
   "execution_count": 515,
   "metadata": {},
   "outputs": [
    {
     "data": {
      "text/html": [
       "<div>\n",
       "<style>\n",
       "    .dataframe thead tr:only-child th {\n",
       "        text-align: right;\n",
       "    }\n",
       "\n",
       "    .dataframe thead th {\n",
       "        text-align: left;\n",
       "    }\n",
       "\n",
       "    .dataframe tbody tr th {\n",
       "        vertical-align: top;\n",
       "    }\n",
       "</style>\n",
       "<table border=\"1\" class=\"dataframe\">\n",
       "  <thead>\n",
       "    <tr style=\"text-align: right;\">\n",
       "      <th></th>\n",
       "      <th>r/2meirl4meirl</th>\n",
       "      <th>r/ATBGE</th>\n",
       "      <th>r/AbandonedPorn</th>\n",
       "      <th>r/AccidentalRenaissance</th>\n",
       "      <th>r/AccidentalWesAnderson</th>\n",
       "      <th>r/Android</th>\n",
       "      <th>r/AnimalTextGifs</th>\n",
       "      <th>r/AnimalsBeingDerps</th>\n",
       "      <th>r/ArcherFX</th>\n",
       "      <th>r/Art</th>\n",
       "      <th>...</th>\n",
       "      <th>r/wholesomebpt</th>\n",
       "      <th>r/wholesomegifs</th>\n",
       "      <th>r/woahdude</th>\n",
       "      <th>r/wokekids</th>\n",
       "      <th>r/worldnews</th>\n",
       "      <th>r/worldpolitics</th>\n",
       "      <th>r/xboxone</th>\n",
       "      <th>r/youdontsurf</th>\n",
       "      <th>r/youseeingthisshit</th>\n",
       "      <th>r/youtubehaiku</th>\n",
       "    </tr>\n",
       "  </thead>\n",
       "  <tbody>\n",
       "    <tr>\n",
       "      <th>448</th>\n",
       "      <td>0.0</td>\n",
       "      <td>0.0</td>\n",
       "      <td>0.0</td>\n",
       "      <td>0.0</td>\n",
       "      <td>0.0</td>\n",
       "      <td>0.0</td>\n",
       "      <td>0.0</td>\n",
       "      <td>0.0</td>\n",
       "      <td>0.0</td>\n",
       "      <td>0.0</td>\n",
       "      <td>...</td>\n",
       "      <td>0.0</td>\n",
       "      <td>0.0</td>\n",
       "      <td>0.0</td>\n",
       "      <td>0.0</td>\n",
       "      <td>0.0</td>\n",
       "      <td>0.0</td>\n",
       "      <td>0.0</td>\n",
       "      <td>0.0</td>\n",
       "      <td>0.0</td>\n",
       "      <td>0.0</td>\n",
       "    </tr>\n",
       "    <tr>\n",
       "      <th>451</th>\n",
       "      <td>0.0</td>\n",
       "      <td>0.0</td>\n",
       "      <td>0.0</td>\n",
       "      <td>0.0</td>\n",
       "      <td>0.0</td>\n",
       "      <td>0.0</td>\n",
       "      <td>0.0</td>\n",
       "      <td>0.0</td>\n",
       "      <td>0.0</td>\n",
       "      <td>0.0</td>\n",
       "      <td>...</td>\n",
       "      <td>0.0</td>\n",
       "      <td>0.0</td>\n",
       "      <td>0.0</td>\n",
       "      <td>0.0</td>\n",
       "      <td>0.0</td>\n",
       "      <td>0.0</td>\n",
       "      <td>0.0</td>\n",
       "      <td>0.0</td>\n",
       "      <td>0.0</td>\n",
       "      <td>0.0</td>\n",
       "    </tr>\n",
       "    <tr>\n",
       "      <th>275</th>\n",
       "      <td>0.0</td>\n",
       "      <td>0.0</td>\n",
       "      <td>0.0</td>\n",
       "      <td>0.0</td>\n",
       "      <td>0.0</td>\n",
       "      <td>0.0</td>\n",
       "      <td>0.0</td>\n",
       "      <td>0.0</td>\n",
       "      <td>0.0</td>\n",
       "      <td>0.0</td>\n",
       "      <td>...</td>\n",
       "      <td>0.0</td>\n",
       "      <td>0.0</td>\n",
       "      <td>0.0</td>\n",
       "      <td>0.0</td>\n",
       "      <td>0.0</td>\n",
       "      <td>0.0</td>\n",
       "      <td>0.0</td>\n",
       "      <td>0.0</td>\n",
       "      <td>0.0</td>\n",
       "      <td>0.0</td>\n",
       "    </tr>\n",
       "  </tbody>\n",
       "</table>\n",
       "<p>3 rows × 314 columns</p>\n",
       "</div>"
      ],
      "text/plain": [
       "     r/2meirl4meirl  r/ATBGE  r/AbandonedPorn  r/AccidentalRenaissance  \\\n",
       "448             0.0      0.0              0.0                      0.0   \n",
       "451             0.0      0.0              0.0                      0.0   \n",
       "275             0.0      0.0              0.0                      0.0   \n",
       "\n",
       "     r/AccidentalWesAnderson  r/Android  r/AnimalTextGifs  \\\n",
       "448                      0.0        0.0               0.0   \n",
       "451                      0.0        0.0               0.0   \n",
       "275                      0.0        0.0               0.0   \n",
       "\n",
       "     r/AnimalsBeingDerps  r/ArcherFX  r/Art       ...        r/wholesomebpt  \\\n",
       "448                  0.0         0.0    0.0       ...                   0.0   \n",
       "451                  0.0         0.0    0.0       ...                   0.0   \n",
       "275                  0.0         0.0    0.0       ...                   0.0   \n",
       "\n",
       "     r/wholesomegifs  r/woahdude  r/wokekids  r/worldnews  r/worldpolitics  \\\n",
       "448              0.0         0.0         0.0          0.0              0.0   \n",
       "451              0.0         0.0         0.0          0.0              0.0   \n",
       "275              0.0         0.0         0.0          0.0              0.0   \n",
       "\n",
       "     r/xboxone  r/youdontsurf  r/youseeingthisshit  r/youtubehaiku  \n",
       "448        0.0            0.0                  0.0             0.0  \n",
       "451        0.0            0.0                  0.0             0.0  \n",
       "275        0.0            0.0                  0.0             0.0  \n",
       "\n",
       "[3 rows x 314 columns]"
      ]
     },
     "execution_count": 515,
     "metadata": {},
     "output_type": "execute_result"
    }
   ],
   "source": [
    "# Columns with dummies from subreddit (I do not want to use them in this case)\n",
    "indep_train.iloc[:, 4:318].head(3)"
   ]
  },
  {
   "cell_type": "markdown",
   "metadata": {},
   "source": [
    "#### Make new data frame and drop the dummies from subreddits"
   ]
  },
  {
   "cell_type": "code",
   "execution_count": 516,
   "metadata": {},
   "outputs": [
    {
     "data": {
      "text/html": [
       "<div>\n",
       "<style>\n",
       "    .dataframe thead tr:only-child th {\n",
       "        text-align: right;\n",
       "    }\n",
       "\n",
       "    .dataframe thead th {\n",
       "        text-align: left;\n",
       "    }\n",
       "\n",
       "    .dataframe tbody tr th {\n",
       "        vertical-align: top;\n",
       "    }\n",
       "</style>\n",
       "<table border=\"1\" class=\"dataframe\">\n",
       "  <thead>\n",
       "    <tr style=\"text-align: right;\">\n",
       "      <th></th>\n",
       "      <th>title</th>\n",
       "      <th>subreddit</th>\n",
       "      <th>time_up</th>\n",
       "      <th>comments</th>\n",
       "      <th>000</th>\n",
       "      <th>004</th>\n",
       "      <th>03</th>\n",
       "      <th>10</th>\n",
       "      <th>100</th>\n",
       "      <th>1000k</th>\n",
       "      <th>...</th>\n",
       "      <th>yiga</th>\n",
       "      <th>york</th>\n",
       "      <th>young</th>\n",
       "      <th>youtube</th>\n",
       "      <th>ysk</th>\n",
       "      <th>zigfred</th>\n",
       "      <th>zoomies</th>\n",
       "      <th>þrídrangar</th>\n",
       "      <th>delta_com</th>\n",
       "      <th>class_com</th>\n",
       "    </tr>\n",
       "  </thead>\n",
       "  <tbody>\n",
       "    <tr>\n",
       "      <th>448</th>\n",
       "      <td>\"I-I'm not flat! Baka!\"</td>\n",
       "      <td>r/DDLC</td>\n",
       "      <td>9.0</td>\n",
       "      <td>98.0</td>\n",
       "      <td>0.0</td>\n",
       "      <td>0.0</td>\n",
       "      <td>0.0</td>\n",
       "      <td>0.0</td>\n",
       "      <td>0.0</td>\n",
       "      <td>0.0</td>\n",
       "      <td>...</td>\n",
       "      <td>0.0</td>\n",
       "      <td>0.0</td>\n",
       "      <td>0.0</td>\n",
       "      <td>0.0</td>\n",
       "      <td>0.0</td>\n",
       "      <td>0.0</td>\n",
       "      <td>0.0</td>\n",
       "      <td>0.0</td>\n",
       "      <td>26.0</td>\n",
       "      <td>1</td>\n",
       "    </tr>\n",
       "    <tr>\n",
       "      <th>451</th>\n",
       "      <td>Halley's Comet... May 15, 1910</td>\n",
       "      <td>r/Astronomy</td>\n",
       "      <td>11.0</td>\n",
       "      <td>35.0</td>\n",
       "      <td>0.0</td>\n",
       "      <td>0.0</td>\n",
       "      <td>0.0</td>\n",
       "      <td>0.0</td>\n",
       "      <td>0.0</td>\n",
       "      <td>0.0</td>\n",
       "      <td>...</td>\n",
       "      <td>0.0</td>\n",
       "      <td>0.0</td>\n",
       "      <td>0.0</td>\n",
       "      <td>0.0</td>\n",
       "      <td>0.0</td>\n",
       "      <td>0.0</td>\n",
       "      <td>0.0</td>\n",
       "      <td>0.0</td>\n",
       "      <td>-37.0</td>\n",
       "      <td>0</td>\n",
       "    </tr>\n",
       "    <tr>\n",
       "      <th>275</th>\n",
       "      <td>Categorised most locations in Fortnite for the...</td>\n",
       "      <td>r/FortNiteBR</td>\n",
       "      <td>8.0</td>\n",
       "      <td>231.0</td>\n",
       "      <td>0.0</td>\n",
       "      <td>0.0</td>\n",
       "      <td>0.0</td>\n",
       "      <td>0.0</td>\n",
       "      <td>0.0</td>\n",
       "      <td>0.0</td>\n",
       "      <td>...</td>\n",
       "      <td>0.0</td>\n",
       "      <td>0.0</td>\n",
       "      <td>0.0</td>\n",
       "      <td>0.0</td>\n",
       "      <td>0.0</td>\n",
       "      <td>0.0</td>\n",
       "      <td>0.0</td>\n",
       "      <td>0.0</td>\n",
       "      <td>159.0</td>\n",
       "      <td>1</td>\n",
       "    </tr>\n",
       "  </tbody>\n",
       "</table>\n",
       "<p>3 rows × 1898 columns</p>\n",
       "</div>"
      ],
      "text/plain": [
       "                                                 title     subreddit  time_up  \\\n",
       "448                            \"I-I'm not flat! Baka!\"        r/DDLC      9.0   \n",
       "451                     Halley's Comet... May 15, 1910   r/Astronomy     11.0   \n",
       "275  Categorised most locations in Fortnite for the...  r/FortNiteBR      8.0   \n",
       "\n",
       "     comments  000  004   03   10  100  1000k    ...      yiga  york  young  \\\n",
       "448      98.0  0.0  0.0  0.0  0.0  0.0    0.0    ...       0.0   0.0    0.0   \n",
       "451      35.0  0.0  0.0  0.0  0.0  0.0    0.0    ...       0.0   0.0    0.0   \n",
       "275     231.0  0.0  0.0  0.0  0.0  0.0    0.0    ...       0.0   0.0    0.0   \n",
       "\n",
       "     youtube  ysk  zigfred  zoomies  þrídrangar  delta_com  class_com  \n",
       "448      0.0  0.0      0.0      0.0         0.0       26.0          1  \n",
       "451      0.0  0.0      0.0      0.0         0.0      -37.0          0  \n",
       "275      0.0  0.0      0.0      0.0         0.0      159.0          1  \n",
       "\n",
       "[3 rows x 1898 columns]"
      ]
     },
     "execution_count": 516,
     "metadata": {},
     "output_type": "execute_result"
    }
   ],
   "source": [
    "indep_trainW = indep_train.drop(indep_train.iloc[:, 4:318], axis=1)\n",
    "\n",
    "indep_trainW.head(3)"
   ]
  },
  {
   "cell_type": "code",
   "execution_count": 517,
   "metadata": {
    "scrolled": true
   },
   "outputs": [
    {
     "data": {
      "text/html": [
       "<div>\n",
       "<style>\n",
       "    .dataframe thead tr:only-child th {\n",
       "        text-align: right;\n",
       "    }\n",
       "\n",
       "    .dataframe thead th {\n",
       "        text-align: left;\n",
       "    }\n",
       "\n",
       "    .dataframe tbody tr th {\n",
       "        vertical-align: top;\n",
       "    }\n",
       "</style>\n",
       "<table border=\"1\" class=\"dataframe\">\n",
       "  <thead>\n",
       "    <tr style=\"text-align: right;\">\n",
       "      <th></th>\n",
       "      <th>title</th>\n",
       "      <th>subreddit</th>\n",
       "      <th>time_up</th>\n",
       "      <th>comments</th>\n",
       "      <th>000</th>\n",
       "      <th>004</th>\n",
       "      <th>03</th>\n",
       "      <th>10</th>\n",
       "      <th>100</th>\n",
       "      <th>1000k</th>\n",
       "      <th>...</th>\n",
       "      <th>yiga</th>\n",
       "      <th>york</th>\n",
       "      <th>young</th>\n",
       "      <th>youtube</th>\n",
       "      <th>ysk</th>\n",
       "      <th>zigfred</th>\n",
       "      <th>zoomies</th>\n",
       "      <th>þrídrangar</th>\n",
       "      <th>delta_com</th>\n",
       "      <th>class_com</th>\n",
       "    </tr>\n",
       "  </thead>\n",
       "  <tbody>\n",
       "    <tr>\n",
       "      <th>228</th>\n",
       "      <td>Disappointed father walks in on son dressed up...</td>\n",
       "      <td>r/LivestreamFail</td>\n",
       "      <td>5.0</td>\n",
       "      <td>265.0</td>\n",
       "      <td>0.0</td>\n",
       "      <td>0.0</td>\n",
       "      <td>0.0</td>\n",
       "      <td>0.0</td>\n",
       "      <td>0.0</td>\n",
       "      <td>0.0</td>\n",
       "      <td>...</td>\n",
       "      <td>0.0</td>\n",
       "      <td>0.0</td>\n",
       "      <td>0.0</td>\n",
       "      <td>0.0</td>\n",
       "      <td>0.0</td>\n",
       "      <td>0.0</td>\n",
       "      <td>0.0</td>\n",
       "      <td>0.0</td>\n",
       "      <td>193.0</td>\n",
       "      <td>1</td>\n",
       "    </tr>\n",
       "    <tr>\n",
       "      <th>138</th>\n",
       "      <td>[Poetry] LIL HAM - XANNY POPPIN</td>\n",
       "      <td>r/youtubehaiku</td>\n",
       "      <td>8.0</td>\n",
       "      <td>164.0</td>\n",
       "      <td>0.0</td>\n",
       "      <td>0.0</td>\n",
       "      <td>0.0</td>\n",
       "      <td>0.0</td>\n",
       "      <td>0.0</td>\n",
       "      <td>0.0</td>\n",
       "      <td>...</td>\n",
       "      <td>0.0</td>\n",
       "      <td>0.0</td>\n",
       "      <td>0.0</td>\n",
       "      <td>0.0</td>\n",
       "      <td>0.0</td>\n",
       "      <td>0.0</td>\n",
       "      <td>0.0</td>\n",
       "      <td>0.0</td>\n",
       "      <td>92.0</td>\n",
       "      <td>1</td>\n",
       "    </tr>\n",
       "    <tr>\n",
       "      <th>52</th>\n",
       "      <td>Legal snafu</td>\n",
       "      <td>r/coaxedintoasnafu</td>\n",
       "      <td>9.0</td>\n",
       "      <td>115.0</td>\n",
       "      <td>0.0</td>\n",
       "      <td>0.0</td>\n",
       "      <td>0.0</td>\n",
       "      <td>0.0</td>\n",
       "      <td>0.0</td>\n",
       "      <td>0.0</td>\n",
       "      <td>...</td>\n",
       "      <td>0.0</td>\n",
       "      <td>0.0</td>\n",
       "      <td>0.0</td>\n",
       "      <td>0.0</td>\n",
       "      <td>0.0</td>\n",
       "      <td>0.0</td>\n",
       "      <td>0.0</td>\n",
       "      <td>0.0</td>\n",
       "      <td>43.0</td>\n",
       "      <td>1</td>\n",
       "    </tr>\n",
       "  </tbody>\n",
       "</table>\n",
       "<p>3 rows × 1898 columns</p>\n",
       "</div>"
      ],
      "text/plain": [
       "                                                 title           subreddit  \\\n",
       "228  Disappointed father walks in on son dressed up...    r/LivestreamFail   \n",
       "138                    [Poetry] LIL HAM - XANNY POPPIN      r/youtubehaiku   \n",
       "52                                         Legal snafu  r/coaxedintoasnafu   \n",
       "\n",
       "     time_up  comments  000  004   03   10  100  1000k    ...      yiga  york  \\\n",
       "228      5.0     265.0  0.0  0.0  0.0  0.0  0.0    0.0    ...       0.0   0.0   \n",
       "138      8.0     164.0  0.0  0.0  0.0  0.0  0.0    0.0    ...       0.0   0.0   \n",
       "52       9.0     115.0  0.0  0.0  0.0  0.0  0.0    0.0    ...       0.0   0.0   \n",
       "\n",
       "     young  youtube  ysk  zigfred  zoomies  þrídrangar  delta_com  class_com  \n",
       "228    0.0      0.0  0.0      0.0      0.0         0.0      193.0          1  \n",
       "138    0.0      0.0  0.0      0.0      0.0         0.0       92.0          1  \n",
       "52     0.0      0.0  0.0      0.0      0.0         0.0       43.0          1  \n",
       "\n",
       "[3 rows x 1898 columns]"
      ]
     },
     "execution_count": 517,
     "metadata": {},
     "output_type": "execute_result"
    }
   ],
   "source": [
    "indep_testW = indep_test.drop(indep_test.iloc[:, 4:318], axis=1)\n",
    "\n",
    "indep_testW.head(3)"
   ]
  },
  {
   "cell_type": "markdown",
   "metadata": {},
   "source": [
    "Gridsearch, best C"
   ]
  },
  {
   "cell_type": "code",
   "execution_count": 518,
   "metadata": {},
   "outputs": [
    {
     "data": {
      "text/plain": [
       "{'best_params': {'C': 100.0, 'solver': 'newton-cg'},\n",
       " 'best_score': 0.5312780102966776}"
      ]
     },
     "execution_count": 518,
     "metadata": {},
     "output_type": "execute_result"
    }
   ],
   "source": [
    "# Declare indep\n",
    "# don't forget to drop a word\n",
    "indep_train4 = indep_trainW.drop(['comments', 'delta_com', 'class_com', 'title', 'subreddit','got'], axis=1)\n",
    "indep_test4 = indep_testW.drop(['comments', 'delta_com', 'class_com', 'title', 'subreddit','got'], axis=1)\n",
    "\n",
    "# Gridsearch\n",
    "grid = {'C': np.power(10.0, np.arange(-10, 10)), 'solver': ['newton-cg']} # newton with ovr\n",
    "clf = LogisticRegression(penalty='l2', random_state=24, max_iter=10000) #ovr default, l2 with newton\n",
    "\n",
    "get_best_hype(clf, grid, indep_train4, dep_train)"
   ]
  },
  {
   "cell_type": "markdown",
   "metadata": {},
   "source": [
    "Model + best C"
   ]
  },
  {
   "cell_type": "code",
   "execution_count": 519,
   "metadata": {},
   "outputs": [
    {
     "data": {
      "text/plain": [
       "{'accuracy': 0.4473684210526316,\n",
       " 'pred_mean': 0.5350877192982456,\n",
       " 'score_mean': 0.5969038208168642,\n",
       " 'y_pred_mean': 0.11403508771929824}"
      ]
     },
     "execution_count": 519,
     "metadata": {},
     "output_type": "execute_result"
    }
   ],
   "source": [
    "# chose model and use best C\n",
    "model = LogisticRegression(C=100.0)\n",
    "\n",
    "# call function\n",
    "evaluate_model(model, indep_train4, indep_test4, dep_train, dep_test)"
   ]
  },
  {
   "cell_type": "markdown",
   "metadata": {
    "collapsed": true
   },
   "source": [
    "######"
   ]
  },
  {
   "cell_type": "markdown",
   "metadata": {},
   "source": [
    "**What are the 10 most important features and what words does the features correspond to?**"
   ]
  },
  {
   "cell_type": "code",
   "execution_count": 520,
   "metadata": {
    "scrolled": true
   },
   "outputs": [
    {
     "data": {
      "text/plain": [
       "fucking                0.988084\n",
       "interesting            0.866266\n",
       "happiness              0.826502\n",
       "downhill               0.786014\n",
       "absolutelynotme_irl    0.772542\n",
       "rollin                 0.772542\n",
       "watching               0.752456\n",
       "flip                   0.745633\n",
       "legit                  0.745633\n",
       "time_up                0.740577\n",
       "eye                    0.654414\n",
       "dtype: float64"
      ]
     },
     "execution_count": 520,
     "metadata": {},
     "output_type": "execute_result"
    }
   ],
   "source": [
    "# Look at the feature importance with coef_\n",
    "pd.Series(dict(zip(indep_train4.columns,model.coef_[0]))).abs().sort_values(ascending=False).head(11)"
   ]
  },
  {
   "cell_type": "code",
   "execution_count": 521,
   "metadata": {},
   "outputs": [
    {
     "data": {
      "image/png": "[encoded data removed]",
      "text/plain": [
       "<matplotlib.figure.Figure at 0x1a12042cc0>"
      ]
     },
     "metadata": {},
     "output_type": "display_data"
    }
   ],
   "source": [
    "pd.Series(dict(zip(indep_train4.columns,model.coef_[0]))).abs().sort_values(ascending=False).head(11).plot(kind='barh');"
   ]
  },
  {
   "cell_type": "markdown",
   "metadata": {
    "collapsed": true
   },
   "source": [
    "#########"
   ]
  },
  {
   "cell_type": "markdown",
   "metadata": {},
   "source": [
    "**time_up + 10 most important words from feature importance test**"
   ]
  },
  {
   "cell_type": "markdown",
   "metadata": {},
   "source": [
    "Gridsearch, best C"
   ]
  },
  {
   "cell_type": "code",
   "execution_count": 522,
   "metadata": {},
   "outputs": [
    {
     "data": {
      "text/plain": [
       "{'best_params': {'C': 1e-10, 'solver': 'newton-cg'},\n",
       " 'best_score': 0.7135620763731989}"
      ]
     },
     "execution_count": 522,
     "metadata": {},
     "output_type": "execute_result"
    }
   ],
   "source": [
    "# Declare indep\n",
    "indep_train18 = indep_train[['time_up', 'legit', 'flip', 'watching', 'rollin', 'absolutelynotme_irl', 'downhill' ,'happiness', 'interesting', 'fucking', 'eye']]\n",
    "indep_test18 = indep_test[['time_up', 'legit', 'flip', 'watching', 'rollin', 'absolutelynotme_irl', 'downhill' ,'happiness', 'interesting', 'fucking', 'eye']]\n",
    "\n",
    "# Gridsearch\n",
    "grid = {'C': np.power(10.0, np.arange(-10, 10)), 'solver': ['newton-cg']} # newton with ovr\n",
    "clf = LogisticRegression(penalty='l2', random_state=24, max_iter=10000) #ovr default, l2 with newton\n",
    "\n",
    "get_best_hype(clf, grid, indep_train18, dep_train)"
   ]
  },
  {
   "cell_type": "markdown",
   "metadata": {},
   "source": [
    "Model + best C"
   ]
  },
  {
   "cell_type": "code",
   "execution_count": 523,
   "metadata": {},
   "outputs": [
    {
     "data": {
      "text/plain": [
       "{'accuracy': 0.6403508771929824,\n",
       " 'pred_mean': 0.8508771929824561,\n",
       " 'score_mean': 0.5965085638998683,\n",
       " 'y_pred_mean': 0.5175438596491229}"
      ]
     },
     "execution_count": 523,
     "metadata": {},
     "output_type": "execute_result"
    }
   ],
   "source": [
    "# chose model and use best C\n",
    "model = LogisticRegression(C=1e-10)\n",
    "\n",
    "# call function\n",
    "evaluate_model(model, indep_train18, indep_test18, dep_train, dep_test)"
   ]
  },
  {
   "cell_type": "markdown",
   "metadata": {
    "collapsed": true
   },
   "source": [
    "######"
   ]
  },
  {
   "cell_type": "markdown",
   "metadata": {},
   "source": [
    "**time_up + top 10 words from NLP**"
   ]
  },
  {
   "cell_type": "code",
   "execution_count": 524,
   "metadata": {},
   "outputs": [
    {
     "data": {
      "text/plain": [
       "{'best_params': {'C': 1e-09, 'solver': 'newton-cg'},\n",
       " 'best_score': 0.666619689618134}"
      ]
     },
     "execution_count": 524,
     "metadata": {},
     "output_type": "execute_result"
    }
   ],
   "source": [
    "# Declare indep\n",
    "indep_train8 = indep_train[['time_up','year', 'people','just','work','time','til', 'oc', 'don', 'black', 'trump']]\n",
    "indep_test8 = indep_test[['time_up','year', 'people','just','work','time','til', 'oc', 'don', 'black', 'trump']]\n",
    "\n",
    "# Gridsearch\n",
    "grid = {'C': np.power(10.0, np.arange(-10, 10)), 'solver': ['newton-cg']} # newton with ovr\n",
    "clf = LogisticRegression(penalty='l2', random_state=24, max_iter=10000) #ovr default, l2 with newton\n",
    "\n",
    "get_best_hype(clf, grid, indep_train8, dep_train)"
   ]
  },
  {
   "cell_type": "markdown",
   "metadata": {},
   "source": [
    "Model + best C"
   ]
  },
  {
   "cell_type": "code",
   "execution_count": 525,
   "metadata": {},
   "outputs": [
    {
     "data": {
      "text/plain": [
       "{'accuracy': 0.6228070175438597,\n",
       " 'pred_mean': 0.6578947368421053,\n",
       " 'score_mean': 0.5798418972332016,\n",
       " 'y_pred_mean': 0.5175438596491229}"
      ]
     },
     "execution_count": 525,
     "metadata": {},
     "output_type": "execute_result"
    }
   ],
   "source": [
    "# chose model and use best C\n",
    "model = LogisticRegression(C=1e-9)\n",
    "\n",
    "# call function\n",
    "evaluate_model(model, indep_train8, indep_test8, dep_train, dep_test)"
   ]
  },
  {
   "cell_type": "markdown",
   "metadata": {
    "collapsed": true
   },
   "source": [
    "#########################################"
   ]
  },
  {
   "cell_type": "markdown",
   "metadata": {},
   "source": [
    "**time_up + all subreddit dummies**"
   ]
  },
  {
   "cell_type": "markdown",
   "metadata": {},
   "source": [
    "#### Make new data frame and exclude the words from NLP"
   ]
  },
  {
   "cell_type": "code",
   "execution_count": 526,
   "metadata": {},
   "outputs": [
    {
     "data": {
      "text/html": [
       "<div>\n",
       "<style>\n",
       "    .dataframe thead tr:only-child th {\n",
       "        text-align: right;\n",
       "    }\n",
       "\n",
       "    .dataframe thead th {\n",
       "        text-align: left;\n",
       "    }\n",
       "\n",
       "    .dataframe tbody tr th {\n",
       "        vertical-align: top;\n",
       "    }\n",
       "</style>\n",
       "<table border=\"1\" class=\"dataframe\">\n",
       "  <thead>\n",
       "    <tr style=\"text-align: right;\">\n",
       "      <th></th>\n",
       "      <th>title</th>\n",
       "      <th>subreddit</th>\n",
       "      <th>time_up</th>\n",
       "      <th>comments</th>\n",
       "      <th>r/2meirl4meirl</th>\n",
       "      <th>r/ATBGE</th>\n",
       "      <th>r/AbandonedPorn</th>\n",
       "      <th>r/AccidentalRenaissance</th>\n",
       "      <th>r/AccidentalWesAnderson</th>\n",
       "      <th>r/Android</th>\n",
       "      <th>...</th>\n",
       "      <th>r/wholesomebpt</th>\n",
       "      <th>r/wholesomegifs</th>\n",
       "      <th>r/woahdude</th>\n",
       "      <th>r/wokekids</th>\n",
       "      <th>r/worldnews</th>\n",
       "      <th>r/worldpolitics</th>\n",
       "      <th>r/xboxone</th>\n",
       "      <th>r/youdontsurf</th>\n",
       "      <th>r/youseeingthisshit</th>\n",
       "      <th>r/youtubehaiku</th>\n",
       "    </tr>\n",
       "  </thead>\n",
       "  <tbody>\n",
       "    <tr>\n",
       "      <th>448</th>\n",
       "      <td>\"I-I'm not flat! Baka!\"</td>\n",
       "      <td>r/DDLC</td>\n",
       "      <td>9.0</td>\n",
       "      <td>98.0</td>\n",
       "      <td>0.0</td>\n",
       "      <td>0.0</td>\n",
       "      <td>0.0</td>\n",
       "      <td>0.0</td>\n",
       "      <td>0.0</td>\n",
       "      <td>0.0</td>\n",
       "      <td>...</td>\n",
       "      <td>0.0</td>\n",
       "      <td>0.0</td>\n",
       "      <td>0.0</td>\n",
       "      <td>0.0</td>\n",
       "      <td>0.0</td>\n",
       "      <td>0.0</td>\n",
       "      <td>0.0</td>\n",
       "      <td>0.0</td>\n",
       "      <td>0.0</td>\n",
       "      <td>0.0</td>\n",
       "    </tr>\n",
       "    <tr>\n",
       "      <th>451</th>\n",
       "      <td>Halley's Comet... May 15, 1910</td>\n",
       "      <td>r/Astronomy</td>\n",
       "      <td>11.0</td>\n",
       "      <td>35.0</td>\n",
       "      <td>0.0</td>\n",
       "      <td>0.0</td>\n",
       "      <td>0.0</td>\n",
       "      <td>0.0</td>\n",
       "      <td>0.0</td>\n",
       "      <td>0.0</td>\n",
       "      <td>...</td>\n",
       "      <td>0.0</td>\n",
       "      <td>0.0</td>\n",
       "      <td>0.0</td>\n",
       "      <td>0.0</td>\n",
       "      <td>0.0</td>\n",
       "      <td>0.0</td>\n",
       "      <td>0.0</td>\n",
       "      <td>0.0</td>\n",
       "      <td>0.0</td>\n",
       "      <td>0.0</td>\n",
       "    </tr>\n",
       "    <tr>\n",
       "      <th>275</th>\n",
       "      <td>Categorised most locations in Fortnite for the...</td>\n",
       "      <td>r/FortNiteBR</td>\n",
       "      <td>8.0</td>\n",
       "      <td>231.0</td>\n",
       "      <td>0.0</td>\n",
       "      <td>0.0</td>\n",
       "      <td>0.0</td>\n",
       "      <td>0.0</td>\n",
       "      <td>0.0</td>\n",
       "      <td>0.0</td>\n",
       "      <td>...</td>\n",
       "      <td>0.0</td>\n",
       "      <td>0.0</td>\n",
       "      <td>0.0</td>\n",
       "      <td>0.0</td>\n",
       "      <td>0.0</td>\n",
       "      <td>0.0</td>\n",
       "      <td>0.0</td>\n",
       "      <td>0.0</td>\n",
       "      <td>0.0</td>\n",
       "      <td>0.0</td>\n",
       "    </tr>\n",
       "  </tbody>\n",
       "</table>\n",
       "<p>3 rows × 318 columns</p>\n",
       "</div>"
      ],
      "text/plain": [
       "                                                 title     subreddit  time_up  \\\n",
       "448                            \"I-I'm not flat! Baka!\"        r/DDLC      9.0   \n",
       "451                     Halley's Comet... May 15, 1910   r/Astronomy     11.0   \n",
       "275  Categorised most locations in Fortnite for the...  r/FortNiteBR      8.0   \n",
       "\n",
       "     comments  r/2meirl4meirl  r/ATBGE  r/AbandonedPorn  \\\n",
       "448      98.0             0.0      0.0              0.0   \n",
       "451      35.0             0.0      0.0              0.0   \n",
       "275     231.0             0.0      0.0              0.0   \n",
       "\n",
       "     r/AccidentalRenaissance  r/AccidentalWesAnderson  r/Android  \\\n",
       "448                      0.0                      0.0        0.0   \n",
       "451                      0.0                      0.0        0.0   \n",
       "275                      0.0                      0.0        0.0   \n",
       "\n",
       "          ...        r/wholesomebpt  r/wholesomegifs  r/woahdude  r/wokekids  \\\n",
       "448       ...                   0.0              0.0         0.0         0.0   \n",
       "451       ...                   0.0              0.0         0.0         0.0   \n",
       "275       ...                   0.0              0.0         0.0         0.0   \n",
       "\n",
       "     r/worldnews  r/worldpolitics  r/xboxone  r/youdontsurf  \\\n",
       "448          0.0              0.0        0.0            0.0   \n",
       "451          0.0              0.0        0.0            0.0   \n",
       "275          0.0              0.0        0.0            0.0   \n",
       "\n",
       "     r/youseeingthisshit  r/youtubehaiku  \n",
       "448                  0.0             0.0  \n",
       "451                  0.0             0.0  \n",
       "275                  0.0             0.0  \n",
       "\n",
       "[3 rows x 318 columns]"
      ]
     },
     "execution_count": 526,
     "metadata": {},
     "output_type": "execute_result"
    }
   ],
   "source": [
    "indep_trainS = indep_train.iloc[:, 0:318]\n",
    "\n",
    "indep_trainS.head(3)"
   ]
  },
  {
   "cell_type": "code",
   "execution_count": 527,
   "metadata": {
    "scrolled": true
   },
   "outputs": [
    {
     "data": {
      "text/html": [
       "<div>\n",
       "<style>\n",
       "    .dataframe thead tr:only-child th {\n",
       "        text-align: right;\n",
       "    }\n",
       "\n",
       "    .dataframe thead th {\n",
       "        text-align: left;\n",
       "    }\n",
       "\n",
       "    .dataframe tbody tr th {\n",
       "        vertical-align: top;\n",
       "    }\n",
       "</style>\n",
       "<table border=\"1\" class=\"dataframe\">\n",
       "  <thead>\n",
       "    <tr style=\"text-align: right;\">\n",
       "      <th></th>\n",
       "      <th>title</th>\n",
       "      <th>subreddit</th>\n",
       "      <th>time_up</th>\n",
       "      <th>comments</th>\n",
       "      <th>r/2meirl4meirl</th>\n",
       "      <th>r/ATBGE</th>\n",
       "      <th>r/AbandonedPorn</th>\n",
       "      <th>r/AccidentalRenaissance</th>\n",
       "      <th>r/AccidentalWesAnderson</th>\n",
       "      <th>r/Android</th>\n",
       "      <th>...</th>\n",
       "      <th>r/wholesomebpt</th>\n",
       "      <th>r/wholesomegifs</th>\n",
       "      <th>r/woahdude</th>\n",
       "      <th>r/wokekids</th>\n",
       "      <th>r/worldnews</th>\n",
       "      <th>r/worldpolitics</th>\n",
       "      <th>r/xboxone</th>\n",
       "      <th>r/youdontsurf</th>\n",
       "      <th>r/youseeingthisshit</th>\n",
       "      <th>r/youtubehaiku</th>\n",
       "    </tr>\n",
       "  </thead>\n",
       "  <tbody>\n",
       "    <tr>\n",
       "      <th>228</th>\n",
       "      <td>Disappointed father walks in on son dressed up...</td>\n",
       "      <td>r/LivestreamFail</td>\n",
       "      <td>5.0</td>\n",
       "      <td>265.0</td>\n",
       "      <td>0.0</td>\n",
       "      <td>0.0</td>\n",
       "      <td>0.0</td>\n",
       "      <td>0.0</td>\n",
       "      <td>0.0</td>\n",
       "      <td>0.0</td>\n",
       "      <td>...</td>\n",
       "      <td>0.0</td>\n",
       "      <td>0.0</td>\n",
       "      <td>0.0</td>\n",
       "      <td>0.0</td>\n",
       "      <td>0.0</td>\n",
       "      <td>0.0</td>\n",
       "      <td>0.0</td>\n",
       "      <td>0.0</td>\n",
       "      <td>0.0</td>\n",
       "      <td>0.0</td>\n",
       "    </tr>\n",
       "    <tr>\n",
       "      <th>138</th>\n",
       "      <td>[Poetry] LIL HAM - XANNY POPPIN</td>\n",
       "      <td>r/youtubehaiku</td>\n",
       "      <td>8.0</td>\n",
       "      <td>164.0</td>\n",
       "      <td>0.0</td>\n",
       "      <td>0.0</td>\n",
       "      <td>0.0</td>\n",
       "      <td>0.0</td>\n",
       "      <td>0.0</td>\n",
       "      <td>0.0</td>\n",
       "      <td>...</td>\n",
       "      <td>0.0</td>\n",
       "      <td>0.0</td>\n",
       "      <td>0.0</td>\n",
       "      <td>0.0</td>\n",
       "      <td>0.0</td>\n",
       "      <td>0.0</td>\n",
       "      <td>0.0</td>\n",
       "      <td>0.0</td>\n",
       "      <td>0.0</td>\n",
       "      <td>1.0</td>\n",
       "    </tr>\n",
       "    <tr>\n",
       "      <th>52</th>\n",
       "      <td>Legal snafu</td>\n",
       "      <td>r/coaxedintoasnafu</td>\n",
       "      <td>9.0</td>\n",
       "      <td>115.0</td>\n",
       "      <td>0.0</td>\n",
       "      <td>0.0</td>\n",
       "      <td>0.0</td>\n",
       "      <td>0.0</td>\n",
       "      <td>0.0</td>\n",
       "      <td>0.0</td>\n",
       "      <td>...</td>\n",
       "      <td>0.0</td>\n",
       "      <td>0.0</td>\n",
       "      <td>0.0</td>\n",
       "      <td>0.0</td>\n",
       "      <td>0.0</td>\n",
       "      <td>0.0</td>\n",
       "      <td>0.0</td>\n",
       "      <td>0.0</td>\n",
       "      <td>0.0</td>\n",
       "      <td>0.0</td>\n",
       "    </tr>\n",
       "  </tbody>\n",
       "</table>\n",
       "<p>3 rows × 318 columns</p>\n",
       "</div>"
      ],
      "text/plain": [
       "                                                 title           subreddit  \\\n",
       "228  Disappointed father walks in on son dressed up...    r/LivestreamFail   \n",
       "138                    [Poetry] LIL HAM - XANNY POPPIN      r/youtubehaiku   \n",
       "52                                         Legal snafu  r/coaxedintoasnafu   \n",
       "\n",
       "     time_up  comments  r/2meirl4meirl  r/ATBGE  r/AbandonedPorn  \\\n",
       "228      5.0     265.0             0.0      0.0              0.0   \n",
       "138      8.0     164.0             0.0      0.0              0.0   \n",
       "52       9.0     115.0             0.0      0.0              0.0   \n",
       "\n",
       "     r/AccidentalRenaissance  r/AccidentalWesAnderson  r/Android  \\\n",
       "228                      0.0                      0.0        0.0   \n",
       "138                      0.0                      0.0        0.0   \n",
       "52                       0.0                      0.0        0.0   \n",
       "\n",
       "          ...        r/wholesomebpt  r/wholesomegifs  r/woahdude  r/wokekids  \\\n",
       "228       ...                   0.0              0.0         0.0         0.0   \n",
       "138       ...                   0.0              0.0         0.0         0.0   \n",
       "52        ...                   0.0              0.0         0.0         0.0   \n",
       "\n",
       "     r/worldnews  r/worldpolitics  r/xboxone  r/youdontsurf  \\\n",
       "228          0.0              0.0        0.0            0.0   \n",
       "138          0.0              0.0        0.0            0.0   \n",
       "52           0.0              0.0        0.0            0.0   \n",
       "\n",
       "     r/youseeingthisshit  r/youtubehaiku  \n",
       "228                  0.0             0.0  \n",
       "138                  0.0             1.0  \n",
       "52                   0.0             0.0  \n",
       "\n",
       "[3 rows x 318 columns]"
      ]
     },
     "execution_count": 527,
     "metadata": {},
     "output_type": "execute_result"
    }
   ],
   "source": [
    "indep_testS = indep_test.iloc[:, 0:318]\n",
    "\n",
    "indep_testS.head(3)"
   ]
  },
  {
   "cell_type": "markdown",
   "metadata": {},
   "source": [
    "Gridsearch, best C"
   ]
  },
  {
   "cell_type": "code",
   "execution_count": 529,
   "metadata": {},
   "outputs": [
    {
     "data": {
      "text/plain": [
       "{'best_params': {'C': 1e-06, 'solver': 'newton-cg'},\n",
       " 'best_score': 0.6770216489499611}"
      ]
     },
     "execution_count": 529,
     "metadata": {},
     "output_type": "execute_result"
    }
   ],
   "source": [
    "# Declare indep\n",
    "# don't forget to drop a subreddit\n",
    "indep_train6 = indep_trainS.drop(['comments', 'title', 'subreddit','r/gifs'], axis=1)\n",
    "indep_test6 = indep_testS.drop(['comments', 'title', 'subreddit', 'r/gifs'], axis=1)\n",
    "\n",
    "# Gridsearch\n",
    "grid = {'C': np.power(10.0, np.arange(-10, 10)), 'solver': ['newton-cg']} # newton with ovr\n",
    "clf = LogisticRegression(penalty='l2', random_state=24, max_iter=10000) #ovr default, l2 with newton\n",
    "\n",
    "get_best_hype(clf, grid, indep_train6, dep_train)"
   ]
  },
  {
   "cell_type": "markdown",
   "metadata": {},
   "source": [
    "Model + best C"
   ]
  },
  {
   "cell_type": "code",
   "execution_count": 530,
   "metadata": {},
   "outputs": [
    {
     "data": {
      "text/plain": [
       "{'accuracy': 0.6578947368421053,\n",
       " 'pred_mean': 0.8157894736842105,\n",
       " 'score_mean': 0.5794795783926218,\n",
       " 'y_pred_mean': 0.5350877192982456}"
      ]
     },
     "execution_count": 530,
     "metadata": {},
     "output_type": "execute_result"
    }
   ],
   "source": [
    "# chose model and use best C\n",
    "model = LogisticRegression(C=1e-06)\n",
    "\n",
    "# call function\n",
    "evaluate_model(model, indep_train6, indep_test6, dep_train, dep_test)"
   ]
  },
  {
   "cell_type": "markdown",
   "metadata": {
    "collapsed": true
   },
   "source": [
    "###########"
   ]
  },
  {
   "cell_type": "markdown",
   "metadata": {},
   "source": [
    "**What are the 10 most important features and what subreddit does the features correspond to?**"
   ]
  },
  {
   "cell_type": "code",
   "execution_count": 532,
   "metadata": {},
   "outputs": [
    {
     "data": {
      "text/plain": [
       "time_up           0.000042\n",
       "r/rarepuppers     0.000015\n",
       "r/AskReddit       0.000013\n",
       "r/videos          0.000013\n",
       "r/FortNiteBR      0.000013\n",
       "r/worldnews       0.000013\n",
       "r/offlineTV       0.000012\n",
       "r/Art             0.000012\n",
       "r/NYYankees       0.000012\n",
       "r/science         0.000011\n",
       "r/reactiongifs    0.000011\n",
       "dtype: float64"
      ]
     },
     "execution_count": 532,
     "metadata": {},
     "output_type": "execute_result"
    }
   ],
   "source": [
    "# Look at the feature importance with coef_\n",
    "pd.Series(dict(zip(indep_train6.columns,model.coef_[0]))).abs().sort_values(ascending=False).head(11)"
   ]
  },
  {
   "cell_type": "code",
   "execution_count": 533,
   "metadata": {},
   "outputs": [
    {
     "data": {
      "text/plain": [
       "<matplotlib.axes._subplots.AxesSubplot at 0x1a12048128>"
      ]
     },
     "execution_count": 533,
     "metadata": {},
     "output_type": "execute_result"
    },
    {
     "data": {
      "image/png": "[encoded data removed]",
      "text/plain": [
       "<matplotlib.figure.Figure at 0x1a0c9ed748>"
      ]
     },
     "metadata": {},
     "output_type": "display_data"
    }
   ],
   "source": [
    "pd.Series(dict(zip(indep_train6.columns,model.coef_[0]))).abs().sort_values(ascending=False).head(11).plot(kind='barh')"
   ]
  },
  {
   "cell_type": "markdown",
   "metadata": {},
   "source": [
    "Gridsearch, best C"
   ]
  },
  {
   "cell_type": "code",
   "execution_count": 536,
   "metadata": {},
   "outputs": [
    {
     "name": "stderr",
     "output_type": "stream",
     "text": [
      "/anaconda3/lib/python3.6/site-packages/scipy/optimize/linesearch.py:285: LineSearchWarning: The line search algorithm did not converge\n",
      "  warn('The line search algorithm did not converge', LineSearchWarning)\n",
      "/anaconda3/lib/python3.6/site-packages/sklearn/utils/optimize.py:195: UserWarning: Line Search failed\n",
      "  warnings.warn('Line Search failed')\n",
      "/anaconda3/lib/python3.6/site-packages/scipy/optimize/linesearch.py:285: LineSearchWarning: The line search algorithm did not converge\n",
      "  warn('The line search algorithm did not converge', LineSearchWarning)\n",
      "/anaconda3/lib/python3.6/site-packages/sklearn/utils/optimize.py:195: UserWarning: Line Search failed\n",
      "  warnings.warn('Line Search failed')\n",
      "/anaconda3/lib/python3.6/site-packages/scipy/optimize/linesearch.py:285: LineSearchWarning: The line search algorithm did not converge\n",
      "  warn('The line search algorithm did not converge', LineSearchWarning)\n",
      "/anaconda3/lib/python3.6/site-packages/sklearn/utils/optimize.py:195: UserWarning: Line Search failed\n",
      "  warnings.warn('Line Search failed')\n"
     ]
    },
    {
     "data": {
      "text/plain": [
       "{'best_params': {'C': 10.0, 'solver': 'newton-cg'},\n",
       " 'best_score': 0.7540433904959443}"
      ]
     },
     "execution_count": 536,
     "metadata": {},
     "output_type": "execute_result"
    }
   ],
   "source": [
    "# Declare indep\n",
    "indep_train20 = indep_train6[['time_up','r/rarepuppers', 'r/AskReddit','r/videos','r/FortNiteBR', 'r/worldnews','r/offlineTV','r/Art','r/NYYankees','r/science','r/reactiongifs']]\n",
    "indep_test20 = indep_test6[['time_up','r/rarepuppers', 'r/AskReddit','r/videos','r/FortNiteBR', 'r/worldnews','r/offlineTV','r/Art','r/NYYankees','r/science','r/reactiongifs']]\n",
    "\n",
    "# Gridsearch\n",
    "grid = {'C': np.power(10.0, np.arange(-10, 10)), 'solver': ['newton-cg']} # newton with ovr\n",
    "clf = LogisticRegression(penalty='l2', random_state=24, max_iter=10000) #ovr default, l2 with newton\n",
    "\n",
    "get_best_hype(clf, grid, indep_train20, dep_train)"
   ]
  },
  {
   "cell_type": "markdown",
   "metadata": {},
   "source": [
    "I can't get it to converge (changing max_iter)"
   ]
  },
  {
   "cell_type": "markdown",
   "metadata": {},
   "source": [
    "Model + best C"
   ]
  },
  {
   "cell_type": "code",
   "execution_count": 537,
   "metadata": {},
   "outputs": [
    {
     "data": {
      "text/plain": [
       "{'accuracy': 0.6491228070175439,\n",
       " 'pred_mean': 0.7017543859649122,\n",
       " 'score_mean': 0.5703886693017127,\n",
       " 'y_pred_mean': 0.5263157894736842}"
      ]
     },
     "execution_count": 537,
     "metadata": {},
     "output_type": "execute_result"
    }
   ],
   "source": [
    "# chose model and use best C\n",
    "model = LogisticRegression(C=10.0)\n",
    "\n",
    "# call function\n",
    "evaluate_model(model, indep_train20, indep_test20, dep_train, dep_test)"
   ]
  },
  {
   "cell_type": "markdown",
   "metadata": {
    "collapsed": true
   },
   "source": [
    "######"
   ]
  },
  {
   "cell_type": "markdown",
   "metadata": {},
   "source": [
    "**time_up + top 10 subreddit dummies**"
   ]
  },
  {
   "cell_type": "markdown",
   "metadata": {},
   "source": [
    "Gridsearch, best C"
   ]
  },
  {
   "cell_type": "code",
   "execution_count": 538,
   "metadata": {},
   "outputs": [
    {
     "data": {
      "text/plain": [
       "{'best_params': {'C': 1e-09, 'solver': 'newton-cg'},\n",
       " 'best_score': 0.6716898774028668}"
      ]
     },
     "execution_count": 538,
     "metadata": {},
     "output_type": "execute_result"
    }
   ],
   "source": [
    "# Declare indep\n",
    "indep_train10 = indep_train[['time_up','r/pics', 'r/aww','r/funny','r/FortNiteBR','r/BlackPeopleTwitter','r/todayilearned', 'r/rupaulsdragrace', 'r/marvelstudios', 'r/food', 'r/rarepuppers']]\n",
    "indep_test10 = indep_test[['time_up','r/pics', 'r/aww','r/funny','r/FortNiteBR','r/BlackPeopleTwitter','r/todayilearned', 'r/rupaulsdragrace', 'r/marvelstudios', 'r/food', 'r/rarepuppers']]\n",
    "\n",
    "# Gridsearch\n",
    "grid = {'C': np.power(10.0, np.arange(-10, 10)), 'solver': ['newton-cg']} # newton with ovr\n",
    "clf = LogisticRegression(penalty='l2', random_state=24, max_iter=10000) #ovr default, l2 with newton\n",
    "\n",
    "get_best_hype(clf, grid, indep_train10, dep_train)"
   ]
  },
  {
   "cell_type": "markdown",
   "metadata": {},
   "source": [
    "Model + best C"
   ]
  },
  {
   "cell_type": "code",
   "execution_count": 539,
   "metadata": {},
   "outputs": [
    {
     "data": {
      "text/plain": [
       "{'accuracy': 0.6403508771929824,\n",
       " 'pred_mean': 0.8333333333333334,\n",
       " 'score_mean': 0.6055994729907773,\n",
       " 'y_pred_mean': 0.5175438596491229}"
      ]
     },
     "execution_count": 539,
     "metadata": {},
     "output_type": "execute_result"
    }
   ],
   "source": [
    "# chose model and use best C\n",
    "model = LogisticRegression(C=1e-09)\n",
    "\n",
    "# call function\n",
    "evaluate_model(model, indep_train10, indep_test10, dep_train, dep_test)"
   ]
  },
  {
   "cell_type": "markdown",
   "metadata": {
    "collapsed": true
   },
   "source": [
    "###############"
   ]
  },
  {
   "cell_type": "markdown",
   "metadata": {},
   "source": [
    "**time_up + 10 most important words and 10 most important subreddits from feature importance test**"
   ]
  },
  {
   "cell_type": "markdown",
   "metadata": {},
   "source": [
    "Gridsearch, best C"
   ]
  },
  {
   "cell_type": "code",
   "execution_count": 540,
   "metadata": {},
   "outputs": [
    {
     "data": {
      "text/plain": [
       "{'best_params': {'C': 100.0, 'solver': 'newton-cg'},\n",
       " 'best_score': 0.7655713174562021}"
      ]
     },
     "execution_count": 540,
     "metadata": {},
     "output_type": "execute_result"
    }
   ],
   "source": [
    "# Declare indep and dep\n",
    "indep_train22 = indep_train[['time_up','legit', 'flip', 'watching', 'rollin', 'absolutelynotme_irl', 'downhill' ,'happiness', 'interesting', 'fucking', 'eye',\n",
    "                             'r/rarepuppers', 'r/AskReddit','r/videos','r/FortNiteBR', 'r/worldnews','r/offlineTV','r/Art','r/NYYankees','r/science','r/reactiongifs']]\n",
    "indep_test22 = indep_test[['time_up','legit', 'flip', 'watching', 'rollin', 'absolutelynotme_irl', 'downhill' ,'happiness', 'interesting', 'fucking', 'eye',\n",
    "                             'r/rarepuppers', 'r/AskReddit','r/videos','r/FortNiteBR', 'r/worldnews','r/offlineTV','r/Art','r/NYYankees','r/science','r/reactiongifs']]\n",
    "dep_train22 = dep_train\n",
    "dep_test22 = dep_test\n",
    "\n",
    "# Gridsearch\n",
    "grid = {'C': np.power(10.0, np.arange(-10, 10)), 'solver': ['newton-cg']} # newton with ovr\n",
    "clf = LogisticRegression(penalty='l2', random_state=24, max_iter=10000) #ovr default, l2 with newton\n",
    "\n",
    "get_best_hype(clf, grid, indep_train22, dep_train22)"
   ]
  },
  {
   "cell_type": "markdown",
   "metadata": {},
   "source": [
    "Model + best C"
   ]
  },
  {
   "cell_type": "code",
   "execution_count": 541,
   "metadata": {},
   "outputs": [
    {
     "data": {
      "text/plain": [
       "{'accuracy': 0.6491228070175439,\n",
       " 'pred_mean': 0.7017543859649122,\n",
       " 'score_mean': 0.5703886693017127,\n",
       " 'y_pred_mean': 0.5263157894736842}"
      ]
     },
     "execution_count": 541,
     "metadata": {},
     "output_type": "execute_result"
    }
   ],
   "source": [
    "# chose model and use best C\n",
    "model = LogisticRegression(C=100.0)\n",
    "\n",
    "# call function\n",
    "evaluate_model(model, indep_train22, indep_test22, dep_train22, dep_test22)"
   ]
  },
  {
   "cell_type": "markdown",
   "metadata": {},
   "source": [
    "**time_up + 5 most important words and 5 most important subreddits from feature importance test**"
   ]
  },
  {
   "cell_type": "code",
   "execution_count": 545,
   "metadata": {},
   "outputs": [
    {
     "name": "stderr",
     "output_type": "stream",
     "text": [
      "/anaconda3/lib/python3.6/site-packages/scipy/optimize/linesearch.py:285: LineSearchWarning: The line search algorithm did not converge\n",
      "  warn('The line search algorithm did not converge', LineSearchWarning)\n",
      "/anaconda3/lib/python3.6/site-packages/sklearn/utils/optimize.py:195: UserWarning: Line Search failed\n",
      "  warnings.warn('Line Search failed')\n",
      "/anaconda3/lib/python3.6/site-packages/scipy/optimize/linesearch.py:285: LineSearchWarning: The line search algorithm did not converge\n",
      "  warn('The line search algorithm did not converge', LineSearchWarning)\n",
      "/anaconda3/lib/python3.6/site-packages/sklearn/utils/optimize.py:195: UserWarning: Line Search failed\n",
      "  warnings.warn('Line Search failed')\n"
     ]
    },
    {
     "data": {
      "text/plain": [
       "{'best_params': {'C': 1.0, 'solver': 'newton-cg'},\n",
       " 'best_score': 0.7511750435201304}"
      ]
     },
     "execution_count": 545,
     "metadata": {},
     "output_type": "execute_result"
    }
   ],
   "source": [
    "# Declare indep and dep\n",
    "indep_train26 = indep_train[['time_up','absolutelynotme_irl', 'downhill' ,'happiness', 'interesting', 'fucking',\n",
    "                             'r/rarepuppers', 'r/AskReddit','r/videos','r/FortNiteBR', 'r/worldnews']]\n",
    "indep_test26 = indep_test[['time_up','absolutelynotme_irl', 'downhill' ,'happiness', 'interesting', 'fucking',\n",
    "                             'r/rarepuppers', 'r/AskReddit','r/videos','r/FortNiteBR', 'r/worldnews']]\n",
    "dep_train26 = dep_train\n",
    "dep_test26 = dep_test\n",
    "\n",
    "# Gridsearch\n",
    "grid = {'C': np.power(10.0, np.arange(-10, 10)), 'solver': ['newton-cg']} # newton with ovr\n",
    "clf = LogisticRegression(penalty='l2', random_state=24, max_iter=10000) #ovr default, l2 with newton\n",
    "\n",
    "get_best_hype(clf, grid, indep_train26, dep_train26)"
   ]
  },
  {
   "cell_type": "markdown",
   "metadata": {},
   "source": [
    "I can't get it to converge (changing max_iter)"
   ]
  },
  {
   "cell_type": "markdown",
   "metadata": {},
   "source": [
    "Model + best C"
   ]
  },
  {
   "cell_type": "code",
   "execution_count": 546,
   "metadata": {},
   "outputs": [
    {
     "data": {
      "text/plain": [
       "{'accuracy': 0.6491228070175439,\n",
       " 'pred_mean': 0.7368421052631579,\n",
       " 'score_mean': 0.5616930171277997,\n",
       " 'y_pred_mean': 0.5263157894736842}"
      ]
     },
     "execution_count": 546,
     "metadata": {},
     "output_type": "execute_result"
    }
   ],
   "source": [
    "# chose model and use best C\n",
    "model = LogisticRegression(C=10.0)\n",
    "\n",
    "# call function\n",
    "evaluate_model(model, indep_train26, indep_test26, dep_train26, dep_test26)"
   ]
  },
  {
   "cell_type": "markdown",
   "metadata": {},
   "source": [
    "**time_up + 4 most important words and 4 most important subreddits from feature importance test**"
   ]
  },
  {
   "cell_type": "code",
   "execution_count": 547,
   "metadata": {},
   "outputs": [
    {
     "data": {
      "text/plain": [
       "{'best_params': {'C': 1.0, 'solver': 'newton-cg'},\n",
       " 'best_score': 0.741121245231305}"
      ]
     },
     "execution_count": 547,
     "metadata": {},
     "output_type": "execute_result"
    }
   ],
   "source": [
    "# Declare indep and dep\n",
    "indep_train30 = indep_train[['time_up','downhill' ,'happiness', 'interesting', 'fucking',\n",
    "                             'r/rarepuppers', 'r/AskReddit','r/videos','r/FortNiteBR']]\n",
    "indep_test30 = indep_test[['time_up','downhill' ,'happiness', 'interesting', 'fucking',\n",
    "                             'r/rarepuppers', 'r/AskReddit','r/videos','r/FortNiteBR']]\n",
    "dep_train30 = dep_train\n",
    "dep_test30 = dep_test\n",
    "\n",
    "# Gridsearch\n",
    "grid = {'C': np.power(10.0, np.arange(-10, 10)), 'solver': ['newton-cg']} # newton with ovr\n",
    "clf = LogisticRegression(penalty='l2', random_state=24, max_iter=10000) #ovr default, l2 with newton\n",
    "\n",
    "get_best_hype(clf, grid, indep_train30, dep_train30)"
   ]
  },
  {
   "cell_type": "markdown",
   "metadata": {},
   "source": [
    "Model + best C"
   ]
  },
  {
   "cell_type": "code",
   "execution_count": 548,
   "metadata": {},
   "outputs": [
    {
     "data": {
      "text/plain": [
       "{'accuracy': 0.6403508771929824,\n",
       " 'pred_mean': 0.7368421052631579,\n",
       " 'score_mean': 0.570026350461133,\n",
       " 'y_pred_mean': 0.5175438596491229}"
      ]
     },
     "execution_count": 548,
     "metadata": {},
     "output_type": "execute_result"
    }
   ],
   "source": [
    "# chose model and use best C\n",
    "model = LogisticRegression(C=1.0)\n",
    "\n",
    "# call function\n",
    "evaluate_model(model, indep_train30, indep_test30, dep_train30, dep_test30)"
   ]
  },
  {
   "cell_type": "markdown",
   "metadata": {},
   "source": [
    "### BESTA LogReg MODEL"
   ]
  },
  {
   "cell_type": "markdown",
   "metadata": {},
   "source": [
    "**time_up + all subreddit dummies**"
   ]
  },
  {
   "cell_type": "code",
   "execution_count": 550,
   "metadata": {},
   "outputs": [
    {
     "data": {
      "text/plain": [
       "{'accuracy': 0.6578947368421053,\n",
       " 'pred_mean': 0.8157894736842105,\n",
       " 'score_mean': 0.5794795783926218,\n",
       " 'y_pred_mean': 0.5350877192982456}"
      ]
     },
     "execution_count": 550,
     "metadata": {},
     "output_type": "execute_result"
    }
   ],
   "source": [
    "# chose model and use best C\n",
    "model = LogisticRegression(C=1e-06)\n",
    "\n",
    "# call function\n",
    "evaluate_model(model, indep_train6, indep_test6, dep_train, dep_test)"
   ]
  },
  {
   "cell_type": "markdown",
   "metadata": {
    "collapsed": true
   },
   "source": [
    "#### Is model OVERFITTED?"
   ]
  },
  {
   "cell_type": "code",
   "execution_count": 554,
   "metadata": {
    "collapsed": true
   },
   "outputs": [],
   "source": [
    "# make a loop and look att different numbers of C \n",
    "scores_test = []\n",
    "scores_train = []\n",
    "c_list = []\n",
    "\n",
    "for i in range(0,20):\n",
    "    c = (i+0.001)/50\n",
    "    clf = LogisticRegression(C = c, random_state = 42)\n",
    "    clf.fit(indep_train6, dep_train)\n",
    "    clf.score(indep_test6, dep_test)\n",
    "\n",
    "    c_list.append(c)\n",
    "    scores_train.append(clf.score(indep_train6, dep_train))\n",
    "    scores_test.append(clf.score(indep_test6, dep_test))"
   ]
  },
  {
   "cell_type": "code",
   "execution_count": 555,
   "metadata": {},
   "outputs": [
    {
     "data": {
      "text/plain": [
       "<matplotlib.legend.Legend at 0x1a24fe1358>"
      ]
     },
     "execution_count": 555,
     "metadata": {},
     "output_type": "execute_result"
    },
    {
     "data": {
      "image/png": "[encoded data removed]",
      "text/plain": [
       "<matplotlib.figure.Figure at 0x1a0cf73ba8>"
      ]
     },
     "metadata": {},
     "output_type": "display_data"
    }
   ],
   "source": [
    "# visualize the data in learning curves \n",
    "plt.plot(c_list, scores_test, label='Test scores')\n",
    "plt.plot(c_list, scores_train, label='Train scores')\n",
    "plt.xlabel('C')\n",
    "plt.ylabel('Accuracy')\n",
    "plt.legend()"
   ]
  },
  {
   "cell_type": "markdown",
   "metadata": {
    "collapsed": true
   },
   "source": [
    "#### Best model new C (look at the plot)"
   ]
  },
  {
   "cell_type": "code",
   "execution_count": 561,
   "metadata": {},
   "outputs": [
    {
     "data": {
      "text/plain": [
       "{'accuracy': 0.6578947368421053,\n",
       " 'pred_mean': 0.6842105263157895,\n",
       " 'score_mean': 0.5181488801054018,\n",
       " 'y_pred_mean': 0.41228070175438597}"
      ]
     },
     "execution_count": 561,
     "metadata": {},
     "output_type": "execute_result"
    }
   ],
   "source": [
    "# chose model and use best C\n",
    "model = LogisticRegression(C=0.4)\n",
    "\n",
    "# call function\n",
    "evaluate_model(model, indep_train6, indep_test6, dep_train, dep_test)"
   ]
  },
  {
   "cell_type": "markdown",
   "metadata": {},
   "source": [
    "### Random forest"
   ]
  },
  {
   "cell_type": "markdown",
   "metadata": {},
   "source": [
    "I used the same functions for the LogReg and the Random forest. But you do not really have to scale inte the Random forest. But it's already in the function, so I just wanted to make a comment about that it will not make any difference for the Random forest. "
   ]
  },
  {
   "cell_type": "markdown",
   "metadata": {},
   "source": [
    "**time_up**"
   ]
  },
  {
   "cell_type": "markdown",
   "metadata": {},
   "source": [
    "Gridsearch, best max_depth"
   ]
  },
  {
   "cell_type": "code",
   "execution_count": 562,
   "metadata": {},
   "outputs": [
    {
     "data": {
      "text/plain": [
       "{'best_params': {'max_depth': 3}, 'best_score': 0.6967844179414053}"
      ]
     },
     "execution_count": 562,
     "metadata": {},
     "output_type": "execute_result"
    }
   ],
   "source": [
    "# Declare indep and dep\n",
    "indep_train1 = indep_train[['time_up']]\n",
    "indep_test1 = indep_test[['time_up']]\n",
    "dep_train1 = dep_train\n",
    "dep_test1 = dep_test\n",
    "\n",
    "# Gridsearch\n",
    "grid = {'max_depth': np.arange(1,10)}\n",
    "rfc = RandomForestClassifier(n_estimators=100, random_state=24)\n",
    "\n",
    "get_best_hype(rfc, grid, indep_train1, dep_train1)"
   ]
  },
  {
   "cell_type": "markdown",
   "metadata": {},
   "source": [
    "Model + best max_depth"
   ]
  },
  {
   "cell_type": "code",
   "execution_count": 563,
   "metadata": {},
   "outputs": [
    {
     "data": {
      "text/plain": [
       "{'accuracy': 0.5701754385964912,\n",
       " 'pred_mean': 0.6842105263157895,\n",
       " 'score_mean': 0.5881752305665349,\n",
       " 'y_pred_mean': 0.6578947368421053}"
      ]
     },
     "execution_count": 563,
     "metadata": {},
     "output_type": "execute_result"
    }
   ],
   "source": [
    "# chose model and use best max_depth\n",
    "model = RandomForestClassifier(max_depth=3, n_estimators=100, random_state=24) # default n_estimators = 10\n",
    "\n",
    "# call function\n",
    "evaluate_model(model, indep_train1, indep_test1, dep_train1, dep_test1)"
   ]
  },
  {
   "cell_type": "markdown",
   "metadata": {
    "collapsed": true
   },
   "source": [
    "#############"
   ]
  },
  {
   "cell_type": "markdown",
   "metadata": {},
   "source": [
    "**time_up + all words from NLP + all subreddit**"
   ]
  },
  {
   "cell_type": "markdown",
   "metadata": {},
   "source": [
    "Gridsearch, best max_depth"
   ]
  },
  {
   "cell_type": "code",
   "execution_count": 564,
   "metadata": {},
   "outputs": [
    {
     "data": {
      "text/plain": [
       "{'best_params': {'max_depth': 1}, 'best_score': 0.6509552205637246}"
      ]
     },
     "execution_count": 564,
     "metadata": {},
     "output_type": "execute_result"
    }
   ],
   "source": [
    "# Declare indep\n",
    "# don't forget to drop a word and a subreddit\n",
    "indep_train2 = indep_train.drop(['comments', 'delta_com', 'class_com', 'title', 'subreddit', 'got', 'r/gifs'], axis=1)\n",
    "indep_test2 = indep_test.drop(['comments', 'delta_com', 'class_com', 'title', 'subreddit', 'got', 'r/gifs'], axis=1)\n",
    "\n",
    "# Gridsearch\n",
    "grid = {'max_depth': np.arange(1,10)}\n",
    "rfc = RandomForestClassifier(n_estimators=100, random_state=24)\n",
    "\n",
    "get_best_hype(rfc, grid, indep_train2, dep_train)"
   ]
  },
  {
   "cell_type": "markdown",
   "metadata": {},
   "source": [
    "Model + best max_depth"
   ]
  },
  {
   "cell_type": "code",
   "execution_count": 565,
   "metadata": {},
   "outputs": [
    {
     "data": {
      "text/plain": [
       "{'accuracy': 0.5789473684210527,\n",
       " 'pred_mean': 1.0,\n",
       " 'score_mean': 0.5791172595520421,\n",
       " 'y_pred_mean': 1.0}"
      ]
     },
     "execution_count": 565,
     "metadata": {},
     "output_type": "execute_result"
    }
   ],
   "source": [
    "# chose model and use best max_depth\n",
    "model = RandomForestClassifier(max_depth=1, n_estimators=100, random_state=24)\n",
    "\n",
    "# call function\n",
    "evaluate_model(model, indep_train2, indep_test2, dep_train, dep_test)"
   ]
  },
  {
   "cell_type": "markdown",
   "metadata": {
    "collapsed": true
   },
   "source": [
    "###############################################################################"
   ]
  },
  {
   "cell_type": "markdown",
   "metadata": {},
   "source": [
    "**time_up + all words from NLP**"
   ]
  },
  {
   "cell_type": "markdown",
   "metadata": {},
   "source": [
    "Gridsearch, best max_depth"
   ]
  },
  {
   "cell_type": "code",
   "execution_count": 566,
   "metadata": {},
   "outputs": [
    {
     "data": {
      "text/plain": [
       "{'best_params': {'max_depth': 1}, 'best_score': 0.6454278862180082}"
      ]
     },
     "execution_count": 566,
     "metadata": {},
     "output_type": "execute_result"
    }
   ],
   "source": [
    "# Declare indep\n",
    "# don't forget to drop a word\n",
    "indep_train4 = indep_trainW.drop(['comments', 'delta_com', 'class_com', 'title', 'subreddit','got'], axis=1)\n",
    "indep_test4 = indep_testW.drop(['comments', 'delta_com', 'class_com', 'title', 'subreddit','got'], axis=1)\n",
    "\n",
    "# Vridsearch\n",
    "grid = {'max_depth': np.arange(1,10)}\n",
    "rfc = RandomForestClassifier(n_estimators=100, random_state=24)\n",
    "\n",
    "get_best_hype(rfc, grid, indep_train4, dep_train)"
   ]
  },
  {
   "cell_type": "markdown",
   "metadata": {},
   "source": [
    "Model + best max_depth"
   ]
  },
  {
   "cell_type": "code",
   "execution_count": 567,
   "metadata": {},
   "outputs": [
    {
     "data": {
      "text/plain": [
       "{'accuracy': 0.5789473684210527,\n",
       " 'pred_mean': 1.0,\n",
       " 'score_mean': 0.5791172595520421,\n",
       " 'y_pred_mean': 1.0}"
      ]
     },
     "execution_count": 567,
     "metadata": {},
     "output_type": "execute_result"
    }
   ],
   "source": [
    "# chose model and use best max_depth\n",
    "model = RandomForestClassifier(max_depth=1, n_estimators=100, random_state=24)\n",
    "\n",
    "# call function\n",
    "evaluate_model(model, indep_train4, indep_test4, dep_train, dep_test)"
   ]
  },
  {
   "cell_type": "markdown",
   "metadata": {
    "collapsed": true
   },
   "source": [
    "################"
   ]
  },
  {
   "cell_type": "markdown",
   "metadata": {},
   "source": [
    "**What are the 10 most important features and what words does the features correspond to?**<BR />\n",
    "With the code part for the feature importance and the word I got help from Adam with the code."
   ]
  },
  {
   "cell_type": "code",
   "execution_count": 569,
   "metadata": {},
   "outputs": [
    {
     "data": {
      "text/plain": [
       "sad         0.02\n",
       "way         0.02\n",
       "better      0.02\n",
       "fresh       0.02\n",
       "brain       0.02\n",
       "human       0.02\n",
       "gunpoint    0.01\n",
       "hero        0.01\n",
       "correct     0.01\n",
       "paint       0.01\n",
       "dtype: float64"
      ]
     },
     "execution_count": 569,
     "metadata": {},
     "output_type": "execute_result"
    }
   ],
   "source": [
    "# Look at the feature importance\n",
    "pd.Series(dict(zip(indep_train4.columns,model.feature_importances_))).abs().sort_values(ascending=False).head(10)"
   ]
  },
  {
   "cell_type": "code",
   "execution_count": 570,
   "metadata": {},
   "outputs": [
    {
     "data": {
      "text/plain": [
       "<matplotlib.axes._subplots.AxesSubplot at 0x1a0e3c49b0>"
      ]
     },
     "execution_count": 570,
     "metadata": {},
     "output_type": "execute_result"
    },
    {
     "data": {
      "image/png": "[encoded data removed]",
      "text/plain": [
       "<matplotlib.figure.Figure at 0x1a0dcf8550>"
      ]
     },
     "metadata": {},
     "output_type": "display_data"
    }
   ],
   "source": [
    "# Look at the feature importance in a plot\n",
    "pd.Series(dict(zip(indep_train4.columns,model.feature_importances_))).abs().sort_values(ascending=False).head(10).plot(kind='barh')"
   ]
  },
  {
   "cell_type": "markdown",
   "metadata": {
    "collapsed": true
   },
   "source": [
    "#########"
   ]
  },
  {
   "cell_type": "markdown",
   "metadata": {},
   "source": [
    "**time_up + 10 most important words from feature importance test**"
   ]
  },
  {
   "cell_type": "markdown",
   "metadata": {},
   "source": [
    "Gridsearch, best max_depth"
   ]
  },
  {
   "cell_type": "code",
   "execution_count": 573,
   "metadata": {},
   "outputs": [
    {
     "data": {
      "text/plain": [
       "{'best_params': {'max_depth': 7}, 'best_score': 0.7043158079928886}"
      ]
     },
     "execution_count": 573,
     "metadata": {},
     "output_type": "execute_result"
    }
   ],
   "source": [
    "# Declare indep\n",
    "indep_train12 = indep_train[['time_up','sad', 'way','better','fresh', 'brain','human','gunpoint', 'hero','correct','paint']]\n",
    "indep_test12 = indep_test[['time_up','sad', 'way','better','fresh', 'brain','human','gunpoint', 'hero','correct','paint']]\n",
    "\n",
    "# Vridsearch\n",
    "grid = {'max_depth': np.arange(1,10)}\n",
    "rfc = RandomForestClassifier(n_estimators=100, random_state=24)\n",
    "\n",
    "get_best_hype(rfc, grid, indep_train12, dep_train)"
   ]
  },
  {
   "cell_type": "markdown",
   "metadata": {},
   "source": [
    "Model + best max_depth"
   ]
  },
  {
   "cell_type": "code",
   "execution_count": 574,
   "metadata": {},
   "outputs": [
    {
     "data": {
      "text/plain": [
       "{'accuracy': 0.5789473684210527,\n",
       " 'pred_mean': 0.7368421052631579,\n",
       " 'score_mean': 0.61465744400527,\n",
       " 'y_pred_mean': 0.6491228070175439}"
      ]
     },
     "execution_count": 574,
     "metadata": {},
     "output_type": "execute_result"
    }
   ],
   "source": [
    "# chose model and use best max_depth\n",
    "model = RandomForestClassifier(max_depth=7, n_estimators=100, random_state=24)\n",
    "\n",
    "# call function\n",
    "evaluate_model(model, indep_train12, indep_test12, dep_train, dep_test)"
   ]
  },
  {
   "cell_type": "markdown",
   "metadata": {},
   "source": [
    "**time_up + top 10 words from NLP**"
   ]
  },
  {
   "cell_type": "markdown",
   "metadata": {},
   "source": [
    "Gridsearch, best max_depth"
   ]
  },
  {
   "cell_type": "code",
   "execution_count": 576,
   "metadata": {},
   "outputs": [
    {
     "data": {
      "text/plain": [
       "{'best_params': {'max_depth': 9}, 'best_score': 0.6647300825956518}"
      ]
     },
     "execution_count": 576,
     "metadata": {},
     "output_type": "execute_result"
    }
   ],
   "source": [
    "# Declare indep\n",
    "indep_train8 = indep_train[['time_up', 'year', 'people','just','work','time','til', 'oc', 'don', 'black', 'trump']]\n",
    "indep_test8 = indep_test[['time_up', 'year', 'people','just','work','time','til', 'oc', 'don', 'black', 'trump']]\n",
    "\n",
    "# Gridsearch\n",
    "grid = {'max_depth': np.arange(1,10)}\n",
    "rfc = RandomForestClassifier(random_state=24)\n",
    "\n",
    "get_best_hype(rfc, grid, indep_train8, dep_train)"
   ]
  },
  {
   "cell_type": "markdown",
   "metadata": {},
   "source": [
    "Model + best max_depth"
   ]
  },
  {
   "cell_type": "code",
   "execution_count": 577,
   "metadata": {},
   "outputs": [
    {
     "data": {
      "text/plain": [
       "{'accuracy': 0.5614035087719298,\n",
       " 'pred_mean': 0.7280701754385965,\n",
       " 'score_mean': 0.6229578392621871,\n",
       " 'y_pred_mean': 0.6140350877192983}"
      ]
     },
     "execution_count": 577,
     "metadata": {},
     "output_type": "execute_result"
    }
   ],
   "source": [
    "# chose model and use best max_depth and balance the classes\n",
    "model = RandomForestClassifier(max_depth=9, n_estimators=100, random_state=24)\n",
    "\n",
    "# call function\n",
    "evaluate_model(model, indep_train8, indep_test8, dep_train, dep_test)"
   ]
  },
  {
   "cell_type": "markdown",
   "metadata": {
    "collapsed": true
   },
   "source": [
    "#################################################################################################"
   ]
  },
  {
   "cell_type": "markdown",
   "metadata": {},
   "source": [
    "**time_up + all subreddit dummies**"
   ]
  },
  {
   "cell_type": "markdown",
   "metadata": {},
   "source": [
    "Gridsearch, best max_depth"
   ]
  },
  {
   "cell_type": "code",
   "execution_count": 579,
   "metadata": {},
   "outputs": [
    {
     "data": {
      "text/plain": [
       "{'best_params': {'max_depth': 9}, 'best_score': 0.7035382791955258}"
      ]
     },
     "execution_count": 579,
     "metadata": {},
     "output_type": "execute_result"
    }
   ],
   "source": [
    "# Declare indep\n",
    "# don't forget to drop a subreddit\n",
    "indep_train6 = indep_trainS.drop(['comments', 'title', 'subreddit','r/gifs'], axis=1)\n",
    "indep_test6 = indep_testS.drop(['comments', 'title', 'subreddit', 'r/gifs'], axis=1)\n",
    "\n",
    "# Gridsearch\n",
    "grid = {'max_depth': np.arange(1,10)}\n",
    "rfc = RandomForestClassifier(n_estimators=100, random_state=24)\n",
    "\n",
    "get_best_hype(rfc, grid, indep_train6, dep_train)"
   ]
  },
  {
   "cell_type": "markdown",
   "metadata": {},
   "source": [
    "Model + best max_depth"
   ]
  },
  {
   "cell_type": "code",
   "execution_count": 580,
   "metadata": {},
   "outputs": [
    {
     "data": {
      "text/plain": [
       "{'accuracy': 0.5877192982456141,\n",
       " 'pred_mean': 0.9385964912280702,\n",
       " 'score_mean': 0.6150527009222662,\n",
       " 'y_pred_mean': 0.6754385964912281}"
      ]
     },
     "execution_count": 580,
     "metadata": {},
     "output_type": "execute_result"
    }
   ],
   "source": [
    "# chose model and use best max_depth\n",
    "model = RandomForestClassifier(max_depth=9, n_estimators=100, random_state=24)\n",
    "\n",
    "# call function\n",
    "evaluate_model(model, indep_train6, indep_test6, dep_train, dep_test)"
   ]
  },
  {
   "cell_type": "markdown",
   "metadata": {},
   "source": [
    "**What are the 10 most important features and what subreddits the features correspond to?**<BR />"
   ]
  },
  {
   "cell_type": "code",
   "execution_count": 581,
   "metadata": {},
   "outputs": [
    {
     "data": {
      "text/plain": [
       "time_up                 0.216194\n",
       "r/rarepuppers           0.024371\n",
       "r/offlineTV             0.021549\n",
       "r/FortNiteBR            0.020731\n",
       "r/Art                   0.018438\n",
       "r/videos                0.015929\n",
       "r/worldnews             0.015703\n",
       "r/AskReddit             0.014513\n",
       "r/NYYankees             0.013638\n",
       "r/dragonballfighterz    0.012301\n",
       "r/baseball              0.011807\n",
       "dtype: float64"
      ]
     },
     "execution_count": 581,
     "metadata": {},
     "output_type": "execute_result"
    }
   ],
   "source": [
    "# Look at the feature importance\n",
    "pd.Series(dict(zip(indep_train6.columns,model.feature_importances_))).abs().sort_values(ascending=False).head(11)"
   ]
  },
  {
   "cell_type": "code",
   "execution_count": 582,
   "metadata": {},
   "outputs": [
    {
     "data": {
      "text/plain": [
       "<matplotlib.axes._subplots.AxesSubplot at 0x1a0dcf8198>"
      ]
     },
     "execution_count": 582,
     "metadata": {},
     "output_type": "execute_result"
    },
    {
     "data": {
      "image/png": "[encoded data removed]",
      "text/plain": [
       "<matplotlib.figure.Figure at 0x1a0dce9b70>"
      ]
     },
     "metadata": {},
     "output_type": "display_data"
    }
   ],
   "source": [
    "# Look at the feature importance in a plot\n",
    "pd.Series(dict(zip(indep_train6.columns,model.feature_importances_))).abs().sort_values(ascending=False).head(11).plot(kind='barh')"
   ]
  },
  {
   "cell_type": "code",
   "execution_count": 295,
   "metadata": {
    "collapsed": true
   },
   "outputs": [],
   "source": [
    "#########"
   ]
  },
  {
   "cell_type": "markdown",
   "metadata": {},
   "source": [
    "**time_up + 10 most important subreddits from feature importance test**"
   ]
  },
  {
   "cell_type": "markdown",
   "metadata": {},
   "source": [
    "Gridsearch, best max_depth"
   ]
  },
  {
   "cell_type": "code",
   "execution_count": 587,
   "metadata": {},
   "outputs": [
    {
     "data": {
      "text/plain": [
       "{'best_params': {'max_depth': 8}, 'best_score': 0.7355660394829437}"
      ]
     },
     "execution_count": 587,
     "metadata": {},
     "output_type": "execute_result"
    }
   ],
   "source": [
    "# Declare indep\n",
    "indep_train12 = indep_train[['time_up','r/rarepuppers', 'r/offlineTV','r/FortNiteBR','r/Art', 'r/videos','r/worldnews','r/AskReddit', 'r/NYYankees','r/dragonballfighterz','r/baseball']]\n",
    "indep_test12 = indep_test[['time_up','r/rarepuppers', 'r/offlineTV','r/FortNiteBR','r/Art', 'r/videos','r/worldnews','r/AskReddit', 'r/NYYankees','r/dragonballfighterz','r/baseball']]\n",
    "\n",
    "# Vridsearch\n",
    "grid = {'max_depth': np.arange(1,10)}\n",
    "rfc = RandomForestClassifier(n_estimators=100, random_state=24)\n",
    "\n",
    "get_best_hype(rfc, grid, indep_train12, dep_train)"
   ]
  },
  {
   "cell_type": "markdown",
   "metadata": {},
   "source": [
    "Model + best max_depth"
   ]
  },
  {
   "cell_type": "code",
   "execution_count": 588,
   "metadata": {},
   "outputs": [
    {
     "data": {
      "text/plain": [
       "{'accuracy': 0.5877192982456141,\n",
       " 'pred_mean': 0.6842105263157895,\n",
       " 'score_mean': 0.6407444005270092,\n",
       " 'y_pred_mean': 0.6754385964912281}"
      ]
     },
     "execution_count": 588,
     "metadata": {},
     "output_type": "execute_result"
    }
   ],
   "source": [
    "# chose model and use best max_depth\n",
    "model = RandomForestClassifier(max_depth=8, n_estimators=100, random_state=24)\n",
    "\n",
    "# call function\n",
    "evaluate_model(model, indep_train12, indep_test12, dep_train, dep_test)"
   ]
  },
  {
   "cell_type": "markdown",
   "metadata": {
    "collapsed": true
   },
   "source": [
    "#################"
   ]
  },
  {
   "cell_type": "markdown",
   "metadata": {},
   "source": [
    "** time_up + top 10 subreddit dummies**"
   ]
  },
  {
   "cell_type": "markdown",
   "metadata": {},
   "source": [
    "Gridsearch, best max_depth"
   ]
  },
  {
   "cell_type": "code",
   "execution_count": 589,
   "metadata": {},
   "outputs": [
    {
     "data": {
      "text/plain": [
       "{'best_params': {'max_depth': 3}, 'best_score': 0.6900885217971037}"
      ]
     },
     "execution_count": 589,
     "metadata": {},
     "output_type": "execute_result"
    }
   ],
   "source": [
    "# Declare indep\n",
    "indep_train10 = indep_train[['time_up', 'r/pics', 'r/aww','r/funny','r/FortNiteBR','r/BlackPeopleTwitter','r/todayilearned', 'r/rupaulsdragrace', 'r/marvelstudios', 'r/food', 'r/rarepuppers']]\n",
    "indep_test10 = indep_test[['time_up', 'r/pics', 'r/aww','r/funny','r/FortNiteBR','r/BlackPeopleTwitter','r/todayilearned', 'r/rupaulsdragrace', 'r/marvelstudios', 'r/food', 'r/rarepuppers']]\n",
    "\n",
    "# Gridsearch\n",
    "grid = {'max_depth': np.arange(1,10)}\n",
    "rfc = RandomForestClassifier(n_estimators=100, random_state=24)\n",
    "\n",
    "get_best_hype(rfc, grid, indep_train10, dep_train)"
   ]
  },
  {
   "cell_type": "markdown",
   "metadata": {},
   "source": [
    "Model + best max_depth"
   ]
  },
  {
   "cell_type": "code",
   "execution_count": 591,
   "metadata": {},
   "outputs": [
    {
     "data": {
      "text/plain": [
       "{'accuracy': 0.5701754385964912,\n",
       " 'pred_mean': 0.7368421052631579,\n",
       " 'score_mean': 0.6324440052700921,\n",
       " 'y_pred_mean': 0.6578947368421053}"
      ]
     },
     "execution_count": 591,
     "metadata": {},
     "output_type": "execute_result"
    }
   ],
   "source": [
    "# chose model and use best max_depth\n",
    "model = RandomForestClassifier(max_depth=3, n_estimators=100, random_state=24)\n",
    "\n",
    "# call function\n",
    "evaluate_model(model, indep_train10, indep_test10, dep_train, dep_test)"
   ]
  },
  {
   "cell_type": "markdown",
   "metadata": {
    "collapsed": true
   },
   "source": [
    "##################################################################################"
   ]
  },
  {
   "cell_type": "markdown",
   "metadata": {},
   "source": [
    "**time_up + 10 most important words and 10 most important subreddits from feature importance test**"
   ]
  },
  {
   "cell_type": "markdown",
   "metadata": {},
   "source": [
    "Gridsearch, best max_depth"
   ]
  },
  {
   "cell_type": "code",
   "execution_count": 593,
   "metadata": {},
   "outputs": [
    {
     "data": {
      "text/plain": [
       "{'best_params': {'max_depth': 7}, 'best_score': 0.7349944442386755}"
      ]
     },
     "execution_count": 593,
     "metadata": {},
     "output_type": "execute_result"
    }
   ],
   "source": [
    "# Declare indep and dep\n",
    "indep_train16 = indep_train[['time_up','sad', 'way','better','fresh', 'brain','human','gunpoint', 'hero','correct','paint',\n",
    "                             'r/rarepuppers', 'r/offlineTV','r/FortNiteBR','r/Art', 'r/videos','r/worldnews','r/AskReddit', 'r/NYYankees','r/dragonballfighterz','r/baseball']]\n",
    "indep_test16 = indep_test[['time_up','sad', 'way','better','fresh', 'brain','human','gunpoint', 'hero','correct','paint',\n",
    "                             'r/rarepuppers', 'r/offlineTV','r/FortNiteBR','r/Art', 'r/videos','r/worldnews','r/AskReddit', 'r/NYYankees','r/dragonballfighterz','r/baseball']]\n",
    "dep_train16 = dep_train\n",
    "dep_test16 = dep_test\n",
    "\n",
    "# Gridsearch\n",
    "grid = {'max_depth': np.arange(1,10)}\n",
    "rfc = RandomForestClassifier(n_estimators=100, random_state=24)\n",
    "\n",
    "get_best_hype(rfc, grid, indep_train16, dep_train16)"
   ]
  },
  {
   "cell_type": "markdown",
   "metadata": {},
   "source": [
    "Model + best max_depth"
   ]
  },
  {
   "cell_type": "code",
   "execution_count": 594,
   "metadata": {},
   "outputs": [
    {
     "data": {
      "text/plain": [
       "{'accuracy': 0.5964912280701754,\n",
       " 'pred_mean': 0.6842105263157895,\n",
       " 'score_mean': 0.6407444005270092,\n",
       " 'y_pred_mean': 0.6666666666666666}"
      ]
     },
     "execution_count": 594,
     "metadata": {},
     "output_type": "execute_result"
    }
   ],
   "source": [
    "# chose model and use best max_depth\n",
    "model = RandomForestClassifier(max_depth=7, n_estimators=100, random_state=24)\n",
    "\n",
    "# call function\n",
    "evaluate_model(model, indep_train16, indep_test16, dep_train16, dep_test16)"
   ]
  },
  {
   "cell_type": "markdown",
   "metadata": {},
   "source": [
    "**time_up + 5 most important words and 5 most important subreddits from feature importance test**"
   ]
  },
  {
   "cell_type": "code",
   "execution_count": 595,
   "metadata": {},
   "outputs": [
    {
     "data": {
      "text/plain": [
       "{'best_params': {'max_depth': 8}, 'best_score': 0.7220572058224377}"
      ]
     },
     "execution_count": 595,
     "metadata": {},
     "output_type": "execute_result"
    }
   ],
   "source": [
    "# Declare indep and dep\n",
    "indep_train24 = indep_train[['time_up','sad', 'way','better','fresh', 'brain',\n",
    "                             'r/rarepuppers', 'r/offlineTV','r/FortNiteBR','r/Art', 'r/videos']]\n",
    "indep_test24 = indep_test[['time_up','sad', 'way','better','fresh', 'brain',\n",
    "                             'r/rarepuppers', 'r/offlineTV','r/FortNiteBR','r/Art', 'r/videos']]\n",
    "dep_train24 = dep_train\n",
    "dep_test24 = dep_test\n",
    "\n",
    "# Gridsearch\n",
    "grid = {'max_depth': np.arange(1,10)}\n",
    "rfc = RandomForestClassifier(n_estimators=100, random_state=24)\n",
    "\n",
    "get_best_hype(rfc, grid, indep_train24, dep_train24)"
   ]
  },
  {
   "cell_type": "markdown",
   "metadata": {},
   "source": [
    "Model + best max_depth"
   ]
  },
  {
   "cell_type": "code",
   "execution_count": 596,
   "metadata": {},
   "outputs": [
    {
     "data": {
      "text/plain": [
       "{'accuracy': 0.5789473684210527,\n",
       " 'pred_mean': 0.6842105263157895,\n",
       " 'score_mean': 0.61465744400527,\n",
       " 'y_pred_mean': 0.6491228070175439}"
      ]
     },
     "execution_count": 596,
     "metadata": {},
     "output_type": "execute_result"
    }
   ],
   "source": [
    "# chose model and use best max_depth\n",
    "model = RandomForestClassifier(max_depth=8, n_estimators=100, random_state=24)\n",
    "\n",
    "# call function\n",
    "evaluate_model(model, indep_train24, indep_test24, dep_train24, dep_test24)"
   ]
  },
  {
   "cell_type": "markdown",
   "metadata": {
    "collapsed": true
   },
   "source": [
    "#### Try with just one each"
   ]
  },
  {
   "cell_type": "code",
   "execution_count": 597,
   "metadata": {},
   "outputs": [
    {
     "data": {
      "text/plain": [
       "{'best_params': {'max_depth': 4}, 'best_score': 0.6912431941923775}"
      ]
     },
     "execution_count": 597,
     "metadata": {},
     "output_type": "execute_result"
    }
   ],
   "source": [
    "# Declare indep and dep\n",
    "indep_train28 = indep_train[['time_up','life','r/goddesses']]\n",
    "indep_test28 = indep_test[['time_up','life','r/goddesses']]\n",
    "dep_train28 = dep_train\n",
    "dep_test28 = dep_test\n",
    "\n",
    "# Gridsearch\n",
    "grid = {'max_depth': np.arange(1,10)}\n",
    "rfc = RandomForestClassifier(n_estimators=100, random_state=24)\n",
    "\n",
    "get_best_hype(rfc, grid, indep_train28, dep_train28)"
   ]
  },
  {
   "cell_type": "code",
   "execution_count": 598,
   "metadata": {},
   "outputs": [
    {
     "data": {
      "text/plain": [
       "{'accuracy': 0.5701754385964912,\n",
       " 'pred_mean': 0.6842105263157895,\n",
       " 'score_mean': 0.5964756258234518,\n",
       " 'y_pred_mean': 0.6578947368421053}"
      ]
     },
     "execution_count": 598,
     "metadata": {},
     "output_type": "execute_result"
    }
   ],
   "source": [
    "# chose model and use best max_depth\n",
    "model = RandomForestClassifier(max_depth=4, n_estimators=100, random_state=24)\n",
    "\n",
    "# call function\n",
    "evaluate_model(model, indep_train28, indep_test28, dep_train28, dep_test28)"
   ]
  },
  {
   "cell_type": "markdown",
   "metadata": {
    "collapsed": true
   },
   "source": [
    "### BEST RF Model"
   ]
  },
  {
   "cell_type": "markdown",
   "metadata": {},
   "source": [
    "**time_up + 10 most important words and 10 most important subreddits **"
   ]
  },
  {
   "cell_type": "markdown",
   "metadata": {},
   "source": [
    "Model + best max_depth"
   ]
  },
  {
   "cell_type": "code",
   "execution_count": 599,
   "metadata": {},
   "outputs": [
    {
     "data": {
      "text/plain": [
       "{'accuracy': 0.5964912280701754,\n",
       " 'pred_mean': 0.6842105263157895,\n",
       " 'score_mean': 0.6407444005270092,\n",
       " 'y_pred_mean': 0.6666666666666666}"
      ]
     },
     "execution_count": 599,
     "metadata": {},
     "output_type": "execute_result"
    }
   ],
   "source": [
    "# chose model and use best max_depth\n",
    "model = RandomForestClassifier(max_depth=7, n_estimators=100, random_state=24)\n",
    "\n",
    "# call function\n",
    "evaluate_model(model, indep_train16, indep_test16, dep_train16, dep_test16)"
   ]
  },
  {
   "cell_type": "markdown",
   "metadata": {
    "collapsed": true
   },
   "source": [
    "### Is model OVERFITTED?"
   ]
  },
  {
   "cell_type": "code",
   "execution_count": 600,
   "metadata": {
    "collapsed": true
   },
   "outputs": [],
   "source": [
    "# make a loop and look att different numbers of C \n",
    "scores_test = []\n",
    "scores_train = []\n",
    "c_list = []\n",
    "\n",
    "for i in range(0,20):\n",
    "    c = (i+0.001)/10\n",
    "    clf = LogisticRegression(C = c, random_state = 42)\n",
    "    clf.fit(indep_train16, dep_train16)\n",
    "    clf.score(indep_test16, dep_test16)\n",
    "\n",
    "    c_list.append(c)\n",
    "    scores_train.append(clf.score(indep_train16, dep_train16))\n",
    "    scores_test.append(clf.score(indep_test16, dep_test16))"
   ]
  },
  {
   "cell_type": "code",
   "execution_count": 601,
   "metadata": {},
   "outputs": [
    {
     "data": {
      "text/plain": [
       "<matplotlib.legend.Legend at 0x1a0d2fa978>"
      ]
     },
     "execution_count": 601,
     "metadata": {},
     "output_type": "execute_result"
    },
    {
     "data": {
      "image/png": "[encoded data removed]",
      "text/plain": [
       "<matplotlib.figure.Figure at 0x1a0cf55a20>"
      ]
     },
     "metadata": {},
     "output_type": "display_data"
    }
   ],
   "source": [
    "# visualize the data in learning curves \n",
    "plt.plot(c_list, scores_test, label='Test scores')\n",
    "plt.plot(c_list, scores_train, label='Train scores')\n",
    "plt.xlabel('max_depth')\n",
    "plt.ylabel('Accuracy')\n",
    "plt.legend()"
   ]
  },
  {
   "cell_type": "markdown",
   "metadata": {
    "collapsed": true
   },
   "source": [
    "### Best model new max_depth (look at the plot)"
   ]
  },
  {
   "cell_type": "code",
   "execution_count": null,
   "metadata": {
    "collapsed": true
   },
   "outputs": [],
   "source": [
    "# chose model and use best max_depth\n",
    "model = RandomForestClassifier(max_depth=1, n_estimators=100, random_state=24)\n",
    "\n",
    "# call function\n",
    "evaluate_model(model, indep_train16, indep_test16, dep_train16, dep_test16)"
   ]
  },
  {
   "cell_type": "code",
   "execution_count": null,
   "metadata": {
    "collapsed": true
   },
   "outputs": [],
   "source": [
    "# the accuracy is not improving if max_depth is changed"
   ]
  },
  {
   "cell_type": "markdown",
   "metadata": {},
   "source": [
    "# Conclusion\n",
    "---\n",
    "LogReg time_up + all subreddit dummies gave the best accuracy score. And in the end if you look at how the model is overfitting and change the hyperparameter C. The model is not that overfitted. \n",
    "The model give you an accuracy score of 0.6578947368421053."
   ]
  },
  {
   "cell_type": "code",
   "execution_count": null,
   "metadata": {
    "collapsed": true
   },
   "outputs": [],
   "source": []
  }
 ],
 "metadata": {
  "anaconda-cloud": {},
  "kernelspec": {
   "display_name": "Python [default]",
   "language": "python",
   "name": "python3"
  },
  "language_info": {
   "codemirror_mode": {
    "name": "ipython",
    "version": 3
   },
   "file_extension": ".py",
   "mimetype": "text/x-python",
   "name": "python",
   "nbconvert_exporter": "python",
   "pygments_lexer": "ipython3",
   "version": "3.6.3"
  },
  "varInspector": {
   "cols": {
    "lenName": 16,
    "lenType": 16,
    "lenVar": 40
   },
   "kernels_config": {
    "python": {
     "delete_cmd_postfix": "",
     "delete_cmd_prefix": "del ",
     "library": "var_list.py",
     "varRefreshCmd": "print(var_dic_list())"
    },
    "r": {
     "delete_cmd_postfix": ") ",
     "delete_cmd_prefix": "rm(",
     "library": "var_list.r",
     "varRefreshCmd": "cat(var_dic_list()) "
    }
   },
   "types_to_exclude": [
    "module",
    "function",
    "builtin_function_or_method",
    "instance",
    "_Feature"
   ],
   "window_display": false
  }
 },
 "nbformat": 4,
 "nbformat_minor": 1
}
